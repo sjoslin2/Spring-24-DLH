{
  "nbformat": 4,
  "nbformat_minor": 0,
  "metadata": {
    "colab": {
      "provenance": [],
      "gpuType": "T4"
    },
    "kernelspec": {
      "name": "python3",
      "display_name": "Python 3"
    },
    "language_info": {
      "name": "python"
    },
    "accelerator": "GPU"
  },
  "cells": [
    {
      "cell_type": "markdown",
      "source": [
        "# Introduction\n",
        "This is a draft report for the final course project.\n",
        "\n",
        "- **Team 97:** Cody Talmadge(codytt2@illinois.edu), Seth Joslin (sjoslin2@illnois.edu), and Sree Alaparthi (sa68@illinois.edu)\n",
        "- **Paper 33 - ScoEHR**: Generating Synthetic Electronic Health Records using Continuous-time Diffusion Models[1]\n",
        "- **Github:** [https://github.com/sjoslin2/Spring-24-DLH](https://github.com/sjoslin2/Spring-24-DLH)\n",
        "\n",
        "\n",
        "*   **Background of the problem**\n",
        "\n",
        "    Patient health data, mainly kept in electronic health records (EHRs), plays a crucial role in the healthcare sector, with its increase in usage rates in hospitals across both the US and UK. EHRs include both structured and unstructured data, from patient demographics to medical images, enabling extensive analysis to unveil disease progression and health trends. Leveraging EHRs, predictive and prescriptive machine learning models have revolutionized patient care, predicting outcomes and disease severity with high accuracy. However, sharing EHRs remains constrained by regulatory frameworks like HIPAA and GDPR, compounded by challenges in aggregating EHRs due to varying standards and policies. Synthetic data generation offers a solution, addressing access and bias issues. However, generating synthetic EHRs is complex due to high dimensionality and data heterogeneity. While  generative Adversarial Networks (GANs) have been popular, they face challenges like mode collapse and unstable training. Recently, diffusion models have emerged as promising alternatives, offering stable training and high-fidelity data synthesis, making them ideal for synthetic EHR generation.\n",
        "\n",
        "\n",
        "*   **Paper explanation**\n",
        "\n",
        "    This paper introduces ScoEHR, a synthetic EHR generation framework employing continuous-time diffusion models. ScoEHR combines an autoencoder with a continuous-time diffusion model.The ScoEHR transforms real data into a low-dimensional space through an encoder from a pre-trained autoencoder. Within this low-dimensional space, a forward stochastic differential equation (SDE) diffuses the data. Subsequently, a reverse SDE is learned and applied to generate new synthetic data. This synthetic data is then transformed using the decoder from the autoencoder to produce the final synthetic EHR data.\n",
        "    ScoEHR was compared to medGAN, medWGAN, and medBGAN using the following four performance metrics of data generation utility:\n",
        "     \n",
        "    *   Preservation of feature marginal relationships,\n",
        "    *   Preservation of feature correlations,\n",
        "    *   Preservation of full feature distribution using log-clusters,\n",
        "    *   Synthetic data performance in downstream predictions of patient outcomes.\n",
        "\n",
        "    Additionally, Physician evaluation confirms its realism, establishing ScoEHR as the current state-of-the-art in synthetic EHR generation."
      ],
      "metadata": {
        "id": "MQ0sNuMePBXx"
      }
    },
    {
      "cell_type": "markdown",
      "source": [
        "# Scope of Reproducibility:\n",
        "There are two central hypotheses that were tested as a part of this paper: ScoEHR produces higher-quality synthetic data than the previously-leading synthetic EHR models and United States board-certified physicians cannot differentiate between the synthetic data produced by ScoEHR and real EHR data.\n",
        "\n",
        "\n",
        "1.   **Hypothesis 1:**\n",
        " - **Hypothesis:** The first hypothesis was tested by comparing ScoEHR against the three-leading synthetic EHR models (medGAN [2], medWGAN [3], and medBGAN[3]) on four key areas: preservation of feature marginal relationships, preservation of feature correlations, preservation of full feature distributing using log-clusters, and synthetic data performance in downstream predictions of patient outcomes.\n",
        " - **Scope of Reproducibility:** We made an initial attempt to partially replicate the aforementioned hypothesis using the MIMIC-III dataset, however, the outcomes are not same as the results provided in the paper. We are committed to further refining our approach to improve the consistency of results.\n",
        "\n",
        "2.   **Hypothesis 2:**\n",
        " - **Hypothesis:** The second hypothesis was tested by presenting both synthetic and real EHR data to physicians and asking them to identify the “real” data. By looking at what portion of synthetic data they identified as “real” and comparing it with the portion of real data they identified as “real” the authors were able to determine that physicians were not able to tell the difference between the synthetic and real data.\n",
        " - **Scope of Reproducibility:** This hypothesis might be unfeasible without real doctors available to validate the authenticity of synthetic records."
      ],
      "metadata": {
        "id": "uygL9tTPSVHB"
      }
    },
    {
      "cell_type": "markdown",
      "source": [
        "# Methodology\n",
        "\n",
        "The Methodology section consists of 5 sub-sections:\n",
        "- Setup\n",
        "- Data\n",
        "- Model\n",
        "- Training\n",
        "- Generate Synthetic Data\n",
        "- Evaluation\n",
        "\n",
        "For each sub-section, a description/explanation of that sub-section is given as well as implementation code."
      ],
      "metadata": {
        "id": "xWAHJ_1CdtaA"
      }
    },
    {
      "cell_type": "markdown",
      "source": [
        "##Setup\n",
        "###Manual Setup Needed\n",
        "In order to run this notebook, you will need to:\n",
        "1. Ensure that you downloaded it from the [github repository](https://github.com/sjoslin2/Spring-24-DLH).  This means that you should see the following folders:\n",
        " - `./mimic/` - Empty folder where you need to manually add the MIMIC-III data files (detailed instructions in Data sub-section).\n",
        " - `./saved_models/` - This is where the saved Autoencoder and Score Net model parametres live.  Training these models from scratch instead requires ~30 minutes of GPU time.\n",
        " - `./stats/` - This contains stats information around the model training.  If you train these models from scratch then your model trainings stats are displayed instead.\n",
        " - `./generated_data/` - This contains synthetic data generated by the model.  If you want to generate your own synthetic data you'll need ~30 minutes of GPU time.\n",
        "2. Ensure you have added the MIMIC-III data files into the `./mimic/` folder (detailed instructions in the Data sub-section).\n",
        "\n",
        "###Setup Code\n",
        "The setup section installs all required modules and imports them for later use."
      ],
      "metadata": {
        "id": "BPvMd8DMR3En"
      }
    },
    {
      "cell_type": "code",
      "source": [
        "!pip install torchsde"
      ],
      "metadata": {
        "id": "yu61Jp1xrnKk",
        "colab": {
          "base_uri": "https://localhost:8080/",
          "height": 0
        },
        "outputId": "456aff41-64cb-4d2b-8c18-3ae8cb4bfb01"
      },
      "execution_count": 8,
      "outputs": [
        {
          "output_type": "stream",
          "name": "stdout",
          "text": [
            "Requirement already satisfied: torchsde in /usr/local/lib/python3.10/dist-packages (0.2.6)\n",
            "Requirement already satisfied: numpy>=1.19 in /usr/local/lib/python3.10/dist-packages (from torchsde) (1.25.2)\n",
            "Requirement already satisfied: scipy>=1.5 in /usr/local/lib/python3.10/dist-packages (from torchsde) (1.11.4)\n",
            "Requirement already satisfied: torch>=1.6.0 in /usr/local/lib/python3.10/dist-packages (from torchsde) (2.2.1+cu121)\n",
            "Requirement already satisfied: trampoline>=0.1.2 in /usr/local/lib/python3.10/dist-packages (from torchsde) (0.1.2)\n",
            "Requirement already satisfied: filelock in /usr/local/lib/python3.10/dist-packages (from torch>=1.6.0->torchsde) (3.13.4)\n",
            "Requirement already satisfied: typing-extensions>=4.8.0 in /usr/local/lib/python3.10/dist-packages (from torch>=1.6.0->torchsde) (4.11.0)\n",
            "Requirement already satisfied: sympy in /usr/local/lib/python3.10/dist-packages (from torch>=1.6.0->torchsde) (1.12)\n",
            "Requirement already satisfied: networkx in /usr/local/lib/python3.10/dist-packages (from torch>=1.6.0->torchsde) (3.3)\n",
            "Requirement already satisfied: jinja2 in /usr/local/lib/python3.10/dist-packages (from torch>=1.6.0->torchsde) (3.1.3)\n",
            "Requirement already satisfied: fsspec in /usr/local/lib/python3.10/dist-packages (from torch>=1.6.0->torchsde) (2023.6.0)\n",
            "Requirement already satisfied: nvidia-cuda-nvrtc-cu12==12.1.105 in /usr/local/lib/python3.10/dist-packages (from torch>=1.6.0->torchsde) (12.1.105)\n",
            "Requirement already satisfied: nvidia-cuda-runtime-cu12==12.1.105 in /usr/local/lib/python3.10/dist-packages (from torch>=1.6.0->torchsde) (12.1.105)\n",
            "Requirement already satisfied: nvidia-cuda-cupti-cu12==12.1.105 in /usr/local/lib/python3.10/dist-packages (from torch>=1.6.0->torchsde) (12.1.105)\n",
            "Requirement already satisfied: nvidia-cudnn-cu12==8.9.2.26 in /usr/local/lib/python3.10/dist-packages (from torch>=1.6.0->torchsde) (8.9.2.26)\n",
            "Requirement already satisfied: nvidia-cublas-cu12==12.1.3.1 in /usr/local/lib/python3.10/dist-packages (from torch>=1.6.0->torchsde) (12.1.3.1)\n",
            "Requirement already satisfied: nvidia-cufft-cu12==11.0.2.54 in /usr/local/lib/python3.10/dist-packages (from torch>=1.6.0->torchsde) (11.0.2.54)\n",
            "Requirement already satisfied: nvidia-curand-cu12==10.3.2.106 in /usr/local/lib/python3.10/dist-packages (from torch>=1.6.0->torchsde) (10.3.2.106)\n",
            "Requirement already satisfied: nvidia-cusolver-cu12==11.4.5.107 in /usr/local/lib/python3.10/dist-packages (from torch>=1.6.0->torchsde) (11.4.5.107)\n",
            "Requirement already satisfied: nvidia-cusparse-cu12==12.1.0.106 in /usr/local/lib/python3.10/dist-packages (from torch>=1.6.0->torchsde) (12.1.0.106)\n",
            "Requirement already satisfied: nvidia-nccl-cu12==2.19.3 in /usr/local/lib/python3.10/dist-packages (from torch>=1.6.0->torchsde) (2.19.3)\n",
            "Requirement already satisfied: nvidia-nvtx-cu12==12.1.105 in /usr/local/lib/python3.10/dist-packages (from torch>=1.6.0->torchsde) (12.1.105)\n",
            "Requirement already satisfied: triton==2.2.0 in /usr/local/lib/python3.10/dist-packages (from torch>=1.6.0->torchsde) (2.2.0)\n",
            "Requirement already satisfied: nvidia-nvjitlink-cu12 in /usr/local/lib/python3.10/dist-packages (from nvidia-cusolver-cu12==11.4.5.107->torch>=1.6.0->torchsde) (12.4.127)\n",
            "Requirement already satisfied: MarkupSafe>=2.0 in /usr/local/lib/python3.10/dist-packages (from jinja2->torch>=1.6.0->torchsde) (2.1.5)\n",
            "Requirement already satisfied: mpmath>=0.19 in /usr/local/lib/python3.10/dist-packages (from sympy->torch>=1.6.0->torchsde) (1.3.0)\n"
          ]
        }
      ]
    },
    {
      "cell_type": "code",
      "source": [
        "import torch\n",
        "import os\n",
        "import tqdm\n",
        "import math\n",
        "import time\n",
        "import torchsde\n",
        "\n",
        "import numpy as np\n",
        "import torch.nn.functional as F\n",
        "import _pickle as pickle\n",
        "\n",
        "from torch import nn\n",
        "from torch.utils.data import DataLoader\n",
        "from torch.nn.init import _calculate_fan_in_and_fan_out\n",
        "from torch.optim import lr_scheduler\n",
        "from sklearn.model_selection import train_test_split\n",
        "from datetime import datetime\n",
        "from matplotlib import pyplot\n",
        "import matplotlib.pyplot as plt\n",
        "\n",
        "device = \"cuda\" if torch.cuda.is_available() else \"cpu\""
      ],
      "metadata": {
        "id": "1WjJgWYLZl2g"
      },
      "execution_count": 9,
      "outputs": []
    },
    {
      "cell_type": "markdown",
      "source": [
        "##  Data\n",
        "We are using MIMIC-III dataset from physionet -> https://physionet.org/content/mimiciii/1.4/.\n",
        "\n",
        "Please follow the instructions in piazza post #338 to access the MIMIC-III dataset. Download and decompress the following two csv files and place them in the `./mimic` folder:\n",
        "- `ADMISSIONS.csv`\n",
        "- `DIAGNOSES_ICD.csv`\n",
        "\n",
        "The code below converts the MIMIC-III data set into a .matrix file that consists of one row per patient and one column per ICD code (treated later as features).  Each row has a `1` in the column if that patient EHR has that column's ICD code in at least one of their visits, and a `0` in the column if that patient's EHR never shows the ICD code in any visits.\n",
        "\n",
        "Set `generate_matrix_file = True` (default) to generate the preprocessed `.matrix` file required for training the model and/or comparing the real and synthetic data)."
      ],
      "metadata": {
        "id": "2NbPHUTMbkD3"
      }
    },
    {
      "cell_type": "code",
      "execution_count": 10,
      "metadata": {
        "id": "BZScZNbROw-N",
        "colab": {
          "base_uri": "https://localhost:8080/",
          "height": 0
        },
        "outputId": "9256eff9-f1d2-4983-dd2d-dedeb44620e6"
      },
      "outputs": [
        {
          "output_type": "stream",
          "name": "stdout",
          "text": [
            "Building pid-admission mapping, admission-date mapping\n",
            "Building admission-dxList mapping\n",
            "Building pid-sortedVisits mapping\n",
            "Building pids, dates, strSeqs\n",
            "Converting strSeqs to intSeqs, and making types\n",
            "Constructing the matrix\n",
            "Matrix construction complete\n"
          ]
        }
      ],
      "source": [
        "# Modified from: https://github.com/mp2893/medgan/blob/master/process_mimic.py\n",
        "\n",
        "generate_matrix_file = True\n",
        "\n",
        "admissionFile = './mimic/ADMISSIONS.csv'\n",
        "diagnosisFile = './mimic/DIAGNOSES_ICD.csv'\n",
        "outFile = './mimic/mimic_processed_choi.matrix'\n",
        "\n",
        "def convert_to_icd9(dxStr):\n",
        "    if dxStr.startswith('E'):\n",
        "        if len(dxStr) > 4: return dxStr[:4] + '.' + dxStr[4:]\n",
        "        else: return dxStr\n",
        "    else:\n",
        "        if len(dxStr) > 3: return dxStr[:3] + '.' + dxStr[3:]\n",
        "        else: return dxStr\n",
        "\n",
        "if generate_matrix_file:\n",
        "    binary_count = 'binary'\n",
        "\n",
        "    print('Building pid-admission mapping, admission-date mapping')\n",
        "    pidAdmMap = {}\n",
        "    admDateMap = {}\n",
        "    infd = open(admissionFile, 'r')\n",
        "    infd.readline()\n",
        "    for line in infd:\n",
        "        tokens = line.strip().split(',')\n",
        "        pid = int(tokens[1])\n",
        "        admId = int(tokens[2])\n",
        "        admTime = datetime.strptime(tokens[3], '%Y-%m-%d %H:%M:%S')\n",
        "        admDateMap[admId] = admTime\n",
        "        if pid in pidAdmMap: pidAdmMap[pid].append(admId)\n",
        "        else: pidAdmMap[pid] = [admId]\n",
        "    infd.close()\n",
        "\n",
        "    print('Building admission-dxList mapping')\n",
        "    admDxMap = {}\n",
        "    infd = open(diagnosisFile, 'r')\n",
        "    infd.readline()\n",
        "    for line in infd:\n",
        "        tokens = line.strip().split(',')\n",
        "        admId = int(tokens[2])\n",
        "        # Uncomment this line and comment the line below, if you want to use the entire ICD9 digits.\n",
        "        dxStr = 'D_' + convert_to_icd9(tokens[4][1:-1])\n",
        "        #dxStr = 'D_' + convert_to_3digit_icd9(tokens[4][1:-1])\n",
        "        if admId in admDxMap: admDxMap[admId].append(dxStr)\n",
        "        else: admDxMap[admId] = [dxStr]\n",
        "    infd.close()\n",
        "\n",
        "    print('Building pid-sortedVisits mapping')\n",
        "    pidSeqMap = {}\n",
        "    for pid, admIdList in pidAdmMap.items():\n",
        "        #if len(admIdList) < 2: continue\n",
        "        sortedList = sorted([(admDateMap[admId], admDxMap[admId]) for admId in admIdList])\n",
        "        pidSeqMap[pid] = sortedList\n",
        "\n",
        "    print('Building pids, dates, strSeqs')\n",
        "    pids = []\n",
        "    dates = []\n",
        "    seqs = []\n",
        "    for pid, visits in pidSeqMap.items():\n",
        "        pids.append(pid)\n",
        "        seq = []\n",
        "        date = []\n",
        "        for visit in visits:\n",
        "            date.append(visit[0])\n",
        "            seq.append(visit[1])\n",
        "        dates.append(date)\n",
        "        seqs.append(seq)\n",
        "\n",
        "    print('Converting strSeqs to intSeqs, and making types')\n",
        "    types = {}\n",
        "    newSeqs = []\n",
        "    for patient in seqs:\n",
        "        newPatient = []\n",
        "        for visit in patient:\n",
        "            newVisit = []\n",
        "            for code in visit:\n",
        "                if code in types:\n",
        "                    newVisit.append(types[code])\n",
        "                else:\n",
        "                    types[code] = len(types)\n",
        "                    newVisit.append(types[code])\n",
        "            newPatient.append(newVisit)\n",
        "        newSeqs.append(newPatient)\n",
        "\n",
        "    print('Constructing the matrix')\n",
        "    numPatients = len(newSeqs)\n",
        "    numCodes = len(types)\n",
        "    matrix = np.zeros((numPatients, numCodes)).astype('float32')\n",
        "    for i, patient in enumerate(newSeqs):\n",
        "        for visit in patient:\n",
        "            for code in visit:\n",
        "                if binary_count == 'binary':\n",
        "                    matrix[i][code] = 1.\n",
        "                else:\n",
        "                    matrix[i][code] += 1.\n",
        "\n",
        "    pickle.dump(matrix, open(outFile, 'wb'), -1)\n",
        "    print('Matrix construction complete')"
      ]
    },
    {
      "cell_type": "markdown",
      "source": [
        "###Define DataLoader Class\n",
        "Used to create Datasets and Dataloaders to pull data from the generated `.matrix` file"
      ],
      "metadata": {
        "id": "WA2SJRkgJFga"
      }
    },
    {
      "cell_type": "code",
      "source": [
        "# Modified from https://github.com/aanaseer/ScoEHR/blob/main/scoehr/datasets.py\n",
        "\n",
        "class Dataset():\n",
        "    def __init__(self, data_dir, data_file):\n",
        "        pass\n",
        "\n",
        "    def data(self, use_train_test_split=True, test_size=0.30):\n",
        "        if use_train_test_split:\n",
        "            train_data, test_data = train_test_split(\n",
        "                self.dataset_full, test_size=test_size\n",
        "            )\n",
        "            return train_data, test_data\n",
        "        else:\n",
        "            return self.dataset_full\n",
        "\n",
        "class MIMIC3_ICD(Dataset):\n",
        "    def __init__(\n",
        "        self, data_dir=\"mimic\", data_file=\"mimic_processed_choi.matrix\"\n",
        "    ):\n",
        "        \"\"\"Loads the MIMIC-III dataset from the data directory.\"\"\"\n",
        "        data_path = os.path.join(data_dir, data_file)\n",
        "        data = np.load(data_path, allow_pickle=True)\n",
        "        self.dataset_full = torch.from_numpy(data)"
      ],
      "metadata": {
        "id": "1IHV6NFAJSDh"
      },
      "execution_count": 11,
      "outputs": []
    },
    {
      "cell_type": "markdown",
      "source": [
        "### Load the Data\n",
        "Load the `.matrix` file and generated train and test dataloaders."
      ],
      "metadata": {
        "id": "Eqca5LJBJiKf"
      }
    },
    {
      "cell_type": "code",
      "source": [
        "# Modified from: https://github.com/aanaseer/ScoEHR/blob/main/scoehr/main.py\n",
        "\n",
        "load_data = True\n",
        "\n",
        "batch_size = 512\n",
        "\n",
        "if load_data:\n",
        "\n",
        "    data_dir = './mimic/'\n",
        "    data_file = 'mimic_processed_choi.matrix'\n",
        "\n",
        "    train_data, test_data = MIMIC3_ICD(data_dir=data_dir, data_file=data_file).data()\n",
        "\n",
        "    train_data = train_data.to(device)\n",
        "    test_data = test_data.to(device)\n",
        "\n",
        "    train_dataloader = DataLoader(dataset=train_data, batch_size=batch_size, shuffle=True, drop_last=True)\n",
        "    test_dataloader = DataLoader(dataset=test_data, batch_size=batch_size, shuffle=True, drop_last=True)\n",
        "    print(\"Train Data Shape: \", train_data.shape)\n",
        "    print(\"Test Data Shape: \", test_data.shape)"
      ],
      "metadata": {
        "id": "RcjV_qqmJk28",
        "colab": {
          "base_uri": "https://localhost:8080/",
          "height": 0
        },
        "outputId": "bcc39f16-0a8e-4e2e-c9c3-6341a86a83c5"
      },
      "execution_count": 12,
      "outputs": [
        {
          "output_type": "stream",
          "name": "stdout",
          "text": [
            "Train Data Shape:  torch.Size([32564, 6985])\n",
            "Test Data Shape:  torch.Size([13956, 6985])\n"
          ]
        }
      ]
    },
    {
      "cell_type": "markdown",
      "source": [
        "##   Model Part 1 - Autoencoder\n",
        "\n",
        "###Overview\n",
        "The synthetic generation process involves two different models:\n",
        "- Autoencoder - Used to lower the dimensionality of the data\n",
        "- Continuous-Time Diffusion Model - Used to generated synthetic data\n",
        "\n",
        "The Autoencoder is used to lower the dimensionality from the original dataset (one feature per ICD code or 6,985 features) to 144 features.  This helps to capture relationships between related ICD codes and reduces the dimensionality of the output data that the continuous-time diffusion model must generate.\n",
        "\n",
        "The Autoencoder is first trained and tested by itself to ensure that the Autoencoder model is able to successfully reduce the dimensionality of the data and then reproduce that original data using the reduced dimensionality dataset.  Then, the training data is encoded using the autoencoder and the encoded training data is used to train the Continuous-Time Diffusion model.  \n",
        "\n",
        "This allows the Continous-Time Diffusion model to generate synthetic data in the lower dimensionality space.  This synthetic data is then decoded using the trained Autoencoder to generate synthetic data in a feature space that is tied back to ICD codes.\n",
        "\n",
        "###Autoencoder Configuration\n",
        "\n",
        "**Model Architecture:**\n",
        "\n",
        "Layers | Configuration | Activation Function | Output Dimension (batch, feature)\n",
        "--- | --- | --- | ---\n",
        "fully connected | input size 6985, output size 144 | Tahnh | (512, 144)\n",
        "fully connected | input size 144, output size 6985 | Sigmoid | (512, 6985)\n",
        "\n",
        "**Training Objectives:**\n",
        "- Loss Function: torch.nn.BCELoss with `reduction=\"sum\"`\n",
        "- Optimiser: torch.optim.Adam with `weight_decay=0.0001`\n",
        "\n",
        "**Other Info:**\n",
        "The model is not pretrained, but weights are initiatlized using `torch.nn.init.xavier_uniform_`.  The autoencoder post-encoding dimension of 144 was chosen by the original paper because previous papers indicated that 128 was the ideal post-encoding dimension, and 144 was the closest that worked with the UNet architecture of the upcoming Continous-Time Diffusion model."
      ],
      "metadata": {
        "id": "3muyDPFPbozY"
      }
    },
    {
      "cell_type": "markdown",
      "source": [
        "### Define Autoencoder Class"
      ],
      "metadata": {
        "id": "WDGZnaerJ1Db"
      }
    },
    {
      "cell_type": "code",
      "source": [
        "# Modified from: https://github.com/aanaseer/ScoEHR/blob/main/scoehr/models/autoencoder.py\n",
        "\n",
        "class Autoencoder(nn.Module):\n",
        "    def __init__(self, enc_in_dim, enc_out_dim):\n",
        "        super(Autoencoder, self).__init__()\n",
        "\n",
        "        self.encoder = nn.Sequential(nn.Linear(enc_in_dim, enc_out_dim), nn.Tanh())\n",
        "        self.decoder = nn.Sequential(nn.Linear(enc_out_dim, enc_in_dim), nn.Sigmoid())\n",
        "\n",
        "    def encode(self, x):\n",
        "        x = self.encoder(x)\n",
        "        return x\n",
        "\n",
        "    def decode(self, x):\n",
        "        x = self.decoder(x)\n",
        "        return x\n",
        "\n",
        "    def forward(self, x):\n",
        "        x = self.encoder(x)\n",
        "        x = self.decoder(x)\n",
        "        return x"
      ],
      "metadata": {
        "id": "gBdVZoTvsSFV"
      },
      "execution_count": 13,
      "outputs": []
    },
    {
      "cell_type": "markdown",
      "source": [
        "### Define weight initialization"
      ],
      "metadata": {
        "id": "sDqX3rndJ8jj"
      }
    },
    {
      "cell_type": "code",
      "source": [
        "def weights_init(m):\n",
        "    # From https://github.com/astorfi/cor-gan/blob/b6df51a16399335bfe995c15b6951f053453fbb3/Generative/medGAN/MIMIC/pytorch/MLP/medGAN.py#L263 # noqa: E501\n",
        "    classname = m.__class__.__name__\n",
        "    if classname.find(\"Conv\") != -1:\n",
        "        nn.init.normal_(m.weight.data, 0.0, 0.02)\n",
        "    elif classname.find(\"BatchNorm\") != -1:\n",
        "        nn.init.normal_(m.weight.data, 1.0, 0.02)\n",
        "        nn.init.constant_(m.bias.data, 0)\n",
        "    if type(m) == nn.Linear:\n",
        "        torch.nn.init.xavier_uniform_(m.weight)\n",
        "        m.bias.data.fill_(0.01)"
      ],
      "metadata": {
        "id": "xwCQlDQMJ-dr"
      },
      "execution_count": 14,
      "outputs": []
    },
    {
      "cell_type": "markdown",
      "source": [
        "## Training Part 1 - Autoencoder\n",
        "\n",
        "###Training Methodology\n",
        "The model is trained with 200 epochs with a learning rate of 0.001.  This learning rate was from the original code while the number of epochs was determined empirically.  As can be seen in the per-epoch training loss chart displayed when the next cell is run, the number of epochs to successfully train is likely lower (there appear to be diminishing returns after ~125 epochs), however 200 epochs does not appear to cause significant overfitting issues as the test loss never increases.\n",
        "\n",
        "\n",
        "###Computational Requirements\n",
        "The training process takes several minutes when trained with a GPU (substantially longer on a CPU).  We were able to successfully train it on a machine with 16GB of RAM.\n",
        "\n",
        "Because of the several-minute training time, by default this notebook is set to show stats from our training run (and load the model's parameters from the saved parameter file: `./saved_models/autoencoder.pt`).  If you'd like to change this to train it yourself, set `train_autoencoder_model = True`.  You can also overwrite our training parameters by setting `save_autoencoder_model = True`."
      ],
      "metadata": {
        "id": "1FcHntrnKHhd"
      }
    },
    {
      "cell_type": "code",
      "source": [
        "# Modified from: https://github.com/aanaseer/ScoEHR/blob/main/scoehr/train/train_autoencoder_utils.py\n",
        "\n",
        "train_autoencoder_model = False\n",
        "save_autoencoder_model = False\n",
        "\n",
        "n_epochs_autoencoder = 200\n",
        "\n",
        "lr_autoencoder = 0.001\n",
        "\n",
        "if train_autoencoder_model:\n",
        "    enc_in_dim = train_data.shape[1]\n",
        "else:\n",
        "    enc_in_dim = 6985\n",
        "\n",
        "enc_out_dim = 144\n",
        "\n",
        "autoencoder = Autoencoder(enc_in_dim, enc_out_dim)\n",
        "autoencoder.to(device)\n",
        "autoencoder.apply(weights_init)\n",
        "optimiser_autoencoder = torch.optim.Adam(autoencoder.parameters(), lr=lr_autoencoder, weight_decay=0.0001)\n",
        "loss_fn_instance_autoencoder = torch.nn.BCELoss(reduction=\"sum\")  # WORKS FOR BINARY DATA!\n",
        "\n",
        "if train_autoencoder_model:\n",
        "    print(f\"==> Training the autoencoder with {n_epochs_autoencoder} epochs.\")\n",
        "    epoch_train_loss_list = []\n",
        "    epoch_test_loss_list = []\n",
        "    for epoch in tqdm.tqdm(range(n_epochs_autoencoder)):\n",
        "        epoch_train_loss = 0\n",
        "        epoch_test_loss = 0\n",
        "        autoencoder.train()\n",
        "        for x in train_dataloader:\n",
        "            optimiser_autoencoder.zero_grad()\n",
        "            encode_and_decode = autoencoder(x)\n",
        "            loss = loss_fn_instance_autoencoder(encode_and_decode, x) / x.shape[0]\n",
        "\n",
        "            # loss_scaling_vector = x * eta + 10.0\n",
        "            # loss_scaling_vector = loss_scaling_vector.view(-1, 1, 1, 1)\n",
        "            # scaled_loss = loss * loss_scaling_vector\n",
        "            # scaled_loss = scaled_loss.mean()\n",
        "            # epoch_loss += scaled_loss.item()\n",
        "\n",
        "            epoch_train_loss += loss.item()\n",
        "            loss.backward()\n",
        "            # scaled_loss.backward()\n",
        "\n",
        "            optimiser_autoencoder.step()\n",
        "\n",
        "        autoencoder.eval()\n",
        "        with torch.no_grad():\n",
        "            for x in test_dataloader:\n",
        "                encode_and_decode = autoencoder(x)\n",
        "                loss = loss_fn_instance_autoencoder(encode_and_decode, x) / x.shape[0]\n",
        "                epoch_test_loss += loss.item()\n",
        "\n",
        "        avg_train_loss = epoch_train_loss / len(train_dataloader)\n",
        "        avg_test_loss = epoch_test_loss / len(test_dataloader)\n",
        "        epoch_train_loss_list.append(avg_train_loss)\n",
        "        epoch_test_loss_list.append(avg_test_loss)\n",
        "\n",
        "    print(\"==> Autoencoder training completed.\")\n",
        "    plt.plot(epoch_train_loss_list, label='autoencoder train loss')\n",
        "    plt.plot(epoch_test_loss_list, label='autoencoder test loss')\n",
        "    plt.xlabel('epoch')\n",
        "    plt.title('AE loss during training')\n",
        "    plt.legend()\n",
        "    plt.yscale(\"log\")\n",
        "    plt.show()\n",
        "    loss_info = dict()\n",
        "    loss_info['epoch_train_loss_list'] = epoch_train_loss_list\n",
        "    loss_info['epoch_test_loss_list'] = epoch_test_loss_list\n",
        "    with open('./stats/autoencoder.pkl', 'wb') as file:\n",
        "        pickle.dump(loss_info, file, -1)\n",
        "    if save_autoencoder_model:\n",
        "        torch.save({'model_state_dict': autoencoder.state_dict()}, autoencoder_model_path)\n",
        "else:\n",
        "    print(\"===> Loading trained model\")\n",
        "    enc_in_dim = 6985\n",
        "    autoencoder = Autoencoder(enc_in_dim, enc_out_dim)\n",
        "    autoencoder.to(device)\n",
        "    autoencoder_model_path = \"./saved_models/autoencoder.pt\"\n",
        "    checkpoint = torch.load(autoencoder_model_path, map_location=torch.device(device))\n",
        "    autoencoder.load_state_dict(checkpoint['model_state_dict'])\n",
        "    loss_info = dict()\n",
        "    print(\"===> Showing stats from loaded model\")\n",
        "    with open('./stats/autoencoder.pkl', 'rb') as file:\n",
        "        loss_info = pickle.load(file)\n",
        "    epoch_train_loss_list = loss_info['epoch_train_loss_list']\n",
        "    epoch_test_loss_list = loss_info['epoch_test_loss_list']\n",
        "    plt.plot(epoch_train_loss_list, label='autoencoder train loss')\n",
        "    plt.plot(epoch_test_loss_list, label='autoencoder test loss')\n",
        "    plt.xlabel('epoch')\n",
        "    plt.title('AE loss during training')\n",
        "    plt.legend()\n",
        "    plt.yscale(\"log\")\n",
        "    plt.show()"
      ],
      "metadata": {
        "id": "bV07S6WNKMhT",
        "colab": {
          "base_uri": "https://localhost:8080/",
          "height": 508
        },
        "outputId": "30760126-5f73-48a2-f502-033bf5af6e51"
      },
      "execution_count": 15,
      "outputs": [
        {
          "output_type": "stream",
          "name": "stdout",
          "text": [
            "===> Loading trained model\n",
            "===> Showing stats from loaded model\n"
          ]
        },
        {
          "output_type": "display_data",
          "data": {
            "text/plain": [
              "<Figure size 640x480 with 1 Axes>"
            ],
            "image/png": "[encoded data removed]"
          },
          "metadata": {}
        }
      ]
    },
    {
      "cell_type": "markdown",
      "source": [
        "### Encode Training and Test Data"
      ],
      "metadata": {
        "id": "VP7Sh8nsKSnv"
      }
    },
    {
      "cell_type": "code",
      "source": [
        "# Modified from: https://github.com/aanaseer/ScoEHR/blob/main/scoehr/main.py\n",
        "\n",
        "if load_data:\n",
        "    train_data_encoded = autoencoder.encode(train_dataloader.dataset).detach()\n",
        "    train_dataloader_encoded = DataLoader(\n",
        "            dataset=train_data_encoded,\n",
        "            batch_size=batch_size,\n",
        "            shuffle=True,\n",
        "            drop_last=True,\n",
        "    )\n",
        "    test_data_encoded = autoencoder.encode(test_dataloader.dataset).detach()\n",
        "    test_dataloader_encoded = DataLoader(\n",
        "            dataset=test_data_encoded,\n",
        "            batch_size=batch_size,\n",
        "            shuffle=True,\n",
        "            drop_last=True,\n",
        "    )"
      ],
      "metadata": {
        "id": "7kZ2iqeYKUKY"
      },
      "execution_count": 16,
      "outputs": []
    },
    {
      "cell_type": "markdown",
      "source": [
        "### Test Autoencoder\n",
        "This test wasn't in the original paper, but is a visual demonstration of the features in the original dataset as compared with the dataset once it has been encoded and then decoded.  As you can see, the feature distribution is roughly similar, suggesting that the autoencoder does a good job of recreating the original data."
      ],
      "metadata": {
        "id": "0s-WdGQ2KXY5"
      }
    },
    {
      "cell_type": "code",
      "source": [
        "test_data_encoded = autoencoder.encode(test_data).detach()\n",
        "test_data_decoded = autoencoder.decode(test_data_encoded).detach()\n",
        "test_data_dict = dict()\n",
        "test_data_dict['original'] = test_data\n",
        "test_data_dict['decoded'] = test_data_decoded\n",
        "\n",
        "print(\"Showing feature distribution from generated model\")\n",
        "\n",
        "def convert_to_binary(data):\n",
        "    data[data >= 0.5] = 1.0\n",
        "    data[data < 0.5] = 0.0\n",
        "    return data\n",
        "\n",
        "test_data_decoded_binary = convert_to_binary(test_data_decoded).detach()\n",
        "\n",
        "print(\"Original Test Data Mean: \", test_data.mean())\n",
        "print(\"After Autoencoder Test Data Mean \", test_data_decoded_binary.mean())\n",
        "\n",
        "\n",
        "test_data_np = test_data.sum(axis=0).cpu().numpy()\n",
        "test_data_decoded_np = test_data_decoded_binary.sum(axis=0).cpu().numpy()\n",
        "\n",
        "max_count = max(test_data_np.max(), test_data_decoded_np.max())\n",
        "bins = np.logspace(1.0, np.log10(max_count), num=50)\n",
        "\n",
        "pyplot.hist(test_data_np, bins, alpha=0.5, label='Before Autoencoder Feature Distribution')\n",
        "pyplot.hist(test_data_decoded_np, bins, alpha=0.5, label='After Autoencoder Feature Distribution')\n",
        "pyplot.legend(loc='upper right')\n",
        "pyplot.show()"
      ],
      "metadata": {
        "id": "lhBVQ1LZKgiu",
        "colab": {
          "base_uri": "https://localhost:8080/",
          "height": 484
        },
        "outputId": "8c6fdb93-53c5-403c-8569-e8b4a87c11d9"
      },
      "execution_count": 17,
      "outputs": [
        {
          "output_type": "stream",
          "name": "stdout",
          "text": [
            "Showing feature distribution from generated model\n",
            "Original Test Data Mean:  tensor(0.0018, device='cuda:0')\n",
            "After Autoencoder Test Data Mean  tensor(0.0016, device='cuda:0')\n"
          ]
        },
        {
          "output_type": "display_data",
          "data": {
            "text/plain": [
              "<Figure size 640x480 with 1 Axes>"
            ],
            "image/png": "[encoded data removed]"
          },
          "metadata": {}
        }
      ]
    },
    {
      "cell_type": "markdown",
      "source": [
        "## Model Part 2 - UNet (Continuous-Time Diffusion Model/Score Net)\n",
        "\n",
        "###Overview\n",
        "The synthetic generation process involves two different models:\n",
        "- Autoencoder - Used to lower the dimensionality of the data\n",
        "- Continuous-Time Diffusion Model - Used to generated synthetic data\n",
        "\n",
        "The Autoencoder is used to lower the dimensionality from the original dataset (one feature per ICD code or 6,985 features) to 144 features.  This helps to capture relationships between related ICD codes and reduces the dimensionality of the output data that the continuous-time diffusion model must generate.\n",
        "\n",
        "The Continuous-Time Diffusion Model (aka UNet aka Score Net) is used to generate the synthetic data.  It works in combination with a Variance Preserving Stochastic Differential Equation (VPSDE).  The VPSDE function is designed to take real data and convert real data into random noise in a controlled manner.  The VPSDE function converts the data into noise at continous time-steps between $0$ (completely real data) and $1$ (complete noise).\n",
        "\n",
        "###UNet Configuration\n",
        "\n",
        "**Model Architecture:**\n",
        "\n",
        "Due to the complex nature of the model, it's difficult to describe it in a single table that captures each layer and their size/type/activation function.  Instead, we focus on describing how the model works and it's overarching architecture.\n",
        "\n",
        "Let's assume that this noise is added over $n$ timesteps.  The Score Net/UNet is trained to take data with noise added to it at time $t_k$ (where $k$ is between 1 and $n$), and back-convert that to the data at time $t_{k-1}$ (before the noise was added).  To support this, the loss function is defined as the difference between the actual $t_{k-1}$ and the predicted $t_{k-1}$.\n",
        "\n",
        "Therefore we are training the model to be able to convert noisy data into real data.  Once this training is complete, to generate synthetic data we generate random noise and plug it into the model using a ReverseSDE function (that is designed to remove noise using the model).  We start with noise at $t_n$ and move step-wise backwards - at each step the model telling us what real parameters it _thinks_ could represent the next step with noise added.  When we get to $t_0$ we have data that follows the same patterns as real data, but because it was built based on noise is completely synthetic.\n",
        "\n",
        "In terms of architecture, the Continuous-Time Diffusion Model (aka UNet aka Score Net) is a UNet architecture based on the reduced dimensionality space provided by the autoencoder.  It has two down-sampling layers that progressively reduce the size of the input data using convolution.  Each of these down-sampling layers also has two residual blocks that allow data to skip parts of the model as needed.  Each residual block also incorporates self-attention.  SiLU ($sigmoid(x) * x$) is used as the activation function throughout this model.\n",
        "\n",
        "**Training Objectives:**\n",
        "- Loss Function: The loss function is a custom loss function designed to determine the loss between a predicted $t_{k-1}$ and an actual $t_{k-1}$.\n",
        "- Optimiser: Adam with an adaptive learning rate.  The learning rate ($\\lambda$) at epoch $t$ is defined by the exponential decay formula:\n",
        "\n",
        "$$\n",
        "\\lambda(t) = \\text{lr}_0 \\cdot e^{-k \\cdot t}\n",
        "$$\n",
        "\n",
        "where:\n",
        "- $\\text{lr}_0 = 0.5$ is the initial learning rate,\n",
        "- $k = 0.1$ is the decay rate,\n",
        "- $t$ is the epoch number.\n",
        "\n",
        "**Other Info:**\n",
        "The model is not pretrained, but weights are initialized using `torch.nn.init.xavier_uniform_`."
      ],
      "metadata": {
        "id": "Wa-NPYuLroQx"
      }
    },
    {
      "cell_type": "markdown",
      "source": [
        "### Define UNet Class\n",
        "UNet is trained to calculate how to move from noise to data at a given timestamp.  It is later instantiated as score_net."
      ],
      "metadata": {
        "id": "SUgwip4wKk88"
      }
    },
    {
      "cell_type": "code",
      "source": [
        "# Modified from: https://github.com/aanaseer/ScoEHR/blob/main/scoehr/models/unet.py\n",
        "\n",
        "class SiLU(nn.Module):\n",
        "    def __init__(self):\n",
        "        super().__init__()\n",
        "\n",
        "    # noinspection PyMethodMayBeStatic\n",
        "    def forward(self, x):\n",
        "        return torch.sigmoid(x) * x\n",
        "\n",
        "\n",
        "def group_norm(out_ch):\n",
        "    return nn.GroupNorm(num_groups=32, num_channels=out_ch, eps=1e-6, affine=True)\n",
        "\n",
        "\n",
        "def upsample(in_ch, with_conv):\n",
        "    up = nn.Sequential()\n",
        "    up.add_module(\"up_nn\", nn.Upsample(scale_factor=2, mode=\"nearest\"))\n",
        "    if with_conv:\n",
        "        up.add_module(\"up_conv\", conv2d(in_ch, in_ch, kernel_size=(3, 3), stride=1))\n",
        "    return up\n",
        "\n",
        "\n",
        "def downsample(in_ch, with_conv):\n",
        "    if with_conv:\n",
        "        down = conv2d(in_ch, in_ch, kernel_size=(3, 3), stride=2)\n",
        "    else:\n",
        "        down = nn.AvgPool2d(2, 2)\n",
        "    return down\n",
        "\n",
        "\n",
        "class ResidualBlock(nn.Module):\n",
        "    def __init__(\n",
        "        self,\n",
        "        in_ch,\n",
        "        temb_ch,\n",
        "        out_ch=None,\n",
        "        conv_shortcut=False,\n",
        "        dropout=0.0,\n",
        "        normalize=group_norm,\n",
        "        act=SiLU(),\n",
        "    ):\n",
        "        super().__init__()\n",
        "        self.in_ch = in_ch\n",
        "        self.temb_ch = temb_ch\n",
        "        self.out_ch = out_ch if out_ch is not None else in_ch\n",
        "        self.conv_shortcut = conv_shortcut\n",
        "        self.dropout = dropout\n",
        "        self.act = act\n",
        "\n",
        "        self.temb_proj = dense(temb_ch, out_ch)\n",
        "        self.norm1 = normalize(in_ch) if normalize is not None else nn.Identity()\n",
        "        self.conv1 = conv2d(in_ch, out_ch)\n",
        "        self.norm2 = normalize(out_ch) if normalize is not None else nn.Identity()\n",
        "        self.dropout = nn.Dropout2d(p=dropout) if dropout > 0.0 else nn.Identity()\n",
        "        self.conv2 = conv2d(out_ch, out_ch, init_scale=0.0)\n",
        "        if in_ch != out_ch:\n",
        "            if conv_shortcut:\n",
        "                self.shortcut = conv2d(in_ch, out_ch)\n",
        "            else:\n",
        "                self.shortcut = conv2d(in_ch, out_ch, kernel_size=(1, 1), padding=0)\n",
        "        else:\n",
        "            self.shortcut = nn.Identity()\n",
        "\n",
        "    def forward(self, x, temb):\n",
        "        # forward conv1\n",
        "        h = x\n",
        "        h = self.act(self.norm1(h))\n",
        "        h = self.conv1(h)\n",
        "\n",
        "        # add in timestep embedding\n",
        "        h = h + self.temb_proj(self.act(temb))[:, :, None, None]\n",
        "\n",
        "        # forward conv2\n",
        "        h = self.act(self.norm2(h))\n",
        "        h = self.dropout(h)\n",
        "        h = self.conv2(h)\n",
        "\n",
        "        # shortcut\n",
        "        x = self.shortcut(x)\n",
        "\n",
        "        # combine and return\n",
        "        assert x.shape == h.shape\n",
        "        return x + h\n",
        "\n",
        "\n",
        "class SelfAttention(nn.Module):\n",
        "    \"\"\"\n",
        "    copied modified from https://github.com/voletiv/self-attention-GAN-pytorch/blob/master/sagan_models.py#L29\n",
        "    copied modified from https://github.com/hojonathanho/diffusion/blob/master/diffusion_tf/models/unet.py#L66\n",
        "    \"\"\"\n",
        "\n",
        "    def __init__(self, in_channels, normalize=group_norm):\n",
        "        super().__init__()\n",
        "        self.in_channels = in_channels\n",
        "        self.attn_q = conv2d(\n",
        "            in_channels, in_channels, kernel_size=1, stride=1, padding=0\n",
        "        )\n",
        "        self.attn_k = conv2d(\n",
        "            in_channels, in_channels, kernel_size=1, stride=1, padding=0\n",
        "        )\n",
        "        self.attn_v = conv2d(\n",
        "            in_channels, in_channels, kernel_size=1, stride=1, padding=0\n",
        "        )\n",
        "        self.proj_out = conv2d(\n",
        "            in_channels, in_channels, kernel_size=1, stride=1, padding=0, init_scale=0.0\n",
        "        )\n",
        "        self.softmax = nn.Softmax(dim=-1)\n",
        "        if normalize is not None:\n",
        "            self.norm = normalize(in_channels)\n",
        "        else:\n",
        "            self.norm = nn.Identity()\n",
        "\n",
        "    # noinspection PyUnusedLocal\n",
        "    def forward(self, x, temp=None):\n",
        "        \"\"\"t is not used\"\"\"\n",
        "        _, C, H, W = x.size()\n",
        "\n",
        "        h = self.norm(x)\n",
        "        q = self.attn_q(h).view(-1, C, H * W)\n",
        "        k = self.attn_k(h).view(-1, C, H * W)\n",
        "        v = self.attn_v(h).view(-1, C, H * W)\n",
        "\n",
        "        attn = torch.bmm(q.permute(0, 2, 1), k) * (int(C) ** (-0.5))\n",
        "        attn = self.softmax(attn)\n",
        "\n",
        "        h = torch.bmm(v, attn.permute(0, 2, 1))\n",
        "        h = h.view(-1, C, H, W)\n",
        "        h = self.proj_out(h)\n",
        "\n",
        "        assert h.shape == x.shape\n",
        "        return x + h\n",
        "\n",
        "\n",
        "def _calculate_correct_fan(tensor, mode):\n",
        "    \"\"\"\n",
        "    copied and modified from https://github.com/pytorch/pytorch/blob/master/torch/nn/init.py#L337\n",
        "    \"\"\"\n",
        "    mode = mode.lower()\n",
        "    valid_modes = [\"fan_in\", \"fan_out\", \"fan_avg\"]\n",
        "    if mode not in valid_modes:\n",
        "        raise ValueError(\n",
        "            \"Mode {} not supported, please use one of {}\".format(mode, valid_modes)\n",
        "        )\n",
        "\n",
        "    fan_in, fan_out = _calculate_fan_in_and_fan_out(tensor)\n",
        "    return fan_in if mode == \"fan_in\" else fan_out\n",
        "\n",
        "\n",
        "def kaiming_uniform_(tensor, gain=1.0, mode=\"fan_in\"):\n",
        "    r\"\"\"Fills the input `Tensor` with values according to the method\n",
        "    described in `Delving deep into rectifiers: Surpassing human-level\n",
        "    performance on ImageNet classification` - He, K. et al. (2015), using a\n",
        "    uniform distribution. The resulting tensor will have values sampled from\n",
        "    :math:`\\mathcal{U}(-\\text{bound}, \\text{bound})` where\n",
        "\n",
        "    .. math::\n",
        "        \\text{bound} = \\text{gain} \\times \\sqrt{\\frac{3}{\\text{fan\\_mode}}}\n",
        "\n",
        "    Also known as He initialization.\n",
        "\n",
        "    Args:\n",
        "        tensor: an n-dimensional `torch.Tensor`\n",
        "        gain: multiplier to the dispersion\n",
        "        mode: either ``'fan_in'`` (default) or ``'fan_out'``. Choosing ``'fan_in'``\n",
        "            preserves the magnitude of the variance of the weights in the\n",
        "            forward pass. Choosing ``'fan_out'`` preserves the magnitudes in the\n",
        "            backwards pass.\n",
        "    Examples:\n",
        "        >>> w = torch.empty(3, 5)\n",
        "        >>> nn.init.kaiming_uniform_(w, mode='fan_in')\n",
        "    \"\"\"\n",
        "    fan = _calculate_correct_fan(tensor, mode)\n",
        "    var = gain / max(1.0, fan)\n",
        "    bound = math.sqrt(3.0 * var)  # Calculate uniform bounds from standard deviation\n",
        "    with torch.no_grad():\n",
        "        return tensor.uniform_(-bound, bound)\n",
        "\n",
        "\n",
        "def variance_scaling_init_(tensor, scale):\n",
        "    return kaiming_uniform_(tensor, gain=1e-10 if scale == 0 else scale, mode=\"fan_avg\")\n",
        "\n",
        "\n",
        "def dense(in_channels, out_channels, init_scale=1.0):\n",
        "    lin = nn.Linear(in_channels, out_channels)\n",
        "    variance_scaling_init_(lin.weight, scale=init_scale)\n",
        "    nn.init.zeros_(lin.bias)\n",
        "    return lin\n",
        "\n",
        "\n",
        "def conv2d(\n",
        "    in_planes,\n",
        "    out_planes,\n",
        "    kernel_size=(3, 3),\n",
        "    stride=1,\n",
        "    dilation=1,\n",
        "    padding=1,\n",
        "    bias=True,\n",
        "    padding_mode=\"zeros\",\n",
        "    init_scale=1.0,\n",
        "):\n",
        "    conv = nn.Conv2d(\n",
        "        in_planes,\n",
        "        out_planes,\n",
        "        kernel_size=kernel_size,\n",
        "        stride=stride,\n",
        "        padding=padding,\n",
        "        dilation=dilation,\n",
        "        bias=bias,\n",
        "        padding_mode=padding_mode,\n",
        "    )\n",
        "    variance_scaling_init_(conv.weight, scale=init_scale)\n",
        "    if bias:\n",
        "        nn.init.zeros_(conv.bias)\n",
        "    return conv\n",
        "\n",
        "\n",
        "def get_sinusoidal_positional_embedding(\n",
        "    timesteps: torch.LongTensor, embedding_dim: int\n",
        "):\n",
        "    \"\"\"\n",
        "    Copied and modified from\n",
        "        https://github.com/hojonathanho/diffusion/blob/1e0dceb3b3495bbe19116a5e1b3596cd0706c543/diffusion_tf/nn.py#L90\n",
        "\n",
        "    From Fairseq in\n",
        "        https://github.com/pytorch/fairseq/blob/master/fairseq/modules/sinusoidal_positional_embedding.py#L15\n",
        "    Build sinusoidal embeddings.\n",
        "    This matches the implementation in tensor2tensor, but differs slightly\n",
        "    from the description in Section 3.5 of \"Attention Is All You Need\".\n",
        "    \"\"\"\n",
        "    assert len(timesteps.size()) == 1\n",
        "    timesteps = timesteps.to(torch.get_default_dtype())\n",
        "    device = timesteps.device\n",
        "\n",
        "    half_dim = embedding_dim // 2\n",
        "    emb = math.log(10000) / (half_dim - 1)\n",
        "    emb = torch.exp(torch.arange(half_dim, dtype=torch.float, device=device) * -emb)\n",
        "    emb = timesteps[:, None] * emb[None, :]\n",
        "    emb = torch.cat([torch.sin(emb), torch.cos(emb)], dim=1)  # bsz x embd\n",
        "    if embedding_dim % 2 == 1:  # zero pad\n",
        "        emb = F.pad(emb, (0, 1), \"constant\", 0)\n",
        "    assert list(emb.size()) == [timesteps.size(0), embedding_dim]\n",
        "    return emb\n",
        "\n",
        "\n",
        "class TimestepEmbedding(nn.Module):\n",
        "    def __init__(self, embedding_dim, hidden_dim, output_dim, act=SiLU()):\n",
        "        super().__init__()\n",
        "\n",
        "        self.embedding_dim = embedding_dim\n",
        "        self.output_dim = output_dim\n",
        "        self.hidden_dim = hidden_dim\n",
        "\n",
        "        self.main = nn.Sequential(\n",
        "            dense(embedding_dim, hidden_dim),\n",
        "            act,\n",
        "            dense(hidden_dim, output_dim),\n",
        "        )\n",
        "\n",
        "    def forward(self, temp):\n",
        "        temb = get_sinusoidal_positional_embedding(temp, self.embedding_dim)\n",
        "        temb = self.main(temb)\n",
        "        return temb\n",
        "\n",
        "\n",
        "class UNet(nn.Module):\n",
        "    def __init__(\n",
        "        self,\n",
        "        input_channels,\n",
        "        encoded_latent_embedding_dim,  # eg 64\n",
        "        ch,\n",
        "        output_channels=None,\n",
        "        ch_mult=(1, 2, 4, 8),\n",
        "        num_res_blocks=2,\n",
        "        attn_resolutions=(16,),\n",
        "        dropout=0.0,\n",
        "        resamp_with_conv=True,\n",
        "        act=SiLU(),\n",
        "        normalize=group_norm,\n",
        "    ):\n",
        "        super().__init__()\n",
        "        self.input_channels = input_channels\n",
        "        self.encoded_latent_embedding_dim = encoded_latent_embedding_dim  # eg 64\n",
        "        self.input_height = int(np.sqrt(self.encoded_latent_embedding_dim))  # eg 8\n",
        "        self.ch = ch\n",
        "        self.output_channels = output_channels = (\n",
        "            input_channels if output_channels is None else output_channels\n",
        "        )\n",
        "        self.ch_mult = ch_mult\n",
        "        self.num_res_blocks = num_res_blocks\n",
        "        self.attn_resolutions = attn_resolutions\n",
        "        self.dropout = dropout\n",
        "        self.resamp_with_conv = resamp_with_conv\n",
        "        self.act = act\n",
        "        self.normalize = normalize\n",
        "\n",
        "        # init\n",
        "        self.num_resolutions = num_resolutions = len(ch_mult)\n",
        "        in_ht = self.input_height\n",
        "        in_ch = input_channels\n",
        "        temb_ch = ch * 4\n",
        "        assert (\n",
        "            in_ht % 2 ** (num_resolutions - 1) == 0\n",
        "        ), \"input_height doesn't satisfy the condition\"\n",
        "\n",
        "        # Timestep embedding\n",
        "        self.temb_net = TimestepEmbedding(\n",
        "            embedding_dim=ch,\n",
        "            hidden_dim=temb_ch,\n",
        "            output_dim=temb_ch,\n",
        "            act=act,\n",
        "        )\n",
        "\n",
        "        # Downsampling\n",
        "        self.begin_conv = conv2d(in_ch, ch)\n",
        "        unet_chs = [ch]\n",
        "        in_ht = in_ht\n",
        "        in_ch = ch\n",
        "        down_modules = []\n",
        "        for i_level in range(num_resolutions):\n",
        "            # Residual blocks for this resolution\n",
        "            block_modules = {}\n",
        "            out_ch = ch * ch_mult[i_level]\n",
        "            for i_block in range(num_res_blocks):\n",
        "                block_modules[\"{}a_{}a_block\".format(i_level, i_block)] = ResidualBlock(\n",
        "                    in_ch=in_ch,\n",
        "                    temb_ch=temb_ch,\n",
        "                    out_ch=out_ch,\n",
        "                    dropout=dropout,\n",
        "                    act=act,\n",
        "                    normalize=normalize,\n",
        "                )\n",
        "                if in_ht in attn_resolutions:\n",
        "                    block_modules[\n",
        "                        \"{}a_{}b_attn\".format(i_level, i_block)\n",
        "                    ] = SelfAttention(out_ch, normalize=normalize)\n",
        "                unet_chs += [out_ch]\n",
        "                in_ch = out_ch\n",
        "            # Downsample\n",
        "            if i_level != num_resolutions - 1:\n",
        "                block_modules[\"{}b_downsample\".format(i_level)] = downsample(\n",
        "                    out_ch, with_conv=resamp_with_conv\n",
        "                )\n",
        "                in_ht //= 2\n",
        "                unet_chs += [out_ch]\n",
        "            # convert list of modules to a module list, and append to a list\n",
        "            down_modules += [nn.ModuleDict(block_modules)]\n",
        "        # convert to a module list\n",
        "        self.down_modules = nn.ModuleList(down_modules)\n",
        "\n",
        "        # Middle\n",
        "        mid_modules = []\n",
        "        mid_modules += [\n",
        "            ResidualBlock(\n",
        "                in_ch,\n",
        "                temb_ch=temb_ch,\n",
        "                out_ch=in_ch,\n",
        "                dropout=dropout,\n",
        "                act=act,\n",
        "                normalize=normalize,\n",
        "            )\n",
        "        ]\n",
        "        mid_modules += [SelfAttention(in_ch, normalize=normalize)]\n",
        "        mid_modules += [\n",
        "            ResidualBlock(\n",
        "                in_ch,\n",
        "                temb_ch=temb_ch,\n",
        "                out_ch=in_ch,\n",
        "                dropout=dropout,\n",
        "                act=act,\n",
        "                normalize=normalize,\n",
        "            )\n",
        "        ]\n",
        "        self.mid_modules = nn.ModuleList(mid_modules)\n",
        "\n",
        "        # Upsampling\n",
        "        up_modules = []\n",
        "        for i_level in reversed(range(num_resolutions)):\n",
        "            # Residual blocks for this resolution\n",
        "            block_modules = {}\n",
        "            out_ch = ch * ch_mult[i_level]\n",
        "            for i_block in range(num_res_blocks + 1):\n",
        "                block_modules[\"{}a_{}a_block\".format(i_level, i_block)] = ResidualBlock(\n",
        "                    in_ch=in_ch + unet_chs.pop(),\n",
        "                    temb_ch=temb_ch,\n",
        "                    out_ch=out_ch,\n",
        "                    dropout=dropout,\n",
        "                    act=act,\n",
        "                    normalize=normalize,\n",
        "                )\n",
        "                if in_ht in attn_resolutions:\n",
        "                    block_modules[\n",
        "                        \"{}a_{}b_attn\".format(i_level, i_block)\n",
        "                    ] = SelfAttention(out_ch, normalize=normalize)\n",
        "                in_ch = out_ch\n",
        "            # Upsample\n",
        "            if i_level != 0:\n",
        "                block_modules[\"{}b_upsample\".format(i_level)] = upsample(\n",
        "                    out_ch, with_conv=resamp_with_conv\n",
        "                )\n",
        "                in_ht *= 2\n",
        "            # convert list of modules to a module list, and append to a list\n",
        "            up_modules += [nn.ModuleDict(block_modules)]\n",
        "        # conver to a module list\n",
        "        self.up_modules = nn.ModuleList(up_modules)\n",
        "        assert not unet_chs\n",
        "\n",
        "        # End\n",
        "        self.end_conv = nn.Sequential(\n",
        "            normalize(in_ch),\n",
        "            self.act,\n",
        "            conv2d(in_ch, output_channels, init_scale=0.0),\n",
        "        )\n",
        "\n",
        "    # noinspection PyMethodMayBeStatic\n",
        "    def _compute_cond_module(self, module, x, temp):\n",
        "        for m in module:\n",
        "            x = m(x, temp)\n",
        "        return x\n",
        "\n",
        "    # noinspection PyArgumentList,PyShadowingNames\n",
        "    def forward(self, x, temp):\n",
        "        # Init\n",
        "        x = x.view(-1, 1, self.input_height, self.input_height)\n",
        "        temp = temp.view(\n",
        "            -1,\n",
        "        )\n",
        "        B, C, H, W = x.size()\n",
        "        # Timestep embedding\n",
        "        temb = self.temb_net(temp)\n",
        "        assert list(temb.shape) == [B, self.ch * 4]\n",
        "        # Downsampling\n",
        "        hs = [self.begin_conv(x)]\n",
        "        for i_level in range(self.num_resolutions):\n",
        "            # Residual blocks for this resolution\n",
        "            block_modules = self.down_modules[i_level]\n",
        "            for i_block in range(self.num_res_blocks):\n",
        "                resnet_block = block_modules[\"{}a_{}a_block\".format(i_level, i_block)]\n",
        "                h = resnet_block(hs[-1], temb)\n",
        "                if h.size(2) in self.attn_resolutions:\n",
        "                    attn_block = block_modules[\"{}a_{}b_attn\".format(i_level, i_block)]\n",
        "                    h = attn_block(h, temb)\n",
        "                hs.append(h)\n",
        "            # Downsample\n",
        "            if i_level != self.num_resolutions - 1:\n",
        "                downsample = block_modules[\"{}b_downsample\".format(i_level)]\n",
        "                hs.append(downsample(hs[-1]))\n",
        "\n",
        "        # Middle\n",
        "        h = hs[-1]\n",
        "        h = self._compute_cond_module(self.mid_modules, h, temb)\n",
        "\n",
        "        # Upsampling\n",
        "        for i_idx, i_level in enumerate(reversed(range(self.num_resolutions))):\n",
        "            # Residual blocks for this resolution\n",
        "            block_modules = self.up_modules[i_idx]\n",
        "            for i_block in range(self.num_res_blocks + 1):\n",
        "                resnet_block = block_modules[\"{}a_{}a_block\".format(i_level, i_block)]\n",
        "                h = resnet_block(torch.cat([h, hs.pop()], axis=1), temb)\n",
        "                if h.size(2) in self.attn_resolutions:\n",
        "                    attn_block = block_modules[\"{}a_{}b_attn\".format(i_level, i_block)]\n",
        "                    h = attn_block(h, temb)\n",
        "            # Upsample\n",
        "            if i_level != 0:\n",
        "                upsample = block_modules[\"{}b_upsample\".format(i_level)]\n",
        "                h = upsample(h)\n",
        "        assert not hs\n",
        "\n",
        "        # End\n",
        "        h = self.end_conv(h)\n",
        "        assert list(h.size()) == [x.size(0), self.output_channels, x.size(2), x.size(3)]\n",
        "        h = h.view(-1, self.encoded_latent_embedding_dim)\n",
        "        return h"
      ],
      "metadata": {
        "id": "hkCj29yqKlwN"
      },
      "execution_count": 18,
      "outputs": []
    },
    {
      "cell_type": "markdown",
      "source": [
        "### Define DenoisingScoreMatching Class\n",
        "This can be thought of as the loss function for UNet (score_net)."
      ],
      "metadata": {
        "id": "Fnkh8j5rKswp"
      }
    },
    {
      "cell_type": "code",
      "source": [
        "# Modified from: https://github.com/aanaseer/ScoEHR/blob/main/scoehr/score_matching/dsm.py\n",
        "\n",
        "\"\"\"Implements the denoising score matching objective along with two helper functions.\"\"\"\n",
        "\n",
        "def pad_to(self, x, stride):\n",
        "    h, w = x.shape[-2:]\n",
        "    if w % stride > 0:\n",
        "        new_w = w + stride - w % stride\n",
        "    else:\n",
        "        new_w = w\n",
        "    lh, uh = int((h - h) / 2), int(h - h) - int((h - h) / 2)\n",
        "    lw, uw = int((new_w - w) / 2), int(new_w - w) - int((new_w - w) / 2)\n",
        "    pads = (lw, uw, lh, uh)\n",
        "\n",
        "    # zero-padding by default.\n",
        "    # See others at https://pytorch.org/docs/stable/nn.functional.html#torch.nn.functional.pad\n",
        "    out = F.pad(x, pads, \"constant\", 0)\n",
        "\n",
        "    return out, pads\n",
        "\n",
        "\n",
        "def unpad(self, x, pad):\n",
        "    if pad[0] + pad[1] > 0:\n",
        "        x = x[:, pad[0] : -pad[1]]\n",
        "    return x\n",
        "\n",
        "\n",
        "class DenoisingScoreMatching(nn.Module):\n",
        "    def __init__(self, sde, score_net, T=1.0, padding_required=False):\n",
        "        super().__init__()\n",
        "        self.sde = sde\n",
        "        self.score_net = score_net\n",
        "        self.T = T\n",
        "        self.padding_required = padding_required\n",
        "\n",
        "    @torch.enable_grad()\n",
        "    def loss_fn(self, x):\n",
        "        t = torch.linspace(1 / x.size(0) + 1e-3, 1 - 1 / x.size(0), x.size(0)) + (\n",
        "            1 - 2 * torch.rand(x.size(0))\n",
        "        ) * (1 / x.size(0))\n",
        "        t = t.view(-1, 1).to(x)\n",
        "\n",
        "        idx = torch.randperm(t.nelement())\n",
        "        t = t.view(-1)[idx].view(t.size())\n",
        "\n",
        "        perturbed_x, noise, std, g = self.sde.sample(x, t)\n",
        "\n",
        "        if self.padding_required:\n",
        "            perturbed_x, pads = pad_to(perturbed_x, 784)\n",
        "        score_predictions = self.score_net(perturbed_x, t)\n",
        "        if self.padding_required:\n",
        "            score_predictions = unpad(score_predictions, pads)\n",
        "\n",
        "        return ((score_predictions + noise / std) ** 2).view(x.size(0), -1).sum(\n",
        "            1, keepdim=False\n",
        "        ) * (std**2).squeeze()"
      ],
      "metadata": {
        "id": "RDyjSliuKvWR"
      },
      "execution_count": 19,
      "outputs": []
    },
    {
      "cell_type": "markdown",
      "source": [
        "### Define VPSDE (Variance Preserving Stochastic Differential Equation) Class\n",
        "The VPSDE class is used to add noise to the data at each time stamp."
      ],
      "metadata": {
        "id": "TkCSnrB8K9QD"
      }
    },
    {
      "cell_type": "code",
      "source": [
        "# Modified from: https://github.com/aanaseer/ScoEHR/blob/main/scoehr/score_matching/sde_library.py\n",
        "\"\"\"Implementation for the VPSDE along with the associated Reverse SDE.\n",
        "This file also contains a wrapper for SDE to be used with torchsde library.\n",
        "\"\"\"\n",
        "\n",
        "# This code is a modification of https://github.com/CW-Huang/sdeflow-light/blob/main/lib/sdes.py\n",
        "\n",
        "\n",
        "class VPSDE(nn.Module):\n",
        "    \"\"\"Implements the VPSDE.\"\"\"\n",
        "\n",
        "    def __init__(self, beta_min=0.1, beta_max=20.0, T=1.0, t_epsilon=0.001):\n",
        "        super().__init__()\n",
        "        self.beta_min = beta_min\n",
        "        self.beta_max = beta_max\n",
        "        self.T = T\n",
        "        self.t_epsilon = t_epsilon\n",
        "\n",
        "    def beta(self, t):\n",
        "        return self.beta_min + t * (self.beta_max - self.beta_min)\n",
        "\n",
        "    def mean_weight(self, t):\n",
        "        return torch.exp(\n",
        "            -0.25 * t**2 * (self.beta_max - self.beta_min) - 0.5 * t * self.beta_min\n",
        "        )\n",
        "\n",
        "    def var(self, t):\n",
        "        return 1.0 - torch.exp(\n",
        "            -0.5 * t**2 * (self.beta_max - self.beta_min) - t * self.beta_min\n",
        "        )\n",
        "\n",
        "    def f(self, x, t):\n",
        "        return -0.5 * self.beta(t) * x\n",
        "\n",
        "    def g(self, x, t):\n",
        "        return torch.ones_like(x) * self.beta(t) ** 0.5\n",
        "\n",
        "    def sample(self, x0, t):\n",
        "        mean = self.mean_weight(t) * x0\n",
        "        std = torch.sqrt(self.var(t))\n",
        "        noise = torch.randn_like(x0)\n",
        "        perturbed_x = mean + (noise * std)\n",
        "        return perturbed_x, noise, std, self.g(perturbed_x, t)\n",
        "\n",
        "    def probability_flow_ode(self, t, x, score_net):\n",
        "        return (\n",
        "            self.f(x, self.T - t)\n",
        "            - 0.5 * (self.g(x, self.T - t) ** 2) * score_net(x, self.T - t.squeeze())\n",
        "        ) * -1\n",
        "\n",
        "class WrapperForTorchSDE(nn.Module):\n",
        "    \"\"\"Wraps the SDE to be used with torchsde library.\"\"\"\n",
        "\n",
        "    def __init__(self, reverse_sde, noise_type=\"diagonal\", sde_type=\"ito\"):\n",
        "        super().__init__()\n",
        "        self.noise_type = noise_type\n",
        "        self.sde_type = sde_type\n",
        "        self.reverse_sde = reverse_sde\n",
        "\n",
        "    def f(self, t, x):\n",
        "        t = t.repeat(x.size(0)).view(-1, 1)\n",
        "        return self.reverse_sde.drift(x, t)\n",
        "\n",
        "    def g(self, t, x):\n",
        "        t = t.repeat(x.size(0)).view(-1, 1)\n",
        "        return self.reverse_sde.diffusion(x, t)"
      ],
      "metadata": {
        "id": "Ok-ybsaTLD9P"
      },
      "execution_count": 20,
      "outputs": []
    },
    {
      "cell_type": "markdown",
      "source": [
        "## Training Part 2 - UNet (Continuous-Time Diffusion Model/Score Net)\n",
        "\n",
        "###Training Methodology\n",
        "The model is trained with 50 epochs with a variable learning rate (described in the model section above).  As can be seen in the per-epoch training loss chart displayed when the next cell is run, the number of epochs to successfully train is likely lower (there appear to be diminishing returns after ~20 epochs), however 50 epochs does not appear to cause significant overfitting issues as the test loss never increases.\n",
        "\n",
        "\n",
        "###Computational Requirements\n",
        "The training process takes ~30 minutes when trained with a GPU (substantially longer on a CPU).  We were able to successfully train it on a machine with 16GB of RAM.\n",
        "\n",
        "Because of the several-minute training time, by default this notebook is set to show stats from our training run (and load the model's parameters from the saved parameter file: `./saved_models/score_net.pt`).  If you'd like to change this to train it yourself, set `train_score_net_model = True`.  You can also overwrite our training parameters by setting `save_score_net_model = True`."
      ],
      "metadata": {
        "id": "z6MwVZhWLImn"
      }
    },
    {
      "cell_type": "markdown",
      "source": [
        "### Instantiate Score Net"
      ],
      "metadata": {
        "id": "QcmMMlnKLKHR"
      }
    },
    {
      "cell_type": "code",
      "source": [
        "# Modified from: https://github.com/aanaseer/ScoEHR/blob/main/scoehr/main.py\n",
        "\n",
        "lr_score_net = 0.001\n",
        "T = 1\n",
        "padding_required = False\n",
        "\n",
        "sde = VPSDE()\n",
        "score_net = UNet(\n",
        "    input_channels=1,\n",
        "    encoded_latent_embedding_dim=enc_out_dim,\n",
        "    ch=128,\n",
        "    ch_mult=(1, 2, 2),\n",
        "    num_res_blocks=2,\n",
        "    attn_resolutions=(16,),\n",
        "    resamp_with_conv=True,\n",
        "    dropout=0,\n",
        ")\n",
        "score_net.apply(weights_init)\n",
        "score_net.to(device)\n",
        "loss_fn_instance_dsm = DenoisingScoreMatching(sde=sde, score_net=score_net, T=T, padding_required=padding_required)\n",
        "optimiser_score_net = torch.optim.Adam(loss_fn_instance_dsm.parameters(), lr=lr_score_net)"
      ],
      "metadata": {
        "id": "lTmsBGbULMiA"
      },
      "execution_count": 21,
      "outputs": []
    },
    {
      "cell_type": "markdown",
      "source": [
        "### Train Score Net"
      ],
      "metadata": {
        "id": "P4B8tv8-LPu7"
      }
    },
    {
      "cell_type": "code",
      "source": [
        "# Modified from: https://github.com/aanaseer/ScoEHR/blob/main/scoehr/train/train_scorenet.py\n",
        "\n",
        "train_score_net = False\n",
        "save_score_net_model = False\n",
        "\n",
        "n_epochs_score_net = 50\n",
        "\n",
        "if train_score_net:\n",
        "    print(f\"==> Training the score net with {n_epochs_score_net} epochs.\")\n",
        "    lr_0 = 0.5  # initial learning rate\n",
        "    k = 0.1    # decay rate\n",
        "\n",
        "    def lambda_func(t):\n",
        "        return lr_0 * np.exp(-k * t)\n",
        "    scheduler = lr_scheduler.LambdaLR(optimiser_score_net, lr_lambda=lambda_func)\n",
        "\n",
        "    start_time = time.time()\n",
        "    train_loss_list = []\n",
        "    test_loss_list = []\n",
        "    for epoch in range(n_epochs_score_net):\n",
        "        epoch_loss = 0\n",
        "        for x in tqdm.tqdm(train_dataloader_encoded):\n",
        "            optimiser_score_net.zero_grad()\n",
        "            loss = loss_fn_instance_dsm.loss_fn(x).mean()\n",
        "            epoch_loss += loss.item()\n",
        "            loss.backward()\n",
        "            torch.nn.utils.clip_grad_norm_(score_net.parameters(), 1)\n",
        "            optimiser_score_net.step()\n",
        "\n",
        "        avg_loss = epoch_loss / len(train_dataloader_encoded)\n",
        "\n",
        "        train_loss_list.append(avg_loss)\n",
        "\n",
        "        scheduler.step()\n",
        "\n",
        "        time_elapsed = time.time() - start_time\n",
        "        print(f\"Epoch: {epoch+1}  |  Total Time: {time_elapsed:.2f}s | Train Loss: {avg_loss:.5f}\")\n",
        "\n",
        "        epoch_loss = 0\n",
        "        with torch.no_grad():\n",
        "            for x in tqdm.tqdm(test_dataloader_encoded):\n",
        "                loss = loss_fn_instance_dsm.loss_fn(x).mean()\n",
        "                epoch_loss += loss.item()\n",
        "\n",
        "        avg_loss = epoch_loss / len(test_dataloader_encoded)\n",
        "\n",
        "        test_loss_list.append(avg_loss)\n",
        "\n",
        "        time_elapsed = time.time() - start_time\n",
        "        print(f\"Epoch: {epoch+1}  |  Total Time: {time_elapsed:.2f}s | Test Loss: {avg_loss:.5f}\")\n",
        "\n",
        "    print(\"==> Score net training completed.\")\n",
        "    plt.plot(train_loss_list, label='score net train loss')\n",
        "    plt.plot(test_loss_list, label='score net test loss')\n",
        "    plt.xlabel('epoch')\n",
        "    plt.title('Loss during training')\n",
        "    plt.legend()\n",
        "    plt.yscale(\"log\")\n",
        "    plt.show()\n",
        "    loss_list = dict()\n",
        "    loss_list['train_loss_list'] = train_loss_list\n",
        "    loss_list['test_loss_list'] = test_loss_list\n",
        "    with open('./stats/score_net.pkl', 'wb') as file:\n",
        "        pickle.dump(loss_list, file, -1)\n",
        "    scorenet_model_path = \"./saved_models/score_net.pt\"\n",
        "    if save_score_net_model:\n",
        "        torch.save({'model_state_dict': score_net.state_dict()}, scorenet_model_path)\n",
        "else:\n",
        "    print(\"===> Loading model\")\n",
        "    scorenet_model_path = \"./saved_models/score_net.pt\"\n",
        "    checkpoint = torch.load(scorenet_model_path, map_location=torch.device(device))\n",
        "    score_net.load_state_dict(checkpoint['model_state_dict'])\n",
        "    print(\"===> Showing stats from loaded model\")\n",
        "    with open('./stats/score_net.pkl', 'rb') as file:\n",
        "        loss_list = pickle.load(file)\n",
        "    train_loss_list = loss_list['train_loss_list']\n",
        "    test_loss_list = loss_list['test_loss_list']\n",
        "    plt.plot(train_loss_list, label='score net train loss')\n",
        "    plt.plot(test_loss_list, label='score net test loss')\n",
        "    plt.xlabel('epoch')\n",
        "    plt.title('Loss during training')\n",
        "    plt.legend()\n",
        "    plt.yscale(\"log\")\n",
        "    plt.show()"
      ],
      "metadata": {
        "id": "hrHjIegwLv60",
        "colab": {
          "base_uri": "https://localhost:8080/",
          "height": 508
        },
        "outputId": "fbbf8bcd-7af8-4e6c-fc6f-a443e5d8fe50"
      },
      "execution_count": 22,
      "outputs": [
        {
          "output_type": "stream",
          "name": "stdout",
          "text": [
            "===> Loading model\n",
            "===> Showing stats from loaded model\n"
          ]
        },
        {
          "output_type": "display_data",
          "data": {
            "text/plain": [
              "<Figure size 640x480 with 1 Axes>"
            ],
            "image/png": "[encoded data removed]"
          },
          "metadata": {}
        }
      ]
    },
    {
      "cell_type": "markdown",
      "source": [
        "## Generate Synthetic Data\n",
        "Once the model is trained, it can be used to generate synthetic data that can be compared to the original data to determine if it is statistically similar while still protecting the privacy of the original patients.  The generation process is described in the Score Net model section.\n",
        "\n",
        "Note: The generation of synthetic data takes ~45 minutes with a GPU.  By default, instead of generating this data instead pre-generated data is loaded and used.  You can change this by setting `generate_data = True`."
      ],
      "metadata": {
        "id": "sw2Vzh_xshA6"
      }
    },
    {
      "cell_type": "markdown",
      "source": [
        "### Define ReverseSDE Class\n",
        "The ReverseSDE class is used to remove noise from the data at each time stamp based on the score_net weights."
      ],
      "metadata": {
        "id": "4baxUyXfL4Or"
      }
    },
    {
      "cell_type": "code",
      "source": [
        "# Modified from: https://github.com/aanaseer/ScoEHR/blob/main/scoehr/score_matching/sde_library.py\n",
        "\n",
        "class ReverseSDE(nn.Module):\n",
        "    \"\"\"Implements the reverse SDE.\"\"\"\n",
        "\n",
        "    def __init__(self, sde, score_net, T=1.0):\n",
        "        super().__init__()\n",
        "        self.sde = sde\n",
        "        self.score_net = score_net\n",
        "        self.T = T\n",
        "\n",
        "    def drift(self, x, t):\n",
        "        dt = -1\n",
        "        return (\n",
        "            self.sde.f(x, self.T - t)\n",
        "            - (self.sde.g(x, self.T - t) ** 2) * self.score_net(x, self.T - t.squeeze())\n",
        "        ) * dt\n",
        "\n",
        "    def diffusion(self, x, t):\n",
        "        return self.sde.g(x, self.T - t)  # Actual"
      ],
      "metadata": {
        "id": "cOqWHkqZL5TC"
      },
      "execution_count": 23,
      "outputs": []
    },
    {
      "cell_type": "markdown",
      "source": [
        "### Generate the Synthetic Data"
      ],
      "metadata": {
        "id": "xb2fy_O2L8jZ"
      }
    },
    {
      "cell_type": "code",
      "source": [
        "# Modified from: https://github.com/aanaseer/ScoEHR/blob/main/scoehr/main.py\n",
        "\n",
        "generate_data = False\n",
        "save_generated_data = False\n",
        "\n",
        "if generate_data:\n",
        "    time_steps = 25\n",
        "    num_samples_to_generate = batch_size * 10\n",
        "\n",
        "    print(\"==> Commencing reverse solve using torchsde Euler Maruyama.\")\n",
        "\n",
        "    reverse_sde = ReverseSDE(sde=sde, score_net=score_net, T=T)\n",
        "    torchsde_SDE = WrapperForTorchSDE(reverse_sde=reverse_sde, noise_type=\"diagonal\", sde_type=\"ito\")\n",
        "    ts = torch.linspace(0, 1, time_steps + 1) * reverse_sde.T\n",
        "    ts = ts.to(device)\n",
        "    with torch.no_grad():\n",
        "        assert (\n",
        "            num_samples_to_generate >= batch_size\n",
        "        ), \"Num to generate should be greater than or equal to batch size.\"\n",
        "        batch_iter = math.ceil(num_samples_to_generate / batch_size)\n",
        "        print(f\"==> Able to generate {batch_iter * batch_size} samples.\")\n",
        "\n",
        "        xs_batches = []\n",
        "        for i in range(0, batch_iter):\n",
        "            print(f\"==> Batch {i + 1} out of {batch_iter}.\")\n",
        "            x_0 = torch.randn(batch_size, enc_out_dim, device=device)\n",
        "            x_batch_solved = torchsde.sdeint(torchsde_SDE, x_0, ts, method=\"euler\")\n",
        "            with torch.no_grad():\n",
        "                print(\n",
        "                    f\"==> Decoding data generated in batch {i + 1} out of {batch_iter}.\"\n",
        "                )\n",
        "                x_batch_solved = torch.stack([x_batch_solved])\n",
        "                for x_encoded in x_batch_solved:\n",
        "                    out = autoencoder.decode(x_encoded.to(device))\n",
        "                    out = out.cpu().detach()\n",
        "                    xs_batches.append(out)\n",
        "                    del out\n",
        "                    torch.cuda.empty_cache()\n",
        "\n",
        "        xs = torch.cat(\n",
        "            xs_batches, 1\n",
        "        )  # this requires xs_batches = [tensor, tensor,..]\n",
        "\n",
        "        print(\"==> Reverse solve using torchsde Euler Maruyama completed.\")\n",
        "\n",
        "    xs_decoded = xs.clone().detach()  # torch.Size([101, 20, 625])\n",
        "    print(\"==> Generated samples have been decoded.\")\n",
        "    print(\"==> Converting decoded generated samples to binary data.\")\n",
        "\n",
        "    xs = convert_to_binary(data=xs_decoded)\n",
        "\n",
        "    print(\"==> Binary data conversion completed.\")\n",
        "\n",
        "\n",
        "    generated_data_at_every_time_step = xs.numpy()\n",
        "    generated_data_final = generated_data_at_every_time_step[-1]\n",
        "\n",
        "    if save_generated_data:\n",
        "        print(\"==> Saving generated data.\")\n",
        "        np.savez_compressed('./generated_data/data.npz', a=generated_data_final)\n",
        "        print(\"Generated data saved to ./generated_data/data.npz\")\n",
        "\n",
        "else:\n",
        "    data = np.load('./generated_data/data.npz')\n",
        "    generated_data_final = data['a']\n",
        "    print(\"Loaded data\")"
      ],
      "metadata": {
        "id": "srceklV9MANV",
        "colab": {
          "base_uri": "https://localhost:8080/",
          "height": 0
        },
        "outputId": "63289b9d-2287-4daa-84d5-c9c9e0b6f9c9"
      },
      "execution_count": 24,
      "outputs": [
        {
          "output_type": "stream",
          "name": "stdout",
          "text": [
            "Loaded data\n"
          ]
        }
      ]
    },
    {
      "cell_type": "markdown",
      "metadata": {
        "id": "714ca8ab-0995-41e4-b588-52f8c3be4e56"
      },
      "source": [
        "## Evaluation\n",
        "\n",
        "The original paper looked at three types of Metrics\n",
        "1. Quantitative Metrics\n",
        "2. Qualitative Metrics\n",
        "3. Privacy Metrics"
      ]
    },
    {
      "cell_type": "markdown",
      "metadata": {
        "id": "b590bf2d-5522-4ed3-b698-c62b769356bc"
      },
      "source": [
        "### 1. Quantitative Metrics"
      ]
    },
    {
      "cell_type": "markdown",
      "metadata": {
        "id": "ded96552-4e10-498c-b9e5-ec7f5cc4d5fd"
      },
      "source": [
        "**1.1 Dimensional Distribution Metric**\n",
        "\n",
        "Assessing if marginal distributions in real data are captured by the synthetic data. ie, for a given category of data, such as age, independent of other variables, the distribution is expected.\n",
        "\n",
        "Binary Data:\n",
        "\n",
        "$$\\boldsymbol{DWM} = \\sum_{i=1}^N \\vert \t\\frac{1}{n_d} \\sum_{j=1}^{n_d} {d}_j,_i - \\hat{d}_j,_i \\vert$$\n",
        "\n",
        "Continuous Variable Data:\n",
        "\n",
        "$$\\boldsymbol{DEM} = \\sum_{i=1}^N \\frac{1}{n_c} \\sum_{j=1}^{n_c} \\vert {c}_j,_i - \\hat{c}_j,_i \\vert$$\n",
        "\n",
        "Total Score:\n",
        "\n",
        "$$\\frac{DWM + DEM}{N}$$\n",
        "\n",
        "A lower value indicates that the real and synthetic data have similar marginal relationships.\n",
        "\n",
        "---\n",
        "Results found in the paper:\n",
        "\n",
        "Model | MIMIC-III Dataset | ED EHR Dataset\n",
        "--- | --- | ---\n",
        "medGAN | 0.0019 $\\pm$ 0.0001 | 0.012 $\\pm$ 0.001 |\n",
        "medBGAN | 0.0016 $\\pm$ 0.0001 | 0.014 $\\pm$ 0.001 |\n",
        "medWGAN | 0.0025 $\\pm$ 0.0001 | 0.0088 $\\pm$ 0.0001 |\n",
        "ScoEHR | 0.0029 $\\pm$ 0.0001 | 0.0037 $\\pm$ 0.0001 |"
      ]
    },
    {
      "cell_type": "code",
      "execution_count": 25,
      "metadata": {
        "id": "0694273d-8693-4ab4-8d12-47e1d444a5ef",
        "colab": {
          "base_uri": "https://localhost:8080/",
          "height": 0
        },
        "outputId": "4964ca2e-b4b6-4548-baea-3421e60e8f6f"
      },
      "outputs": [
        {
          "output_type": "stream",
          "name": "stdout",
          "text": [
            "Dimensional Distribution Metric: 0.0011906431755051017\n",
            "Recreated results have 58.94% better marginal relationships than the original.\n"
          ]
        }
      ],
      "source": [
        "real = test_data[0:generated_data_final.shape[0]].to(\"cpu\").detach()\n",
        "synthetic = generated_data_final\n",
        "\n",
        "#Note: Because this is entirely binary data, DEM is not needed\n",
        "DWM = torch.sum(torch.abs(torch.mean(real - synthetic, axis=0)))\n",
        "DDM = DWM / len(real)\n",
        "DDM = DDM.item()\n",
        "print(f\"Dimensional Distribution Metric: {DDM}\")\n",
        "DDM_original = 0.0029\n",
        "DDM_compare = round(((DDM - DDM_original) / abs(DDM_original)) * 100,2)\n",
        "if (DDM_compare < 0):\n",
        "  print(f\"Recreated results have {abs(DDM_compare)}% better marginal relationships than the original.\")\n",
        "elif ((DDM_compare > 0)):\n",
        "  print(f\"Recreated results have {DDM_compare}% worse marginal relationships than the original.\")\n",
        "else:\n",
        "  print(\"Recreated results have the same marginal relationships as the original.\")"
      ]
    },
    {
      "cell_type": "markdown",
      "metadata": {
        "id": "db7ccc06-9793-4bc1-9e14-c7a04c1b39b3"
      },
      "source": [
        "**1.2 Pairwise Correlation Difference**\n",
        "\n",
        "Assessing if the correlations in the real and synthetic datasets are similar. The Pearson Correlation Matrices are found for the real and sythetic data which are used to compute the Frobenius Norm of the difference.\n",
        "\n",
        "$$PCD = \\Vert Corr(D) - Corr(\\hat D) \\Vert_F$$\n",
        "\n",
        "The closer PCD is to zero, the better the inter-dimensional relationships are caputred by the synthetic data.\n",
        "\n",
        "---\n",
        "Results found in the paper:\n",
        "\n",
        "Model | MIMIC-III Dataset | ED EHR Dataset\n",
        "--- | --- | ---\n",
        "medGAN | 120 $\\pm$ 8 | 24.1 $\\pm$ 0.2 |\n",
        "medBGAN | 146 $\\pm$ 6 | 20.7 $\\pm$ 0.5 |\n",
        "medWGAN | 22.1 $\\pm$ 0.4 | 15.2 $\\pm$ 0.3 |\n",
        "ScoEHR | 21.8 $\\pm$ 0.3 | 33.6 $\\pm$ 0.2 |"
      ]
    },
    {
      "cell_type": "code",
      "source": [
        "corr_real = torch.corrcoef(real)\n",
        "corr_synthetic = torch.corrcoef(torch.from_numpy(synthetic))\n",
        "\n",
        "#This allows us to ignore the rows and columns with no variance (the nan values)\n",
        "corr_real[torch.isnan(corr_real)] = 0\n",
        "corr_synthetic[torch.isnan(corr_synthetic)] = 0\n",
        "\n",
        "PCD = torch.norm(corr_real - corr_synthetic).item()\n",
        "PCD_original = 21.8\n",
        "PCD_compare = round(((PCD - PCD_original) / abs(PCD_original)) * 100,2)\n",
        "print(f\"PCD: {PCD}\")\n",
        "if (PCD_compare < 0):\n",
        "  print(f\"Recreated results have {abs(PCD_compare)}% better inter-dimensional relationships than the original.\")\n",
        "elif ((PCD_compare > 0)):\n",
        "  print(f\"Recreated results have {PCD_compare}% worse inter-dimensional relationships than the original.\")\n",
        "else:\n",
        "  print(\"Recreated results have the same marginal inter-dimensional as the original.\")"
      ],
      "metadata": {
        "id": "ARzOFISCdbfo",
        "colab": {
          "base_uri": "https://localhost:8080/",
          "height": 0
        },
        "outputId": "2533e6bd-a006-4227-97ee-685ee5326a63"
      },
      "execution_count": 26,
      "outputs": [
        {
          "output_type": "stream",
          "name": "stdout",
          "text": [
            "PCD: 984.2593994140625\n",
            "Recreated results have 4414.95% worse inter-dimensional relationships than the original.\n"
          ]
        }
      ]
    },
    {
      "cell_type": "markdown",
      "metadata": {
        "id": "cdd4daca-3efd-4f98-9cb2-8adfc2b770bb"
      },
      "source": [
        "**1.3 Marginal and Correlation Similarity**\n",
        "\n",
        "Assessing the similarity of the latent structure of the real and synthetic datsets. This is obtained by concatenating both datasets and using k-means clustering to determine 'G' clusters.\n",
        "\n",
        "$$U = log(\\frac{1}{G})\\sum_{j=1}^G\\lbrack \\frac{n_j^R}{n_j} - c \\rbrack ^2$$\n",
        "* $G$ is the number of clusters\n",
        "\n",
        "* ${n_j^R}$ is the number of samples from the real dataset\n",
        "\n",
        "* ${n_j^S}$ is the number of samples from the synthetic dataset\n",
        "\n",
        "* ${n_j}$ is the number of samples in the j-th cluster\n",
        "* $c$ is $\\frac{n^R}{n^R + n^S} $\n",
        "\n",
        "\n",
        "A lower log-cluster score indicates more similarity between the synthetic and real data.\n",
        "\n",
        "---\n",
        "Results found in the paper:\n",
        "\n",
        "Model | MIMIC-III Dataset | ED EHR Dataset\n",
        "--- | --- | ---\n",
        "medGAN | -2.9 $\\pm$ 0.1 | -3.7 $\\pm$ 0.3 |\n",
        "medBGAN | -3.2 $\\pm$ 0.1 | -2.5 $\\pm$ 0.2 |\n",
        "medWGAN | -5.4 $\\pm$ 0.2 | -6.1 $\\pm$ 0.4 |\n",
        "ScoEHR | -6.0 $\\pm$ 0.1 | -7.8 $\\pm$ 0.5 |"
      ]
    },
    {
      "cell_type": "code",
      "source": [
        "# Waiting to implement until original paper can be properly recreated so proper number of clusters can be determined"
      ],
      "metadata": {
        "id": "L2cSg_N2UaFy"
      },
      "execution_count": 27,
      "outputs": []
    },
    {
      "cell_type": "markdown",
      "metadata": {
        "id": "7d2660b2-f506-4ff1-87dc-11e40c259cda"
      },
      "source": [
        "**1.4 Synthetic Ranking Agreement**\n",
        "\n",
        "Assessing the utility of the synethic data for use in downstream machine learning tasks by comparing results obtained through synthetic data and results obtained when using real data. This is obtained by training and testing a machine learning model using both real and synthetic data and finding their respective AUROC.\n",
        "\n",
        "$$SRA = \\frac{1}{L(L-1)}\\sum_{j=1}^L\\sum_{k\\ne j} \\mathbb{I} ((A_j-A_k)(B_j-B_k)) > 0$$\n",
        "\n",
        "* $L$ is the number of machine learning models\n",
        "* $A$ are a set of AUROC values for models trained and tested with real data\n",
        "* $B$ are  a set of AUROC values for\n",
        " models trained and tested with synthetic data\n",
        "* $\\mathbb{I}$ is the indicator function.\n",
        "\n",
        "A higher SRA indicates similarity in machine learning tasks.\n",
        "\n",
        "---\n",
        "Results found in the paper:\n",
        "\n",
        "Model | MIMIC-III Dataset | ED EHR Dataset\n",
        "--- | --- | ---\n",
        "medGAN | 0.83 $\\pm$ 0.02 | 0.81 $\\pm$ 0.02 |\n",
        "medBGAN | 0.86 $\\pm$ 0.03 | 0.85 $\\pm$ 0.03 |\n",
        "medWGAN | 0.81 $\\pm$ 0.03 | 0.83 $\\pm$ 0.04 |\n",
        "ScoEHR | 0.87 $\\pm$ 0.02 | 0.86 $\\pm$ 0.03 |"
      ]
    },
    {
      "cell_type": "code",
      "execution_count": 28,
      "metadata": {
        "id": "e0523d15-f294-4be2-b1b1-310082fb9429"
      },
      "outputs": [],
      "source": [
        "# Waiting to implement until original paper can be properly recreated so proper machine learning task can be determined\n",
        "\n",
        "# #TODO: Consider using PyHealth to run basic, quick tasks and get AUROC\n",
        "# A = None\n",
        "# B = None\n",
        "\n",
        "# #https://www.statlect.com/fundamentals-of-probability/indicator-functions\n",
        "# SRA = None\n",
        "# print(f\"Synthetic Ranking Agreement: {SRA}\")\n",
        "# SRA_original = 0.87\n",
        "# SRA_compare = round(((SRA - SRA_original) / abs(SRA_original)) * 100,2)\n",
        "# if (SRA_compare > 0):\n",
        "#   print(f\"Recreated results have {SRA_compare}% better similarity in machine learning tasks than the original.\")\n",
        "# elif ((SRA_compare < 0)):\n",
        "#   print(f\"Recreated results have {abs(SRA_compare)}% worse similarity in machine learning tasks than the original.\")\n",
        "# else:\n",
        "#   print(\"Recreated results have the same similarity in machine learning tasks as the original.\")"
      ]
    },
    {
      "cell_type": "markdown",
      "metadata": {
        "id": "ebaaa065-ff5f-445f-ad2c-4a48abdf6d75"
      },
      "source": [
        "### 2. Qualitative Metrics\n",
        "**Clinician Review**\n",
        "\n",
        "A random mixed set of real and synthetic data was inspected to evaluate realism.\n",
        "\n",
        "---\n",
        "\n",
        "In the paper, 100 synthetic patients and 100 real patients were combined and label as 'realistic' or 'unrealistic' by 3 board certified clinicians.\n",
        "\n",
        "*   If a patient is considered 'unrealistic' if one clinician labeled them as such, 81% of real patients were labeled as real and 81% of synthetic patients were labeled as real\n",
        "*   If a patient is considered realistic if at least one clinician labeled them as realistic, 100% of real and synthetic patients were labeled realistic\n",
        "*   If a patient is considered realistic only if a majority of the 3 clinicians agreed, 93% of real patients were labeled as real and 95% of the synthetic patients were labeled as real\n",
        "---\n",
        "Note: We are not recreating this metric due to lack of connections with board certified clinicians. This metric is referenced for completeness.\n"
      ]
    },
    {
      "cell_type": "markdown",
      "metadata": {
        "id": "a3266b97-dfbc-495a-87cd-c05b6b7502b5"
      },
      "source": [
        "### 3. Privacy\n",
        "\n",
        "Assessing if, given a random sample of synthetic data and training data, it could be determined with likely probability that someone's data was used in the training. This is determined by calculating the Cosine Similarity between the real and synthetic data. If the probabliity is 50% or higher, the patients privacy is considered to be compromised."
      ]
    },
    {
      "cell_type": "code",
      "execution_count": 29,
      "metadata": {
        "id": "926237e4-4d5e-4b75-8cc1-40eca550cd71",
        "colab": {
          "base_uri": "https://localhost:8080/",
          "height": 0
        },
        "outputId": "d3abaed5-a0ea-4598-e42b-2833dbfd6419"
      },
      "outputs": [
        {
          "output_type": "stream",
          "name": "stdout",
          "text": [
            "Confidence in determining if someone's data was used in training: tensor([0.0000, 0.0000, 0.0000,  ..., 0.6124, 0.0000, 0.2649])\n",
            "Privacy is protected for 5068 / 5120 patients\n",
            "Privacy is NOT protected for 52 / 5120 patients\n"
          ]
        }
      ],
      "source": [
        "cosine_sim = torch.nn.functional.cosine_similarity(real, torch.from_numpy(synthetic), dim=1)\n",
        "print(f\"Confidence in determining if someone's data was used in training: {cosine_sim}\")\n",
        "\n",
        "print(f\"Privacy is protected for {(cosine_sim <= 0.5).sum()} / {cosine_sim.shape[0]} patients\")\n",
        "print(f\"Privacy is NOT protected for {(cosine_sim > 0.5).sum()} / {cosine_sim.shape[0]} patients\")"
      ]
    },
    {
      "cell_type": "markdown",
      "source": [
        "#Discussion\n"
      ],
      "metadata": {
        "id": "qH75TNU71eRH"
      }
    },
    {
      "cell_type": "markdown",
      "source": [
        "**1. Results**\n",
        "\n",
        "Desipte some computaitonal limitations, we have been able to implement the preprocessing and model training on the full (MIMIC-III) data set, generate synthetic data, and test several of the evaluation metrics:\n",
        "\n",
        "- **Metric 1.1 (Dimensional Distribution Metric):**\n",
        " - Paper: $0.0029\\pm0.0001$\n",
        " - Our Results: $0.0012$\n",
        "- **Metric 1.2 (Pairwise Correlation Difference):**\n",
        " - Paper: $21.8\\pm0.3$\n",
        " - Our Results: ~$900$\n",
        "- **Metric 3 (Privacy):**\n",
        " - Paper: Privacy protected for 100% of patients\n",
        " - Our Results: Privacy protected for 99% of patients\n"
      ],
      "metadata": {
        "id": "gX6bCcZNuxmz"
      }
    },
    {
      "cell_type": "markdown",
      "source": [
        "**2. Analysis**\n",
        "\n",
        "We have found the paper to be very accessible yet detailed, making it relatively painless to reproduce. Additionally, having access to the code and dataset used in the original paper helps immensly in reproducing results. So far we have found the most difficult part to be address compute limitations and determining how to implement fine details of the paper.  As a result we have had mixed results reproducing all of the metrics from the original paper.\n",
        "\n",
        "- **Metric 1.1 (Dimensional Distribution Metric):** While not exactly the same, our results were at least within the same order of magnitude of the results in the paper ($0.0029\\pm0.0001$ for the paper vs. $0.0012$ in our results) and in fact our results were better than those in the paper (lower is better).\n",
        "- **Metric 1.2 (Pairwise Correlation Difference):** Our results were significantly worse than the original paper ($21.8\\pm0.3$ in the paper vs. $~900$ in our results).\n",
        "- **Metric 1.3 (Marginal and Correlation Similarity):** Not yet implemented as we are currently focusing on reviewing the other metrics.\n",
        "- **Metric 1.4 (Synthetic Ranking Agreement):** Not yet implemented as we are currently focusing on reviewing the other metrics.\n",
        "- **Metric 3 (Privacy):** Our results determine that privacy was protected for ~99% of patients while the paper indicated that privacy was protected for all patients.\n",
        "\n",
        "Overall our metrics reveal that there is still a gap between our synthetic data and the synthetic data produced in the paper."
      ],
      "metadata": {
        "id": "EQyuJN57ad4_"
      }
    },
    {
      "cell_type": "markdown",
      "source": [
        "**3. Plan**\n",
        "\n",
        " We plan on further debugging our code to determine if we can get results closer to the paper.  We plan to do this both by testing different hyperparameters as well as using a count representation of each ICD code instead of binary data representation of them.  Both of these options were included in the original paper's code without a note as to which would yield better results).  We will next finish implementing the evaluation metrics, testing various abalations, and implement the Synthetic Ranking Agreement metric."
      ],
      "metadata": {
        "id": "kiPTRltWaifH"
      }
    },
    {
      "cell_type": "markdown",
      "source": [
        "# References\n",
        "\n",
        "1.   A.A. Naseer et al, ScoEHR: Generating Synthetic Electronic Health Records\n",
        "using Continuous-time Diffusion Models, Proceedings of Machine Learning Research, 2023, 219:1–22, doi: https://static1.squarespace.com/static/59d5ac1780bd5ef9c396eda6/t/64d1aa32ed57852af9c0ad60/1691462195379/ID145_Research+Paper_2023.pdf\n",
        "(doi url could not be found)\n",
        "\n"
      ],
      "metadata": {
        "id": "SHMI2chl9omn"
      }
    }
  ]
}