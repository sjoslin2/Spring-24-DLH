{
  "cells": [
    {
      "cell_type": "markdown",
      "metadata": {
        "id": "MQ0sNuMePBXx"
      },
      "source": [
        "# Introduction\n",
        "This is the project report for the final course project.\n",
        "\n",
        "**Team 97:** Cody Talmadge(codytt2@illinois.edu), Seth Joslin (sjoslin2@illnois.edu), and Sree Alaparthi (sa68@illinois.edu)\n",
        "\n",
        "**Github:** [https://github.com/sjoslin2/Spring-24-DLH](https://github.com/sjoslin2/Spring-24-DLH)\n",
        "\n",
        "**Paper 33 - ScoEHR**: Generating Synthetic Electronic Health Records using Continuous-time Diffusion Models[1] https://www.mlforhc.org/s/ID145_Research-Paper_2023.pdf\n",
        "\n",
        "##   Background of the problem\n",
        "\n",
        "   Patient health data, mainly kept in electronic health records (EHRs), plays a crucial role in the healthcare sector, with its increase in usage rates in hospitals across both the US and UK. EHRs include both structured and unstructured data, from patient demographics to medical images, enabling extensive analysis to unveil disease progression and health trends. Leveraging EHRs, predictive and prescriptive machine learning models have revolutionized patient care, predicting outcomes and disease severity with high accuracy. However, sharing EHRs remains constrained by regulatory frameworks like HIPAA and GDPR, compounded by challenges in aggregating EHRs due to varying standards and policies. Synthetic data generation offers a solution, addressing access and bias issues. However, generating synthetic EHRs is complex due to high dimensionality and data heterogeneity. While  generative Adversarial Networks (GANs) have been popular, they face challenges like mode collapse and unstable training. Recently, diffusion models have emerged as promising alternatives, offering stable training and high-fidelity data synthesis, making them ideal for synthetic EHR generation.\n",
        "\n",
        "\n",
        "##   Paper explanation\n",
        "\n",
        "  This paper introduces ScoEHR, a synthetic EHR generation framework employing continuous-time diffusion models. ScoEHR combines an autoencoder with a continuous-time diffusion model.The ScoEHR transforms real data into a low-dimensional space through an encoder from a pre-trained autoencoder. Within this low-dimensional space, a forward stochastic differential equation (SDE) diffuses the data. Subsequently, a reverse SDE is learned and applied to generate new synthetic data. This synthetic data is then transformed using the decoder from the autoencoder to produce the final synthetic EHR data.\n",
        "  ScoEHR was compared to medGAN, medWGAN, and medBGAN using the following four performance metrics of data generation utility:\n",
        "     \n",
        "   *   Preservation of feature marginal relationships,\n",
        "   *   Preservation of feature correlations,\n",
        "   *   Preservation of full feature distribution using log-clusters,\n",
        "   *   Synthetic data performance in downstream predictions of patient outcomes.\n",
        "\n",
        "   Additionally, Physician evaluation confirms its realism, establishing ScoEHR as the current state-of-the-art in synthetic EHR generation."
      ]
    },
    {
      "cell_type": "markdown",
      "metadata": {
        "id": "uygL9tTPSVHB"
      },
      "source": [
        "# Scope of Reproducibility:\n",
        "There are two central hypotheses that were tested as a part of this paper: ScoEHR produces higher-quality synthetic data than the previously-leading synthetic EHR models and United States board-certified physicians cannot differentiate between the synthetic data produced by ScoEHR and real EHR data.\n",
        "\n",
        "\n",
        "1.   **Hypothesis 1:**\n",
        " - **Hypothesis:** The first hypothesis was tested by comparing ScoEHR against the three-leading synthetic EHR models (medGAN [2], medWGAN [3], and medBGAN[3]) on four key areas: preservation of feature marginal relationships, preservation of feature correlations, preservation of full feature distributing using log-clusters, and synthetic data performance in downstream predictions of patient outcomes.\n",
        " - **Scope of Reproducibility:** We made an initial attempt to partially replicate the aforementioned hypothesis using the MIMIC-III dataset, however, the outcomes are not same as the results provided in the paper. We are committed to further refining our approach to improve the consistency of results.\n",
        "\n",
        "2.   **Hypothesis 2:**\n",
        " - **Hypothesis:** The second hypothesis was tested by presenting both synthetic and real EHR data to physicians and asking them to identify the “real” data. By looking at what portion of synthetic data they identified as “real” and comparing it with the portion of real data they identified as “real” the authors were able to determine that physicians were not able to tell the difference between the synthetic and real data.\n",
        " - **Scope of Reproducibility:** This hypothesis might be unfeasible without real doctors available to validate the authenticity of synthetic records."
      ]
    },
    {
      "cell_type": "markdown",
      "metadata": {
        "id": "xWAHJ_1CdtaA"
      },
      "source": [
        "# Methodology\n",
        "\n",
        "The Methodology section consists of 5 sub-sections:\n",
        "- Environment\n",
        "- Data\n",
        "- Model\n",
        "- Training\n",
        "- Evaluation\n",
        "\n",
        "For each sub-section, a description/explanation of that sub-section is given as well as implementation code."
      ]
    },
    {
      "cell_type": "markdown",
      "source": [
        "##Environment\n",
        "###Python Version\n",
        "\n",
        "Python 3.10.12"
      ],
      "metadata": {
        "id": "Zmn5YhcUR7X8"
      }
    },
    {
      "cell_type": "code",
      "source": [
        "!python --version"
      ],
      "metadata": {
        "colab": {
          "base_uri": "https://localhost:8080/"
        },
        "id": "3YQClB6BSOJR",
        "outputId": "41d4c89d-2f76-407f-8d38-28484f99d029"
      },
      "execution_count": 2,
      "outputs": [
        {
          "output_type": "stream",
          "name": "stdout",
          "text": [
            "Python 3.10.12\n"
          ]
        }
      ]
    },
    {
      "cell_type": "markdown",
      "metadata": {
        "id": "BPvMd8DMR3En"
      },
      "source": [
        "###Manual Setup Needed\n",
        "In order to run this notebook, you will need to:\n",
        "1. Ensure that you downloaded it from the [github repository](https://github.com/sjoslin2/Spring-24-DLH).  This means that you should see the following folders:\n",
        " - `./mimic/` - Empty folder where you need to manually add the MIMIC-III data files (detailed instructions in Data sub-section).\n",
        " - `./saved_models/` - This is where the saved Autoencoder and Score Net model parametres live.  Training these models from scratch instead requires ~30 minutes of GPU time.\n",
        " - `./stats/` - This contains stats information around the model training.  If you train these models from scratch then your model trainings stats are displayed instead.\n",
        " - `./generated_data/` - This contains synthetic data generated by the model.  If you want to generate your own synthetic data you'll need ~30 minutes of GPU time.\n",
        "2. Ensure you have added the MIMIC-III data files into the `./mimic/` folder (detailed instructions in the Data sub-section).\n",
        "\n",
        "###Dependencies and Packages\n",
        "This section installs all required modules and imports them for later use."
      ]
    },
    {
      "cell_type": "code",
      "execution_count": 3,
      "metadata": {
        "colab": {
          "base_uri": "https://localhost:8080/"
        },
        "id": "yu61Jp1xrnKk",
        "outputId": "1090faea-fe48-486a-dcd7-26c9f4e9a52b"
      },
      "outputs": [
        {
          "output_type": "stream",
          "name": "stdout",
          "text": [
            "Collecting torchsde\n",
            "  Downloading torchsde-0.2.6-py3-none-any.whl (61 kB)\n",
            "\u001b[?25l     \u001b[90m━━━━━━━━━━━━━━━━━━━━━━━━━━━━━━━━━━━━━━━━\u001b[0m \u001b[32m0.0/61.2 kB\u001b[0m \u001b[31m?\u001b[0m eta \u001b[36m-:--:--\u001b[0m\r\u001b[2K     \u001b[90m━━━━━━━━━━━━━━━━━━━━━━━━━━━━━━━━━━━━━━━━\u001b[0m \u001b[32m61.2/61.2 kB\u001b[0m \u001b[31m1.7 MB/s\u001b[0m eta \u001b[36m0:00:00\u001b[0m\n",
            "\u001b[?25hRequirement already satisfied: numpy>=1.19 in /usr/local/lib/python3.10/dist-packages (from torchsde) (1.25.2)\n",
            "Requirement already satisfied: scipy>=1.5 in /usr/local/lib/python3.10/dist-packages (from torchsde) (1.11.4)\n",
            "Requirement already satisfied: torch>=1.6.0 in /usr/local/lib/python3.10/dist-packages (from torchsde) (2.2.1+cu121)\n",
            "Collecting trampoline>=0.1.2 (from torchsde)\n",
            "  Downloading trampoline-0.1.2-py3-none-any.whl (5.2 kB)\n",
            "Requirement already satisfied: filelock in /usr/local/lib/python3.10/dist-packages (from torch>=1.6.0->torchsde) (3.14.0)\n",
            "Requirement already satisfied: typing-extensions>=4.8.0 in /usr/local/lib/python3.10/dist-packages (from torch>=1.6.0->torchsde) (4.11.0)\n",
            "Requirement already satisfied: sympy in /usr/local/lib/python3.10/dist-packages (from torch>=1.6.0->torchsde) (1.12)\n",
            "Requirement already satisfied: networkx in /usr/local/lib/python3.10/dist-packages (from torch>=1.6.0->torchsde) (3.3)\n",
            "Requirement already satisfied: jinja2 in /usr/local/lib/python3.10/dist-packages (from torch>=1.6.0->torchsde) (3.1.3)\n",
            "Requirement already satisfied: fsspec in /usr/local/lib/python3.10/dist-packages (from torch>=1.6.0->torchsde) (2023.6.0)\n",
            "Collecting nvidia-cuda-nvrtc-cu12==12.1.105 (from torch>=1.6.0->torchsde)\n",
            "  Using cached nvidia_cuda_nvrtc_cu12-12.1.105-py3-none-manylinux1_x86_64.whl (23.7 MB)\n",
            "Collecting nvidia-cuda-runtime-cu12==12.1.105 (from torch>=1.6.0->torchsde)\n",
            "  Using cached nvidia_cuda_runtime_cu12-12.1.105-py3-none-manylinux1_x86_64.whl (823 kB)\n",
            "Collecting nvidia-cuda-cupti-cu12==12.1.105 (from torch>=1.6.0->torchsde)\n",
            "  Using cached nvidia_cuda_cupti_cu12-12.1.105-py3-none-manylinux1_x86_64.whl (14.1 MB)\n",
            "Collecting nvidia-cudnn-cu12==8.9.2.26 (from torch>=1.6.0->torchsde)\n",
            "  Using cached nvidia_cudnn_cu12-8.9.2.26-py3-none-manylinux1_x86_64.whl (731.7 MB)\n",
            "Collecting nvidia-cublas-cu12==12.1.3.1 (from torch>=1.6.0->torchsde)\n",
            "  Using cached nvidia_cublas_cu12-12.1.3.1-py3-none-manylinux1_x86_64.whl (410.6 MB)\n",
            "Collecting nvidia-cufft-cu12==11.0.2.54 (from torch>=1.6.0->torchsde)\n",
            "  Using cached nvidia_cufft_cu12-11.0.2.54-py3-none-manylinux1_x86_64.whl (121.6 MB)\n",
            "Collecting nvidia-curand-cu12==10.3.2.106 (from torch>=1.6.0->torchsde)\n",
            "  Using cached nvidia_curand_cu12-10.3.2.106-py3-none-manylinux1_x86_64.whl (56.5 MB)\n",
            "Collecting nvidia-cusolver-cu12==11.4.5.107 (from torch>=1.6.0->torchsde)\n",
            "  Using cached nvidia_cusolver_cu12-11.4.5.107-py3-none-manylinux1_x86_64.whl (124.2 MB)\n",
            "Collecting nvidia-cusparse-cu12==12.1.0.106 (from torch>=1.6.0->torchsde)\n",
            "  Using cached nvidia_cusparse_cu12-12.1.0.106-py3-none-manylinux1_x86_64.whl (196.0 MB)\n",
            "Collecting nvidia-nccl-cu12==2.19.3 (from torch>=1.6.0->torchsde)\n",
            "  Using cached nvidia_nccl_cu12-2.19.3-py3-none-manylinux1_x86_64.whl (166.0 MB)\n",
            "Collecting nvidia-nvtx-cu12==12.1.105 (from torch>=1.6.0->torchsde)\n",
            "  Using cached nvidia_nvtx_cu12-12.1.105-py3-none-manylinux1_x86_64.whl (99 kB)\n",
            "Requirement already satisfied: triton==2.2.0 in /usr/local/lib/python3.10/dist-packages (from torch>=1.6.0->torchsde) (2.2.0)\n",
            "Collecting nvidia-nvjitlink-cu12 (from nvidia-cusolver-cu12==11.4.5.107->torch>=1.6.0->torchsde)\n",
            "  Using cached nvidia_nvjitlink_cu12-12.4.127-py3-none-manylinux2014_x86_64.whl (21.1 MB)\n",
            "Requirement already satisfied: MarkupSafe>=2.0 in /usr/local/lib/python3.10/dist-packages (from jinja2->torch>=1.6.0->torchsde) (2.1.5)\n",
            "Requirement already satisfied: mpmath>=0.19 in /usr/local/lib/python3.10/dist-packages (from sympy->torch>=1.6.0->torchsde) (1.3.0)\n",
            "Installing collected packages: trampoline, nvidia-nvtx-cu12, nvidia-nvjitlink-cu12, nvidia-nccl-cu12, nvidia-curand-cu12, nvidia-cufft-cu12, nvidia-cuda-runtime-cu12, nvidia-cuda-nvrtc-cu12, nvidia-cuda-cupti-cu12, nvidia-cublas-cu12, nvidia-cusparse-cu12, nvidia-cudnn-cu12, nvidia-cusolver-cu12, torchsde\n",
            "Successfully installed nvidia-cublas-cu12-12.1.3.1 nvidia-cuda-cupti-cu12-12.1.105 nvidia-cuda-nvrtc-cu12-12.1.105 nvidia-cuda-runtime-cu12-12.1.105 nvidia-cudnn-cu12-8.9.2.26 nvidia-cufft-cu12-11.0.2.54 nvidia-curand-cu12-10.3.2.106 nvidia-cusolver-cu12-11.4.5.107 nvidia-cusparse-cu12-12.1.0.106 nvidia-nccl-cu12-2.19.3 nvidia-nvjitlink-cu12-12.4.127 nvidia-nvtx-cu12-12.1.105 torchsde-0.2.6 trampoline-0.1.2\n"
          ]
        }
      ],
      "source": [
        "!pip install torchsde"
      ]
    },
    {
      "cell_type": "code",
      "execution_count": 4,
      "metadata": {
        "colab": {
          "base_uri": "https://localhost:8080/"
        },
        "id": "1WjJgWYLZl2g",
        "outputId": "1420a4a3-71ea-4019-b84b-8d68f48f516e"
      },
      "outputs": [
        {
          "output_type": "stream",
          "name": "stdout",
          "text": [
            "Mounted at /content/drive\n"
          ]
        }
      ],
      "source": [
        "# Import all the required packages\n",
        "\n",
        "import torch\n",
        "import os\n",
        "import tqdm\n",
        "import math\n",
        "import time\n",
        "import torchsde\n",
        "import gc\n",
        "\n",
        "import numpy as np\n",
        "import torch.nn.functional as F\n",
        "import _pickle as pickle\n",
        "\n",
        "from torch import nn\n",
        "from torch.utils.data import DataLoader\n",
        "from torch.nn.init import _calculate_fan_in_and_fan_out\n",
        "from torch.optim import lr_scheduler\n",
        "from sklearn.model_selection import train_test_split\n",
        "from datetime import datetime\n",
        "from matplotlib import pyplot\n",
        "import matplotlib.pyplot as plt\n",
        "\n"
      ]
    },
    {
      "cell_type": "code",
      "source": [
        "# Mount the Google Drive\n",
        "try:\n",
        "  import google.colab\n",
        "  IN_COLAB = True\n",
        "except:\n",
        "  IN_COLAB = False\n",
        "\n",
        "device = \"cuda\" if torch.cuda.is_available() else \"cpu\"\n",
        "\n",
        "if IN_COLAB:\n",
        "  from google.colab import drive\n",
        "  drive.mount('/content/drive')\n",
        "  file_location = \"/content/drive/MyDrive/DLH/\"\n",
        "else:\n",
        "  file_location = \".\""
      ],
      "metadata": {
        "id": "IKcGuDSSXJRO"
      },
      "execution_count": null,
      "outputs": []
    },
    {
      "cell_type": "markdown",
      "metadata": {
        "id": "2NbPHUTMbkD3"
      },
      "source": [
        "##  Data\n",
        "### Data Download Instructions\n",
        "We are using MIMIC-III dataset from physionet -> https://physionet.org/content/mimiciii/1.4/.\n",
        "\n",
        "Please follow the instructions in piazza post #338 to access the MIMIC-III dataset. Download and decompress the following two csv files and place them in the `./mimic` folder:\n",
        "- `ADMISSIONS.csv`\n",
        "- `DIAGNOSES_ICD.csv`"
      ]
    },
    {
      "cell_type": "markdown",
      "source": [
        "### Data Descriptions\n",
        "\n",
        "MIMIC-III critical care database is an freely accessible database containing de-identified health data associated with approximately 40,000 patients who stayed in intensive care units at the Beth Israel Deaconess Medical Center between 2001 and 2012.There has been several versions of the MIMIC-III database since it was released.Current version of the dataset is MIMIC-III v1.4 released on 2nd September 2016 which majorly focused on enhancement of data quality and providing addition of large amount of data.\n",
        "\n",
        "MIMIC-III is a relational database consisting of 26 tables, out of which only 2 tables namely ADMISSIONS and DIAGNOSES_ICD are used. Tables are linked by identifiers which usually have the suffix ‘ID’. For example, SUBJECT_ID refers to a unique patient and HADM_ID refers to a unique admission to the hospital.\n",
        "\n",
        "The **ADMISSIONS** table contains several columns, including *row_id, subject_id, hadm_id, admittime, dischtime, deathtime, admission_type, admission_location, discharge_location, insurance, language, religion, marital_status, ethnicity, edregtime, edouttime, diagnosis, hospital_expire_flag, and has_chartevents_data*. However, for this project, we focus on only three columns: ***subject_id, hadm_id, and admittime***. The hadm_id , which  identifies the hospital stay serves as the primary key and the subject_id is the foriegn key for the ADMISSIONS table.A patient with multiple admissions will have duplicate subject_id entries for the same hadm_id. The admittime column represents the time of admission to the hospital.\n",
        "\n",
        "\n",
        "The **DIAGNOSES_ICD** consists of following columns:\n",
        "*row_id,\tsubject_id,\thadm_id, seq_num,\ticd9_code*.\n",
        "For this project, we are only utilizing two columns: ***hadm_id ***and*** icd9_code***. The icd9_code colum provides the diagnoses code.\n",
        "\n",
        "Statistics of MIMIC-III dataset:\n",
        "*   Dataset: MIMIC3Dataset\n",
        "*   Number of patients: 49993\n",
        "*   Number of visits: 52769\n",
        "*   Number of visits per patient: 1.0555\n",
        "*   Number of events per visit in DIAGNOSES_ICD: 9.1038\n"
      ],
      "metadata": {
        "id": "4dM_vWhOAtru"
      }
    },
    {
      "cell_type": "markdown",
      "source": [
        "### Data Preprocessing\n",
        "For the MIMIC-III dataset, we follow the data preprocessing methodology outlined by Choi et al. (2017). The code below processes the MIMIC-III dataset, creating longitudinal diagnosis records for patients and saves the serialized data to a file using pickle. It involves reading the ADMISSIONS.csv and DIAGNOSES_ICD.csv files, generalizing the ICD-9 codes up to the first three digit codes, and then generating the longitudinal diagnosis patient records. The resulting matrix file comprises one row per patient and one column per ICD code (later treated as features). Each row represents the count of occurrences of the corresponding patient's EHR containing the ICD code in their visits. If the patient's EHR never includes the ICD code across any visits, a '0' is placed in the column.\n",
        "\n",
        "Set `generate_matrix_file = True` (default) to generate the preprocessed `.matrix` file required for training the model and/or comparing the real and synthetic data)."
      ],
      "metadata": {
        "id": "DgyZDLJPWFj3"
      }
    },
    {
      "cell_type": "code",
      "execution_count": 8,
      "metadata": {
        "id": "BZScZNbROw-N",
        "colab": {
          "base_uri": "https://localhost:8080/"
        },
        "outputId": "41b0e54a-6165-4ba7-b910-2ff2688954f8"
      },
      "outputs": [
        {
          "output_type": "stream",
          "name": "stdout",
          "text": [
            "Building pid-admission mapping, admission-date mapping\n",
            "Building admission-dxList mapping\n",
            "Building pid-sortedVisits mapping\n",
            "Building pids, dates, strSeqs\n",
            "Converting strSeqs to intSeqs, and making types\n",
            "Constructing the matrix\n",
            "Matrix construction complete\n"
          ]
        }
      ],
      "source": [
        "# Modified from: https://github.com/mp2893/medgan/blob/master/process_mimic.py\n",
        "\n",
        "admissionFile = os.path.join(file_location, 'mimic/ADMISSIONS.csv')\n",
        "diagnosisFile = os.path.join(file_location, 'mimic/DIAGNOSES_ICD.csv')\n",
        "outFile = os.path.join(file_location, 'mimic/mimic_processed_choi_count.matrix')\n",
        "\n",
        "generate_matrix_file = not os.path.isfile(outFile)\n",
        "\n",
        "\n",
        "# This function converts the icd9_code to a 3 digit code by extracting the first 3 digits.\n",
        "def convert_to_3digit_icd9(dxStr):\n",
        "    if dxStr.startswith('E'):\n",
        "        if len(dxStr) > 4: return dxStr[:4]\n",
        "        else: return dxStr\n",
        "    else:\n",
        "        if len(dxStr) > 3: return dxStr[:3]\n",
        "        else: return dxStr\n",
        "\n",
        "if generate_matrix_file:\n",
        "    binary_count = 'count'\n",
        "\n",
        "    print('Building pid-admission mapping, admission-date mapping')\n",
        "    pidAdmMap = {}\n",
        "    admDateMap = {}\n",
        "    infd = open(admissionFile, 'r')\n",
        "    infd.readline()\n",
        "    for line in infd:\n",
        "        tokens = line.strip().split(',')\n",
        "        pid = int(tokens[1])\n",
        "        admId = int(tokens[2])\n",
        "        admTime = datetime.strptime(tokens[3], '%Y-%m-%d %H:%M:%S')\n",
        "        admDateMap[admId] = admTime\n",
        "        if pid in pidAdmMap: pidAdmMap[pid].append(admId)\n",
        "        else: pidAdmMap[pid] = [admId]\n",
        "    infd.close()\n",
        "\n",
        "    print('Building admission-dxList mapping')\n",
        "    admDxMap = {}\n",
        "    infd = open(diagnosisFile, 'r')\n",
        "    infd.readline()\n",
        "    for line in infd:\n",
        "        tokens = line.strip().split(',')\n",
        "        admId = int(tokens[2])\n",
        "        dxStr = 'D_' + convert_to_3digit_icd9(tokens[4][1:-1])\n",
        "        if admId in admDxMap: admDxMap[admId].append(dxStr)\n",
        "        else: admDxMap[admId] = [dxStr]\n",
        "    infd.close()\n",
        "\n",
        "    print('Building pid-sortedVisits mapping')\n",
        "    pidSeqMap = {}\n",
        "    for pid, admIdList in pidAdmMap.items():\n",
        "        #if len(admIdList) < 2: continue\n",
        "        sortedList = sorted([(admDateMap[admId], admDxMap[admId]) for admId in admIdList])\n",
        "        pidSeqMap[pid] = sortedList\n",
        "\n",
        "    print('Building pids, dates, strSeqs')\n",
        "    pids = []\n",
        "    dates = []\n",
        "    seqs = []\n",
        "    for pid, visits in pidSeqMap.items():\n",
        "        pids.append(pid)\n",
        "        seq = []\n",
        "        date = []\n",
        "        for visit in visits:\n",
        "            date.append(visit[0])\n",
        "            seq.append(visit[1])\n",
        "        dates.append(date)\n",
        "        seqs.append(seq)\n",
        "\n",
        "    print('Converting strSeqs to intSeqs, and making types')\n",
        "    types = {}\n",
        "    newSeqs = []\n",
        "    for patient in seqs:\n",
        "        newPatient = []\n",
        "        for visit in patient:\n",
        "            newVisit = []\n",
        "            for code in visit:\n",
        "                if code in types:\n",
        "                    newVisit.append(types[code])\n",
        "                else:\n",
        "                    types[code] = len(types)\n",
        "                    newVisit.append(types[code])\n",
        "            newPatient.append(newVisit)\n",
        "        newSeqs.append(newPatient)\n",
        "\n",
        "    print('Constructing the matrix')\n",
        "    numPatients = len(newSeqs)\n",
        "    numCodes = len(types)\n",
        "    matrix = np.zeros((numPatients, numCodes)).astype('float32')\n",
        "    for i, patient in enumerate(newSeqs):\n",
        "        for visit in patient:\n",
        "            for code in visit:\n",
        "                if binary_count == 'binary':\n",
        "                    matrix[i][code] = 1.\n",
        "                else:\n",
        "                    matrix[i][code] += 1.\n",
        "\n",
        "    pickle.dump(matrix, open(outFile, 'wb'), -1)\n",
        "    print('Matrix construction complete')"
      ]
    },
    {
      "cell_type": "markdown",
      "metadata": {
        "id": "WA2SJRkgJFga"
      },
      "source": [
        "###Define DataLoader Class\n",
        "Used to create Datasets and Dataloaders to pull data from the generated `.matrix` file"
      ]
    },
    {
      "cell_type": "code",
      "execution_count": null,
      "metadata": {
        "id": "1IHV6NFAJSDh"
      },
      "outputs": [],
      "source": [
        "# Modified from https://github.com/aanaseer/ScoEHR/blob/main/scoehr/datasets.py\n",
        "\n",
        "class Dataset():\n",
        "    def __init__(self, data_dir, data_file):\n",
        "        pass\n",
        "\n",
        "    def data(self, use_train_test_split=True, test_size=0.30):\n",
        "        if use_train_test_split:\n",
        "            train_data, test_data = train_test_split(\n",
        "                self.dataset_full, test_size=test_size\n",
        "            )\n",
        "            return train_data, test_data\n",
        "        else:\n",
        "            return self.dataset_full\n",
        "\n",
        "class MIMIC3_ICD(Dataset):\n",
        "    def __init__(\n",
        "        self, data_file=\"mimic/mimic_processed_choi_count.matrix\"\n",
        "    ):\n",
        "        \"\"\"Loads the MIMIC-III dataset from the data directory.\"\"\"\n",
        "        data_path = os.path.join(file_location, data_file)\n",
        "        data = np.load(data_path, allow_pickle=True)\n",
        "        self.dataset_full = torch.from_numpy(data)"
      ]
    },
    {
      "cell_type": "markdown",
      "metadata": {
        "id": "Eqca5LJBJiKf"
      },
      "source": [
        "### Load the Data\n",
        "Load the `.matrix` file and generated train and test dataloaders."
      ]
    },
    {
      "cell_type": "code",
      "execution_count": null,
      "metadata": {
        "colab": {
          "base_uri": "https://localhost:8080/"
        },
        "id": "RcjV_qqmJk28",
        "outputId": "115795f3-1d92-4dd5-8db4-1787131574ed"
      },
      "outputs": [
        {
          "output_type": "stream",
          "name": "stdout",
          "text": [
            "Train Data Shape:  torch.Size([32564, 1071])\n",
            "Test Data Shape:  torch.Size([13956, 1071])\n"
          ]
        }
      ],
      "source": [
        "# Modified from: https://github.com/aanaseer/ScoEHR/blob/main/scoehr/main.py\n",
        "\n",
        "load_data = True\n",
        "\n",
        "batch_size = 64\n",
        "\n",
        "if load_data:\n",
        "\n",
        "    data_file = 'mimic/mimic_processed_choi_count.matrix'\n",
        "\n",
        "    train_data, test_data = MIMIC3_ICD(data_file=data_file).data()\n",
        "\n",
        "    train_data = train_data.to(device)\n",
        "    test_data = test_data.to(device)\n",
        "\n",
        "    train_dataloader = DataLoader(dataset=train_data, batch_size=batch_size, shuffle=True, drop_last=True)\n",
        "    test_dataloader = DataLoader(dataset=test_data, batch_size=batch_size, shuffle=True, drop_last=True)\n",
        "    print(\"Train Data Shape: \", train_data.shape)\n",
        "    print(\"Test Data Shape: \", test_data.shape)"
      ]
    },
    {
      "cell_type": "markdown",
      "source": [
        "##Model##\n",
        "\n",
        "###Citation to the original paper###\n",
        "Naseer, AA; Walker, B; Landon, C; Ambrosy, A; Fudim, M; Wysham, N; Toro, B; Swaminathan, S; Lyons, T. ScoEHR: Generating Synthetic Electronic Health Records using Continuous-time Diffusion Models. *Proceedings of Machine Learning Research*, Volume 219: 489–508, January 2023.\n",
        "\n",
        "###Link to the original paper's repo###\n",
        "https://github.com/aanaseer/ScoEHR/tree/main/scoehr\n",
        "\n",
        "###Model Descriptions###\n",
        "The synthetic generation process involves two different models:\n",
        "- Autoencoder: Used to lower the dimensionality of the data\n",
        "- Continuous-Time Diffusion Model: Used to generated synthetic data\n",
        "\n",
        "The Autoencoder is used to lower the dimensionality from the original dataset (one feature per ICD code or 1,071 features) to 144 features.  This helps to capture relationships between related ICD codes and reduces the dimensionality of the output data that the continuous-time diffusion model must generate.\n",
        "\n",
        "The Autoencoder is first trained and tested by itself to ensure that the Autoencoder model is able to successfully reduce the dimensionality of the data and then reproduce that original data using the reduced dimensionality dataset.  Then, the training data is encoded using the autoencoder and the encoded training data is used to train the Continuous-Time Diffusion model.  \n",
        "\n",
        "This allows the Continous-Time Diffusion model to generate synthetic data in the lower dimensionality space.  The Continuous-Time Diffusion Model (aka UNet aka Score Net) is used to generate the synthetic data.  It works in combination with a Variance Preserving Stochastic Differential Equation (VPSDE).  The VPSDE function is designed to take real data and convert real data into random noise in a controlled manner.  The VPSDE function converts the data into noise at continuous time-steps between $0$ (completely real data) and $1$ (complete noise).  This synthetic data is then decoded using the trained Autoencoder to generate synthetic data in a feature space that is tied back to ICD codes.\n",
        "\n",
        "####Model Part 1 - Autoencoder####\n",
        "\n",
        "**Autoencoder Architecture:**\n",
        "\n",
        "Layers | Configuration | Activation Function | Output Dimension (batch, feature)\n",
        "--- | --- | --- | ---\n",
        "fully connected | input size 6985, output size 144 | Tahnh | (512, 144)\n",
        "fully connected | input size 144, output size 6985 | Sigmoid | (512, 6985)\n",
        "\n",
        "**Autoencoder Training Objectives:**\n",
        "- Loss Function: torch.nn.BCELoss with `reduction=\"sum\"`\n",
        "- Optimiser: torch.optim.Adam with `weight_decay=0.0001`\n",
        "\n",
        "**Other Autoencoder Info:**\n",
        "The model is not pretrained, but weights are initiatlized using `torch.nn.init.xavier_uniform_`.  The autoencoder post-encoding dimension of 144 was chosen by the original paper because previous papers indicated that 128 was the ideal post-encoding dimension, and 144 was the closest that worked with the UNet architecture of the upcoming Continous-Time Diffusion model.\n",
        "\n",
        "####Model Part 2 - UNet####\n",
        "\n",
        "**UNet Architecture:**\n",
        "Due to the complex nature of the model, it's difficult to describe it in a single table that captures each layer and their size/type/activation function.  Instead, we focus on describing how the model works and it's overarching architecture.\n",
        "\n",
        "Let's assume that this noise is added over $n$ timesteps.  The Score Net/UNet is trained to take data with noise added to it at time $t_k$ (where $k$ is between 1 and $n$), and back-convert that to the data at time $t_{k-1}$ (before the noise was added).  To support this, the loss function is defined as the difference between the actual $t_{k-1}$ and the predicted $t_{k-1}$.\n",
        "\n",
        "Therefore we are training the model to be able to convert noisy data into real data.  Once this training is complete, to generate synthetic data we generate random noise and plug it into the model using a ReverseSDE function (that is designed to remove noise using the model).  We start with noise at $t_n$ and move step-wise backwards - at each step the model telling us what real parameters it _thinks_ could represent the next step with noise added.  When we get to $t_0$ we have data that follows the same patterns as real data, but because it was built based on noise is completely synthetic.\n",
        "\n",
        "In terms of architecture, the Continuous-Time Diffusion Model (aka UNet aka Score Net) is a UNet architecture based on the reduced dimensionality space provided by the autoencoder.  It has two down-sampling layers that progressively reduce the size of the input data using convolution.  Each of these down-sampling layers also has two residual blocks that allow data to skip parts of the model as needed.  Each residual block also incorporates self-attention.  SiLU ($sigmoid(x) * x$) is used as the activation function throughout this model.\n",
        "\n",
        "**UNet Training Objectives:**\n",
        "- Loss Function: The loss function is a custom loss function designed to determine the loss between a predicted $t_{k-1}$ and an actual $t_{k-1}$.\n",
        "- Optimiser: Adam with an adaptive learning rate.  The learning rate ($\\lambda$) at epoch $t$ is defined by the exponential decay formula:\n",
        "\n",
        "$$\n",
        "\\lambda(t) = \\text{lr}_0 \\cdot e^{-k \\cdot t}\n",
        "$$\n",
        "\n",
        "where:\n",
        "- $\\text{lr}_0 = 0.5$ is the initial learning rate,\n",
        "- $k = 0.1$ is the decay rate,\n",
        "- $t$ is the epoch number.\n",
        "\n",
        "**Other UNet Info:**\n",
        "The model is not pretrained, but weights are initialized using `torch.nn.init.xavier_uniform_`.\n",
        "\n",
        "###Implementation Code###\n",
        "See cells below\n",
        "\n",
        "###Pretrained Model###\n",
        "Available at https://github.com/sjoslin2/Spring-24-DLH/tree/main/saved_models.  Also used to generate synthetic data in the following cells (when enabled)."
      ],
      "metadata": {
        "id": "Rs6aAvhpW5DN"
      }
    },
    {
      "cell_type": "markdown",
      "metadata": {
        "id": "WDGZnaerJ1Db"
      },
      "source": [
        "### Define Autoencoder Class"
      ]
    },
    {
      "cell_type": "code",
      "execution_count": null,
      "metadata": {
        "id": "gBdVZoTvsSFV"
      },
      "outputs": [],
      "source": [
        "# Modified from: https://github.com/aanaseer/ScoEHR/blob/main/scoehr/models/autoencoder.py\n",
        "\n",
        "class Autoencoder(nn.Module):\n",
        "    def __init__(self, enc_in_dim, enc_out_dim):\n",
        "        super(Autoencoder, self).__init__()\n",
        "\n",
        "        self.encoder = nn.Sequential(nn.Linear(enc_in_dim, enc_out_dim),\n",
        "                                     nn.Tanh())\n",
        "        self.decoder = nn.Sequential(\n",
        "                                     nn.Linear(enc_out_dim, enc_in_dim),\n",
        "                                     nn.ReLU())\n",
        "\n",
        "    def encode(self, x):\n",
        "        x = self.encoder(x)\n",
        "        return x\n",
        "\n",
        "    def decode(self, x):\n",
        "        x = self.decoder(x)\n",
        "        return x\n",
        "\n",
        "    def forward(self, x):\n",
        "        x = self.encoder(x)\n",
        "        x = self.decoder(x)\n",
        "        return x"
      ]
    },
    {
      "cell_type": "markdown",
      "metadata": {
        "id": "sDqX3rndJ8jj"
      },
      "source": [
        "### Define weight initialization"
      ]
    },
    {
      "cell_type": "code",
      "execution_count": null,
      "metadata": {
        "id": "xwCQlDQMJ-dr"
      },
      "outputs": [],
      "source": [
        "def weights_init(m):\n",
        "    # From https://github.com/astorfi/cor-gan/blob/b6df51a16399335bfe995c15b6951f053453fbb3/Generative/medGAN/MIMIC/pytorch/MLP/medGAN.py#L263 # noqa: E501\n",
        "    classname = m.__class__.__name__\n",
        "    if classname.find(\"Conv\") != -1:\n",
        "        nn.init.normal_(m.weight.data, 0.0, 0.02)\n",
        "    elif classname.find(\"BatchNorm\") != -1:\n",
        "        nn.init.normal_(m.weight.data, 1.0, 0.02)\n",
        "        nn.init.constant_(m.bias.data, 0)\n",
        "    if type(m) == nn.Linear:\n",
        "        torch.nn.init.xavier_uniform_(m.weight)\n",
        "        m.bias.data.fill_(0.01)"
      ]
    },
    {
      "cell_type": "markdown",
      "metadata": {
        "id": "SUgwip4wKk88"
      },
      "source": [
        "### Define UNet Class\n",
        "UNet is trained to calculate how to move from noise to data at a given timestamp.  It is later instantiated as score_net."
      ]
    },
    {
      "cell_type": "code",
      "execution_count": null,
      "metadata": {
        "id": "hkCj29yqKlwN"
      },
      "outputs": [],
      "source": [
        "# Modified from: https://github.com/aanaseer/ScoEHR/blob/main/scoehr/models/unet.py\n",
        "\n",
        "class SiLU(nn.Module):\n",
        "    def __init__(self):\n",
        "        super().__init__()\n",
        "\n",
        "    # noinspection PyMethodMayBeStatic\n",
        "    def forward(self, x):\n",
        "        return torch.sigmoid(x) * x\n",
        "\n",
        "\n",
        "def group_norm(out_ch):\n",
        "    return nn.GroupNorm(num_groups=32, num_channels=out_ch, eps=1e-6, affine=True)\n",
        "\n",
        "\n",
        "def upsample(in_ch, with_conv):\n",
        "    up = nn.Sequential()\n",
        "    up.add_module(\"up_nn\", nn.Upsample(scale_factor=2, mode=\"nearest\"))\n",
        "    if with_conv:\n",
        "        up.add_module(\"up_conv\", conv2d(in_ch, in_ch, kernel_size=(3, 3), stride=1))\n",
        "    return up\n",
        "\n",
        "\n",
        "def downsample(in_ch, with_conv):\n",
        "    if with_conv:\n",
        "        down = conv2d(in_ch, in_ch, kernel_size=(3, 3), stride=2)\n",
        "    else:\n",
        "        down = nn.AvgPool2d(2, 2)\n",
        "    return down\n",
        "\n",
        "\n",
        "class ResidualBlock(nn.Module):\n",
        "    def __init__(\n",
        "        self,\n",
        "        in_ch,\n",
        "        temb_ch,\n",
        "        out_ch=None,\n",
        "        conv_shortcut=False,\n",
        "        dropout=0.0,\n",
        "        normalize=group_norm,\n",
        "        act=SiLU(),\n",
        "    ):\n",
        "        super().__init__()\n",
        "        self.in_ch = in_ch\n",
        "        self.temb_ch = temb_ch\n",
        "        self.out_ch = out_ch if out_ch is not None else in_ch\n",
        "        self.conv_shortcut = conv_shortcut\n",
        "        self.dropout = dropout\n",
        "        self.act = act\n",
        "\n",
        "        self.temb_proj = dense(temb_ch, out_ch)\n",
        "        self.norm1 = normalize(in_ch) if normalize is not None else nn.Identity()\n",
        "        self.conv1 = conv2d(in_ch, out_ch)\n",
        "        self.norm2 = normalize(out_ch) if normalize is not None else nn.Identity()\n",
        "        self.dropout = nn.Dropout2d(p=dropout) if dropout > 0.0 else nn.Identity()\n",
        "        self.conv2 = conv2d(out_ch, out_ch, init_scale=0.0)\n",
        "        if in_ch != out_ch:\n",
        "            if conv_shortcut:\n",
        "                self.shortcut = conv2d(in_ch, out_ch)\n",
        "            else:\n",
        "                self.shortcut = conv2d(in_ch, out_ch, kernel_size=(1, 1), padding=0)\n",
        "        else:\n",
        "            self.shortcut = nn.Identity()\n",
        "\n",
        "    def forward(self, x, temb):\n",
        "        # forward conv1\n",
        "        h = x\n",
        "        h = self.act(self.norm1(h))\n",
        "        h = self.conv1(h)\n",
        "\n",
        "        # add in timestep embedding\n",
        "        h = h + self.temb_proj(self.act(temb))[:, :, None, None]\n",
        "\n",
        "        # forward conv2\n",
        "        h = self.act(self.norm2(h))\n",
        "        h = self.dropout(h)\n",
        "        h = self.conv2(h)\n",
        "\n",
        "        # shortcut\n",
        "        x = self.shortcut(x)\n",
        "\n",
        "        # combine and return\n",
        "        assert x.shape == h.shape\n",
        "        return x + h\n",
        "\n",
        "\n",
        "class SelfAttention(nn.Module):\n",
        "    \"\"\"\n",
        "    copied modified from https://github.com/voletiv/self-attention-GAN-pytorch/blob/master/sagan_models.py#L29\n",
        "    copied modified from https://github.com/hojonathanho/diffusion/blob/master/diffusion_tf/models/unet.py#L66\n",
        "    \"\"\"\n",
        "\n",
        "    def __init__(self, in_channels, normalize=group_norm):\n",
        "        super().__init__()\n",
        "        self.in_channels = in_channels\n",
        "        self.attn_q = conv2d(\n",
        "            in_channels, in_channels, kernel_size=1, stride=1, padding=0\n",
        "        )\n",
        "        self.attn_k = conv2d(\n",
        "            in_channels, in_channels, kernel_size=1, stride=1, padding=0\n",
        "        )\n",
        "        self.attn_v = conv2d(\n",
        "            in_channels, in_channels, kernel_size=1, stride=1, padding=0\n",
        "        )\n",
        "        self.proj_out = conv2d(\n",
        "            in_channels, in_channels, kernel_size=1, stride=1, padding=0, init_scale=0.0\n",
        "        )\n",
        "        self.softmax = nn.Softmax(dim=-1)\n",
        "        if normalize is not None:\n",
        "            self.norm = normalize(in_channels)\n",
        "        else:\n",
        "            self.norm = nn.Identity()\n",
        "\n",
        "    # noinspection PyUnusedLocal\n",
        "    def forward(self, x, temp=None):\n",
        "        \"\"\"t is not used\"\"\"\n",
        "        _, C, H, W = x.size()\n",
        "\n",
        "        h = self.norm(x)\n",
        "        q = self.attn_q(h).view(-1, C, H * W)\n",
        "        k = self.attn_k(h).view(-1, C, H * W)\n",
        "        v = self.attn_v(h).view(-1, C, H * W)\n",
        "\n",
        "        attn = torch.bmm(q.permute(0, 2, 1), k) * (int(C) ** (-0.5))\n",
        "        attn = self.softmax(attn)\n",
        "\n",
        "        h = torch.bmm(v, attn.permute(0, 2, 1))\n",
        "        h = h.view(-1, C, H, W)\n",
        "        h = self.proj_out(h)\n",
        "\n",
        "        assert h.shape == x.shape\n",
        "        return x + h\n",
        "\n",
        "\n",
        "def _calculate_correct_fan(tensor, mode):\n",
        "    \"\"\"\n",
        "    copied and modified from https://github.com/pytorch/pytorch/blob/master/torch/nn/init.py#L337\n",
        "    \"\"\"\n",
        "    mode = mode.lower()\n",
        "    valid_modes = [\"fan_in\", \"fan_out\", \"fan_avg\"]\n",
        "    if mode not in valid_modes:\n",
        "        raise ValueError(\n",
        "            \"Mode {} not supported, please use one of {}\".format(mode, valid_modes)\n",
        "        )\n",
        "\n",
        "    fan_in, fan_out = _calculate_fan_in_and_fan_out(tensor)\n",
        "    return fan_in if mode == \"fan_in\" else fan_out\n",
        "\n",
        "\n",
        "def kaiming_uniform_(tensor, gain=1.0, mode=\"fan_in\"):\n",
        "    r\"\"\"Fills the input `Tensor` with values according to the method\n",
        "    described in `Delving deep into rectifiers: Surpassing human-level\n",
        "    performance on ImageNet classification` - He, K. et al. (2015), using a\n",
        "    uniform distribution. The resulting tensor will have values sampled from\n",
        "    :math:`\\mathcal{U}(-\\text{bound}, \\text{bound})` where\n",
        "\n",
        "    .. math::\n",
        "        \\text{bound} = \\text{gain} \\times \\sqrt{\\frac{3}{\\text{fan\\_mode}}}\n",
        "\n",
        "    Also known as He initialization.\n",
        "\n",
        "    Args:\n",
        "        tensor: an n-dimensional `torch.Tensor`\n",
        "        gain: multiplier to the dispersion\n",
        "        mode: either ``'fan_in'`` (default) or ``'fan_out'``. Choosing ``'fan_in'``\n",
        "            preserves the magnitude of the variance of the weights in the\n",
        "            forward pass. Choosing ``'fan_out'`` preserves the magnitudes in the\n",
        "            backwards pass.\n",
        "    Examples:\n",
        "        >>> w = torch.empty(3, 5)\n",
        "        >>> nn.init.kaiming_uniform_(w, mode='fan_in')\n",
        "    \"\"\"\n",
        "    fan = _calculate_correct_fan(tensor, mode)\n",
        "    var = gain / max(1.0, fan)\n",
        "    bound = math.sqrt(3.0 * var)  # Calculate uniform bounds from standard deviation\n",
        "    with torch.no_grad():\n",
        "        return tensor.uniform_(-bound, bound)\n",
        "\n",
        "\n",
        "def variance_scaling_init_(tensor, scale):\n",
        "    return kaiming_uniform_(tensor, gain=1e-10 if scale == 0 else scale, mode=\"fan_avg\")\n",
        "\n",
        "\n",
        "def dense(in_channels, out_channels, init_scale=1.0):\n",
        "    lin = nn.Linear(in_channels, out_channels)\n",
        "    variance_scaling_init_(lin.weight, scale=init_scale)\n",
        "    nn.init.zeros_(lin.bias)\n",
        "    return lin\n",
        "\n",
        "\n",
        "def conv2d(\n",
        "    in_planes,\n",
        "    out_planes,\n",
        "    kernel_size=(3, 3),\n",
        "    stride=1,\n",
        "    dilation=1,\n",
        "    padding=1,\n",
        "    bias=True,\n",
        "    padding_mode=\"zeros\",\n",
        "    init_scale=1.0,\n",
        "):\n",
        "    conv = nn.Conv2d(\n",
        "        in_planes,\n",
        "        out_planes,\n",
        "        kernel_size=kernel_size,\n",
        "        stride=stride,\n",
        "        padding=padding,\n",
        "        dilation=dilation,\n",
        "        bias=bias,\n",
        "        padding_mode=padding_mode,\n",
        "    )\n",
        "    variance_scaling_init_(conv.weight, scale=init_scale)\n",
        "    if bias:\n",
        "        nn.init.zeros_(conv.bias)\n",
        "    return conv\n",
        "\n",
        "\n",
        "def get_sinusoidal_positional_embedding(\n",
        "    timesteps: torch.LongTensor, embedding_dim: int\n",
        "):\n",
        "    \"\"\"\n",
        "    Copied and modified from\n",
        "        https://github.com/hojonathanho/diffusion/blob/1e0dceb3b3495bbe19116a5e1b3596cd0706c543/diffusion_tf/nn.py#L90\n",
        "\n",
        "    From Fairseq in\n",
        "        https://github.com/pytorch/fairseq/blob/master/fairseq/modules/sinusoidal_positional_embedding.py#L15\n",
        "    Build sinusoidal embeddings.\n",
        "    This matches the implementation in tensor2tensor, but differs slightly\n",
        "    from the description in Section 3.5 of \"Attention Is All You Need\".\n",
        "    \"\"\"\n",
        "    assert len(timesteps.size()) == 1\n",
        "    timesteps = timesteps.to(torch.get_default_dtype())\n",
        "    device = timesteps.device\n",
        "\n",
        "    half_dim = embedding_dim // 2\n",
        "    emb = math.log(10000) / (half_dim - 1)\n",
        "    emb = torch.exp(torch.arange(half_dim, dtype=torch.float, device=device) * -emb)\n",
        "    emb = timesteps[:, None] * emb[None, :]\n",
        "    emb = torch.cat([torch.sin(emb), torch.cos(emb)], dim=1)  # bsz x embd\n",
        "    if embedding_dim % 2 == 1:  # zero pad\n",
        "        emb = F.pad(emb, (0, 1), \"constant\", 0)\n",
        "    assert list(emb.size()) == [timesteps.size(0), embedding_dim]\n",
        "    return emb\n",
        "\n",
        "\n",
        "class TimestepEmbedding(nn.Module):\n",
        "    def __init__(self, embedding_dim, hidden_dim, output_dim, act=SiLU()):\n",
        "        super().__init__()\n",
        "\n",
        "        self.embedding_dim = embedding_dim\n",
        "        self.output_dim = output_dim\n",
        "        self.hidden_dim = hidden_dim\n",
        "\n",
        "        self.main = nn.Sequential(\n",
        "            dense(embedding_dim, hidden_dim),\n",
        "            act,\n",
        "            dense(hidden_dim, output_dim),\n",
        "        )\n",
        "\n",
        "    def forward(self, temp):\n",
        "        temb = get_sinusoidal_positional_embedding(temp, self.embedding_dim)\n",
        "        temb = self.main(temb)\n",
        "        return temb\n",
        "\n",
        "\n",
        "class UNet(nn.Module):\n",
        "    def __init__(\n",
        "        self,\n",
        "        input_channels,\n",
        "        encoded_latent_embedding_dim,  # eg 64\n",
        "        ch,\n",
        "        output_channels=None,\n",
        "        ch_mult=(1, 2, 4, 8),\n",
        "        num_res_blocks=2,\n",
        "        attn_resolutions=(16,),\n",
        "        dropout=0.0,\n",
        "        resamp_with_conv=True,\n",
        "        act=SiLU(),\n",
        "        normalize=group_norm,\n",
        "    ):\n",
        "        super().__init__()\n",
        "        self.input_channels = input_channels\n",
        "        self.encoded_latent_embedding_dim = encoded_latent_embedding_dim  # eg 64\n",
        "        self.input_height = int(np.sqrt(self.encoded_latent_embedding_dim))  # eg 8\n",
        "        self.ch = ch\n",
        "        self.output_channels = output_channels = (\n",
        "            input_channels if output_channels is None else output_channels\n",
        "        )\n",
        "        self.ch_mult = ch_mult\n",
        "        self.num_res_blocks = num_res_blocks\n",
        "        self.attn_resolutions = attn_resolutions\n",
        "        self.dropout = dropout\n",
        "        self.resamp_with_conv = resamp_with_conv\n",
        "        self.act = act\n",
        "        self.normalize = normalize\n",
        "\n",
        "        # init\n",
        "        self.num_resolutions = num_resolutions = len(ch_mult)\n",
        "        in_ht = self.input_height\n",
        "        in_ch = input_channels\n",
        "        temb_ch = ch * 4\n",
        "        assert (\n",
        "            in_ht % 2 ** (num_resolutions - 1) == 0\n",
        "        ), \"input_height doesn't satisfy the condition\"\n",
        "\n",
        "        # Timestep embedding\n",
        "        self.temb_net = TimestepEmbedding(\n",
        "            embedding_dim=ch,\n",
        "            hidden_dim=temb_ch,\n",
        "            output_dim=temb_ch,\n",
        "            act=act,\n",
        "        )\n",
        "\n",
        "        # Downsampling\n",
        "        self.begin_conv = conv2d(in_ch, ch)\n",
        "        unet_chs = [ch]\n",
        "        in_ht = in_ht\n",
        "        in_ch = ch\n",
        "        down_modules = []\n",
        "        for i_level in range(num_resolutions):\n",
        "            # Residual blocks for this resolution\n",
        "            block_modules = {}\n",
        "            out_ch = ch * ch_mult[i_level]\n",
        "            for i_block in range(num_res_blocks):\n",
        "                block_modules[\"{}a_{}a_block\".format(i_level, i_block)] = ResidualBlock(\n",
        "                    in_ch=in_ch,\n",
        "                    temb_ch=temb_ch,\n",
        "                    out_ch=out_ch,\n",
        "                    dropout=dropout,\n",
        "                    act=act,\n",
        "                    normalize=normalize,\n",
        "                )\n",
        "                if in_ht in attn_resolutions:\n",
        "                    block_modules[\n",
        "                        \"{}a_{}b_attn\".format(i_level, i_block)\n",
        "                    ] = SelfAttention(out_ch, normalize=normalize)\n",
        "                unet_chs += [out_ch]\n",
        "                in_ch = out_ch\n",
        "            # Downsample\n",
        "            if i_level != num_resolutions - 1:\n",
        "                block_modules[\"{}b_downsample\".format(i_level)] = downsample(\n",
        "                    out_ch, with_conv=resamp_with_conv\n",
        "                )\n",
        "                in_ht //= 2\n",
        "                unet_chs += [out_ch]\n",
        "            # convert list of modules to a module list, and append to a list\n",
        "            down_modules += [nn.ModuleDict(block_modules)]\n",
        "        # convert to a module list\n",
        "        self.down_modules = nn.ModuleList(down_modules)\n",
        "\n",
        "        # Middle\n",
        "        mid_modules = []\n",
        "        mid_modules += [\n",
        "            ResidualBlock(\n",
        "                in_ch,\n",
        "                temb_ch=temb_ch,\n",
        "                out_ch=in_ch,\n",
        "                dropout=dropout,\n",
        "                act=act,\n",
        "                normalize=normalize,\n",
        "            )\n",
        "        ]\n",
        "        mid_modules += [SelfAttention(in_ch, normalize=normalize)]\n",
        "        mid_modules += [\n",
        "            ResidualBlock(\n",
        "                in_ch,\n",
        "                temb_ch=temb_ch,\n",
        "                out_ch=in_ch,\n",
        "                dropout=dropout,\n",
        "                act=act,\n",
        "                normalize=normalize,\n",
        "            )\n",
        "        ]\n",
        "        self.mid_modules = nn.ModuleList(mid_modules)\n",
        "\n",
        "        # Upsampling\n",
        "        up_modules = []\n",
        "        for i_level in reversed(range(num_resolutions)):\n",
        "            # Residual blocks for this resolution\n",
        "            block_modules = {}\n",
        "            out_ch = ch * ch_mult[i_level]\n",
        "            for i_block in range(num_res_blocks + 1):\n",
        "                block_modules[\"{}a_{}a_block\".format(i_level, i_block)] = ResidualBlock(\n",
        "                    in_ch=in_ch + unet_chs.pop(),\n",
        "                    temb_ch=temb_ch,\n",
        "                    out_ch=out_ch,\n",
        "                    dropout=dropout,\n",
        "                    act=act,\n",
        "                    normalize=normalize,\n",
        "                )\n",
        "                if in_ht in attn_resolutions:\n",
        "                    block_modules[\n",
        "                        \"{}a_{}b_attn\".format(i_level, i_block)\n",
        "                    ] = SelfAttention(out_ch, normalize=normalize)\n",
        "                in_ch = out_ch\n",
        "            # Upsample\n",
        "            if i_level != 0:\n",
        "                block_modules[\"{}b_upsample\".format(i_level)] = upsample(\n",
        "                    out_ch, with_conv=resamp_with_conv\n",
        "                )\n",
        "                in_ht *= 2\n",
        "            # convert list of modules to a module list, and append to a list\n",
        "            up_modules += [nn.ModuleDict(block_modules)]\n",
        "        # conver to a module list\n",
        "        self.up_modules = nn.ModuleList(up_modules)\n",
        "        assert not unet_chs\n",
        "\n",
        "        # End\n",
        "        self.end_conv = nn.Sequential(\n",
        "            normalize(in_ch),\n",
        "            self.act,\n",
        "            conv2d(in_ch, output_channels, init_scale=0.0),\n",
        "        )\n",
        "\n",
        "    # noinspection PyMethodMayBeStatic\n",
        "    def _compute_cond_module(self, module, x, temp):\n",
        "        for m in module:\n",
        "            x = m(x, temp)\n",
        "        return x\n",
        "\n",
        "    # noinspection PyArgumentList,PyShadowingNames\n",
        "    def forward(self, x, temp):\n",
        "        # Init\n",
        "        x = x.view(-1, 1, self.input_height, self.input_height)\n",
        "        temp = temp.view(\n",
        "            -1,\n",
        "        )\n",
        "        B, C, H, W = x.size()\n",
        "        # Timestep embedding\n",
        "        temb = self.temb_net(temp)\n",
        "        assert list(temb.shape) == [B, self.ch * 4]\n",
        "        # Downsampling\n",
        "        hs = [self.begin_conv(x)]\n",
        "        for i_level in range(self.num_resolutions):\n",
        "            # Residual blocks for this resolution\n",
        "            block_modules = self.down_modules[i_level]\n",
        "            for i_block in range(self.num_res_blocks):\n",
        "                resnet_block = block_modules[\"{}a_{}a_block\".format(i_level, i_block)]\n",
        "                h = resnet_block(hs[-1], temb)\n",
        "                if h.size(2) in self.attn_resolutions:\n",
        "                    attn_block = block_modules[\"{}a_{}b_attn\".format(i_level, i_block)]\n",
        "                    h = attn_block(h, temb)\n",
        "                hs.append(h)\n",
        "            # Downsample\n",
        "            if i_level != self.num_resolutions - 1:\n",
        "                downsample = block_modules[\"{}b_downsample\".format(i_level)]\n",
        "                hs.append(downsample(hs[-1]))\n",
        "\n",
        "        # Middle\n",
        "        h = hs[-1]\n",
        "        h = self._compute_cond_module(self.mid_modules, h, temb)\n",
        "\n",
        "        # Upsampling\n",
        "        for i_idx, i_level in enumerate(reversed(range(self.num_resolutions))):\n",
        "            # Residual blocks for this resolution\n",
        "            block_modules = self.up_modules[i_idx]\n",
        "            for i_block in range(self.num_res_blocks + 1):\n",
        "                resnet_block = block_modules[\"{}a_{}a_block\".format(i_level, i_block)]\n",
        "                h = resnet_block(torch.cat([h, hs.pop()], axis=1), temb)\n",
        "                if h.size(2) in self.attn_resolutions:\n",
        "                    attn_block = block_modules[\"{}a_{}b_attn\".format(i_level, i_block)]\n",
        "                    h = attn_block(h, temb)\n",
        "            # Upsample\n",
        "            if i_level != 0:\n",
        "                upsample = block_modules[\"{}b_upsample\".format(i_level)]\n",
        "                h = upsample(h)\n",
        "        assert not hs\n",
        "\n",
        "        # End\n",
        "        h = self.end_conv(h)\n",
        "        assert list(h.size()) == [x.size(0), self.output_channels, x.size(2), x.size(3)]\n",
        "        h = h.view(-1, self.encoded_latent_embedding_dim)\n",
        "        return h"
      ]
    },
    {
      "cell_type": "markdown",
      "metadata": {
        "id": "Fnkh8j5rKswp"
      },
      "source": [
        "### Define DenoisingScoreMatching Class\n",
        "This can be thought of as the loss function for UNet (score_net)."
      ]
    },
    {
      "cell_type": "code",
      "execution_count": null,
      "metadata": {
        "id": "RDyjSliuKvWR"
      },
      "outputs": [],
      "source": [
        "# Modified from: https://urldefense.com/v3/__https://github.com/aanaseer/ScoEHR/blob/main/scoehr/score_matching/dsm.py*5Cn__;JQ!!DZ3fjg!4siitaFtGJbIpckDGCisikGoryCfrOwrQq9C_3mjuGsbqQ46APuYkClcW6isH1EtwJFmU9D62SU44GBW8LA$\n",
        "\n",
        "\"\"\"Implements the denoising score matching objective along with two helper functions.\"\"\"\n",
        "\n",
        "def pad_to(x, stride):\n",
        "    h, w = x.shape[-2:]\n",
        "    if w % stride > 0:\n",
        "        new_w = w + stride - w % stride\n",
        "    else:\n",
        "        new_w = w\n",
        "    lh, uh = int((h - h) / 2), int(h - h) - int((h - h) / 2)\n",
        "    lw, uw = int((new_w - w) / 2), int(new_w - w) - int((new_w - w) / 2)\n",
        "    pads = (lw, uw, lh, uh)\n",
        "\n",
        "    # zero-padding by default.\n",
        "    # See others at https://urldefense.com/v3/__https://pytorch.org/docs/stable/nn.functional.html*torch.nn.functional.pad*5Cn__;IyU!!DZ3fjg!4siitaFtGJbIpckDGCisikGoryCfrOwrQq9C_3mjuGsbqQ46APuYkClcW6isH1EtwJFmU9D62SU48D6nVik$\n",
        "    out = F.pad(x, pads, \"constant\", 0)\n",
        "\n",
        "    return out, pads\n",
        "\n",
        "\n",
        "def unpad(self, x, pad):\n",
        "    if pad[0] + pad[1] > 0:\n",
        "        x = x[:, pad[0] : -pad[1]]\n",
        "    return x\n",
        "\n",
        "\n",
        "class DenoisingScoreMatching(nn.Module):\n",
        "    def __init__(self, sde, score_net, T=1.0, padding_required=False):\n",
        "        super().__init__()\n",
        "        self.sde = sde\n",
        "        self.score_net = score_net\n",
        "        self.T = T\n",
        "        self.padding_required = padding_required\n",
        "\n",
        "    @torch.enable_grad()\n",
        "    def loss_fn(self, x):\n",
        "        t = torch.linspace(1 / x.size(0) + 1e-3, 1 - 1 / x.size(0), x.size(0)) + (\n",
        "            1 - 2 * torch.rand(x.size(0))\n",
        "        ) * (1 / x.size(0))\n",
        "        t = t.view(-1, 1).to(x)\n",
        "\n",
        "        idx = torch.randperm(t.nelement())\n",
        "        t = t.view(-1)[idx].view(t.size())\n",
        "\n",
        "        perturbed_x, noise, std, g = self.sde.sample(x, t)\n",
        "\n",
        "        if self.padding_required:\n",
        "          # Modified from pad to 784 to pad to 1296\n",
        "          # This is because we're testing the non-autoencoder Score Net with\n",
        "          # the Mimic data which has 1071 parameters instead of the Hong ED data\n",
        "          # and 1296 > 1071 > 784\n",
        "            perturbed_x, pads = pad_to(perturbed_x, 1296)\n",
        "        score_predictions = self.score_net(perturbed_x, t)\n",
        "        if self.padding_required:\n",
        "            score_predictions = unpad(score_predictions, pads)\n",
        "\n",
        "        return ((score_predictions + noise / std) ** 2).view(x.size(0), -1).sum(\n",
        "            1, keepdim=False\n",
        "        ) * (std**2).squeeze()"
      ]
    },
    {
      "cell_type": "markdown",
      "metadata": {
        "id": "TkCSnrB8K9QD"
      },
      "source": [
        "### Define VPSDE (Variance Preserving Stochastic Differential Equation) Class\n",
        "The VPSDE class is used to add noise to the data at each time stamp."
      ]
    },
    {
      "cell_type": "code",
      "execution_count": null,
      "metadata": {
        "id": "Ok-ybsaTLD9P"
      },
      "outputs": [],
      "source": [
        "# Modified from: https://github.com/aanaseer/ScoEHR/blob/main/scoehr/score_matching/sde_library.py\n",
        "\"\"\"Implementation for the VPSDE along with the associated Reverse SDE.\n",
        "This file also contains a wrapper for SDE to be used with torchsde library.\n",
        "\"\"\"\n",
        "\n",
        "# This code is a modification of https://github.com/CW-Huang/sdeflow-light/blob/main/lib/sdes.py\n",
        "\n",
        "\n",
        "class VPSDE(nn.Module):\n",
        "    \"\"\"Implements the VPSDE.\"\"\"\n",
        "\n",
        "    def __init__(self, beta_min=0.1, beta_max=20.0, T=1.0, t_epsilon=0.001):\n",
        "        super().__init__()\n",
        "        self.beta_min = beta_min\n",
        "        self.beta_max = beta_max\n",
        "        self.T = T\n",
        "        self.t_epsilon = t_epsilon\n",
        "\n",
        "    def beta(self, t):\n",
        "        return self.beta_min + t * (self.beta_max - self.beta_min)\n",
        "\n",
        "    def mean_weight(self, t):\n",
        "        return torch.exp(\n",
        "            -0.25 * t**2 * (self.beta_max - self.beta_min) - 0.5 * t * self.beta_min\n",
        "        )\n",
        "\n",
        "    def var(self, t):\n",
        "        return 1.0 - torch.exp(\n",
        "            -0.5 * t**2 * (self.beta_max - self.beta_min) - t * self.beta_min\n",
        "        )\n",
        "\n",
        "    def f(self, x, t):\n",
        "        return -0.5 * self.beta(t) * x\n",
        "\n",
        "    def g(self, x, t):\n",
        "        return torch.ones_like(x) * self.beta(t) ** 0.5\n",
        "\n",
        "    def sample(self, x0, t):\n",
        "        mean = self.mean_weight(t) * x0\n",
        "        std = torch.sqrt(self.var(t))\n",
        "        noise = torch.randn_like(x0)\n",
        "        perturbed_x = mean + (noise * std)\n",
        "        return perturbed_x, noise, std, self.g(perturbed_x, t)\n",
        "\n",
        "    def probability_flow_ode(self, t, x, score_net):\n",
        "        return (\n",
        "            self.f(x, self.T - t)\n",
        "            - 0.5 * (self.g(x, self.T - t) ** 2) * score_net(x, self.T - t.squeeze())\n",
        "        ) * -1\n",
        "\n",
        "class WrapperForTorchSDE(nn.Module):\n",
        "    \"\"\"Wraps the SDE to be used with torchsde library.\"\"\"\n",
        "\n",
        "    def __init__(self, reverse_sde, noise_type=\"diagonal\", sde_type=\"ito\"):\n",
        "        super().__init__()\n",
        "        self.noise_type = noise_type\n",
        "        self.sde_type = sde_type\n",
        "        self.reverse_sde = reverse_sde\n",
        "\n",
        "    def f(self, t, x):\n",
        "        t = t.repeat(x.size(0)).view(-1, 1)\n",
        "        return self.reverse_sde.drift(x, t)\n",
        "\n",
        "    def g(self, t, x):\n",
        "        t = t.repeat(x.size(0)).view(-1, 1)\n",
        "        return self.reverse_sde.diffusion(x, t)"
      ]
    },
    {
      "cell_type": "markdown",
      "source": [
        "### Test Autoencoders\n",
        "This test wasn't in the original paper, but is a visual demonstration of the features in the original dataset as compared with the dataset once it has been encoded and then decoded.  As you can see, all three encoded-decoded datasets have a feature distribution that is roughly similar to the original feature distribution, getting closer to the original feature distribution as the dimensionality of the autoencoder increases.  This suggests that the autoencoders do a good job of recreating the original data, but with higher dimensional autoencoders doing a better job (as expected)."
      ],
      "metadata": {
        "id": "Cv1rAty_4S76"
      }
    },
    {
      "cell_type": "code",
      "execution_count": null,
      "metadata": {
        "colab": {
          "base_uri": "https://localhost:8080/",
          "height": 1000
        },
        "id": "lhBVQ1LZKgiu",
        "outputId": "fc4712eb-df4a-4115-9c51-6c95dec38182"
      },
      "outputs": [
        {
          "output_type": "stream",
          "name": "stdout",
          "text": [
            "Showing feature distribution for 64 autoendoer.\n",
            "\n",
            "Original Test Data Mean:  tensor(0.0131, device='cuda:0')\n",
            "After Autoencoder Test Data Mean  tensor(0.0116, device='cuda:0')\n"
          ]
        },
        {
          "output_type": "display_data",
          "data": {
            "text/plain": [
              "<Figure size 640x480 with 1 Axes>"
            ],
            "image/png": "[encoded data removed]"
          },
          "metadata": {}
        },
        {
          "output_type": "stream",
          "name": "stdout",
          "text": [
            "\n",
            "Showing feature distribution for 144 autoendoer.\n",
            "\n",
            "Original Test Data Mean:  tensor(0.0131, device='cuda:0')\n",
            "After Autoencoder Test Data Mean  tensor(0.0126, device='cuda:0')\n"
          ]
        },
        {
          "output_type": "display_data",
          "data": {
            "text/plain": [
              "<Figure size 640x480 with 1 Axes>"
            ],
            "image/png": "[encoded data removed]"
          },
          "metadata": {}
        },
        {
          "output_type": "stream",
          "name": "stdout",
          "text": [
            "\n",
            "Showing feature distribution for 256 autoendoer.\n",
            "\n",
            "Original Test Data Mean:  tensor(0.0131, device='cuda:0')\n",
            "After Autoencoder Test Data Mean  tensor(0.0126, device='cuda:0')\n"
          ]
        },
        {
          "output_type": "display_data",
          "data": {
            "text/plain": [
              "<Figure size 640x480 with 1 Axes>"
            ],
            "image/png": "[encoded data removed]"
          },
          "metadata": {}
        },
        {
          "output_type": "stream",
          "name": "stdout",
          "text": [
            "\n"
          ]
        }
      ],
      "source": [
        "for enc_out_dim in autoencoder_dims:\n",
        "    autoencoder = Autoencoder(enc_in_dim, enc_out_dim)\n",
        "    autoencoder_model_path = os.path.join(file_location,\n",
        "            'saved_models/autoencoder_count_' + str(enc_out_dim) + '.pt')\n",
        "    checkpoint = torch.load(autoencoder_model_path, map_location=device)\n",
        "    autoencoder.load_state_dict(checkpoint['model_state_dict'])\n",
        "    autoencoder.eval()\n",
        "    autoencoder.to(device)\n",
        "\n",
        "    test_data_encoded = autoencoder.encode(test_data).detach()\n",
        "    test_data_decoded = autoencoder.decode(test_data_encoded).detach()\n",
        "\n",
        "    print(f'Showing feature distribution for {enc_out_dim} autoendoer.')\n",
        "    print(\"\")\n",
        "\n",
        "    test_data_decoded_count = test_data_decoded.round()\n",
        "    print(\"Original Test Data Mean: \", test_data.mean())\n",
        "    print(\"After Autoencoder Test Data Mean \", test_data_decoded_count.mean())\n",
        "\n",
        "    test_data_np = test_data.sum(axis=0).cpu().numpy()\n",
        "    test_data_decoded_np = test_data_decoded_count.sum(axis=0).cpu().numpy()\n",
        "\n",
        "    max_count = max(test_data_np.max(), test_data_decoded_np.max())\n",
        "    bins = np.logspace(1.0, np.log10(max_count), num=50)\n",
        "\n",
        "    pyplot.title(f'Feature Distribution for {enc_out_dim} autoencoder')\n",
        "    pyplot.hist(test_data_np, bins, alpha=0.5, label='Before Autoencoder')\n",
        "    pyplot.hist(test_data_decoded_np, bins, alpha=0.5, label='After Autoencoder')\n",
        "    pyplot.legend(loc='upper right')\n",
        "    pyplot.show()\n",
        "\n",
        "    print(\"\")\n",
        "\n",
        "    del autoencoder\n",
        "    gc.collect()\n",
        "    if device == \"cuda\":\n",
        "        torch.cuda.empty_cache()"
      ]
    },
    {
      "cell_type": "code",
      "execution_count": null,
      "metadata": {
        "colab": {
          "base_uri": "https://localhost:8080/",
          "height": 526
        },
        "id": "O7Jv_i1HosAj",
        "outputId": "da8ae2a6-ba81-4f76-d6a4-fb7f93eb22f0",
        "scrolled": true
      },
      "outputs": [
        {
          "output_type": "stream",
          "name": "stdout",
          "text": [
            "===> Loading trained models\n",
            "===> Loading trained models\n",
            "===> Loading trained models\n"
          ]
        },
        {
          "output_type": "display_data",
          "data": {
            "text/plain": [
              "<Figure size 640x480 with 1 Axes>"
            ],
            "image/png": "[encoded data removed]"
          },
          "metadata": {}
        }
      ],
      "source": [
        "# Modified from: https://github.com/aanaseer/ScoEHR/blob/main/scoehr/train/train_autoencoder_utils.py\n",
        "\n",
        "train_autoencoder_model = False\n",
        "save_autoencoder_model = False\n",
        "\n",
        "# Note, these must all be integers that fit the following formula: (4 * n) ^ 2\n",
        "# This is a requirement of the UNet that comes later\n",
        "# 64 = (4 * 2) ^ 2\n",
        "# 144 = (4 * 3) ^ 2\n",
        "# 256 = (4 * 4) ^ 2\n",
        "autoencoder_dims = [64, 144, 256]\n",
        "\n",
        "n_epochs_autoencoder = 200\n",
        "lr_autoencoder = 0.001\n",
        "enc_in_dim = train_data.shape[1]\n",
        "loss_infos = {}\n",
        "\n",
        "loss_fn_autoencoder = torch.nn.MSELoss(reduction=\"sum\")\n",
        "\n",
        "for enc_out_dim in autoencoder_dims:\n",
        "    autoencoder = Autoencoder(enc_in_dim, enc_out_dim)\n",
        "    autoencoder.to(device)\n",
        "    autoencoder_stats_path = os.path.join(file_location,\n",
        "                'stats/autoencoder_count_' + str(enc_out_dim) + '.pkl')\n",
        "    autoencoder_model_path = os.path.join(file_location,\n",
        "                'saved_models/autoencoder_count_' + str(enc_out_dim) + '.pt')\n",
        "\n",
        "    if train_autoencoder_model:\n",
        "        autoencoder.apply(weights_init)\n",
        "        optimiser_autoencoder = torch.optim.Adam(autoencoder.parameters(), lr=lr_autoencoder, weight_decay=0.0001)\n",
        "\n",
        "        print(f\"==> Training the {enc_out_dim} autoencoder with {n_epochs_autoencoder} epochs.\")\n",
        "        epoch_train_loss_list = []\n",
        "        epoch_test_loss_list = []\n",
        "        for epoch in tqdm.tqdm(range(n_epochs_autoencoder)):\n",
        "            epoch_train_loss = 0\n",
        "            epoch_test_loss = 0\n",
        "            autoencoder.train()\n",
        "            for x in train_dataloader:\n",
        "                optimiser_autoencoder.zero_grad()\n",
        "                encode_and_decode = autoencoder(x)\n",
        "                loss = loss_fn_autoencoder(encode_and_decode, x) / x.shape[0]\n",
        "\n",
        "                epoch_train_loss += loss.item()\n",
        "                loss.backward()\n",
        "\n",
        "                optimiser_autoencoder.step()\n",
        "\n",
        "            autoencoder.eval()\n",
        "            with torch.no_grad():\n",
        "                for x in test_dataloader:\n",
        "                    encode_and_decode = autoencoder(x)\n",
        "                    loss = loss_fn_autoencoder(encode_and_decode, x) / x.shape[0]\n",
        "                    epoch_test_loss += loss.item()\n",
        "\n",
        "            avg_train_loss = epoch_train_loss / len(train_dataloader)\n",
        "            avg_test_loss = epoch_test_loss / len(test_dataloader)\n",
        "            epoch_train_loss_list.append(avg_train_loss)\n",
        "            epoch_test_loss_list.append(avg_test_loss)\n",
        "\n",
        "        print(\"==> Autoencoder training completed.\")\n",
        "\n",
        "        loss_info = dict()\n",
        "        loss_info['epoch_train_loss_list'] = epoch_train_loss_list\n",
        "        loss_info['epoch_test_loss_list'] = epoch_test_loss_list\n",
        "        if save_autoencoder_model:\n",
        "            with open(autoencoder_stats_path, 'wb') as file:\n",
        "                pickle.dump(loss_info, file, -1)\n",
        "            torch.save({'model_state_dict': autoencoder.state_dict()}, autoencoder_model_path)\n",
        "\n",
        "        del optimiser_autoencoder\n",
        "\n",
        "    else:\n",
        "        print(\"===> Loading trained models\")\n",
        "        loss_info = dict()\n",
        "        with open(autoencoder_stats_path, 'rb') as file:\n",
        "            loss_info = pickle.load(file)\n",
        "\n",
        "    loss_infos[enc_out_dim] = loss_info\n",
        "\n",
        "    del autoencoder\n",
        "    gc.collect()\n",
        "    if device == \"cuda\":\n",
        "        torch.cuda.empty_cache()\n",
        "\n",
        "for enc_out_dim in autoencoder_dims:\n",
        "    loss_info = loss_infos[enc_out_dim]\n",
        "    epoch_train_loss_list = loss_info['epoch_train_loss_list']\n",
        "    epoch_test_loss_list = loss_info['epoch_test_loss_list']\n",
        "    plt.plot(epoch_test_loss_list,\n",
        "             label='autoencoder ' + str(enc_out_dim) + ' test loss')\n",
        "\n",
        "plt.xlabel('epoch')\n",
        "plt.title('AE loss during training')\n",
        "plt.legend()\n",
        "plt.yscale(\"log\")\n",
        "plt.show()"
      ]
    },
    {
      "cell_type": "markdown",
      "metadata": {
        "id": "1FcHntrnKHhd"
      },
      "source": [
        "## Training Part 1 - Autoencoder\n",
        "\n",
        "###Training Methodology\n",
        "The model is trained with 200 epochs with a learning rate of 0.001.  This learning rate was from the original code while the number of epochs was determined empirically.  As can be seen in the per-epoch training loss chart displayed when the next cell is run, the number of epochs to successfully train is likely lower (there appear to be diminishing returns after ~125 epochs), however 200 epochs does not appear to cause significant overfitting issues as the test loss never increases.\n",
        "\n",
        "\n",
        "###Computational Requirements\n",
        "The training process takes several minutes when trained with a GPU (substantially longer on a CPU).  We were able to successfully train it on a machine with 16GB of RAM.\n",
        "\n",
        "Because of the several-minute training time, by default this notebook is set to show stats from our training run (and load the model's parameters from the saved parameter file: `./saved_models/autoencoder.pt`).  If you'd like to change this to train it yourself, set `train_autoencoder_model = True`.  You can also overwrite our training parameters by setting `save_autoencoder_model = True`."
      ]
    },
    {
      "cell_type": "markdown",
      "metadata": {
        "id": "Wa-NPYuLroQx"
      },
      "source": [
        "## Model Part 2 - UNet (Continuous-Time Diffusion Model/Score Net)\n",
        "\n",
        "###Overview\n",
        "The Continuous-Time Diffusion Model (aka UNet aka Score Net) is used to generate the synthetic data.  It works in combination with a Variance Preserving Stochastic Differential Equation (VPSDE).  The VPSDE function is designed to take real data and convert real data into random noise in a controlled manner.  The VPSDE function converts the data into noise at continous time-steps between $0$ (completely real data) and $1$ (complete noise).\n",
        "\n",
        "###UNet Configuration\n",
        "\n",
        "**Model Architecture:**\n",
        "\n",
        "Due to the complex nature of the model, it's difficult to describe it in a single table that captures each layer and their size/type/activation function.  Instead, we focus on describing how the model works and it's overarching architecture.\n",
        "\n",
        "Let's assume that this noise is added over $n$ timesteps.  The Score Net/UNet is trained to take data with noise added to it at time $t_k$ (where $k$ is between 1 and $n$), and back-convert that to the data at time $t_{k-1}$ (before the noise was added).  To support this, the loss function is defined as the difference between the actual $t_{k-1}$ and the predicted $t_{k-1}$.\n",
        "\n",
        "Therefore we are training the model to be able to convert noisy data into real data.  Once this training is complete, to generate synthetic data we generate random noise and plug it into the model using a ReverseSDE function (that is designed to remove noise using the model).  We start with noise at $t_n$ and move step-wise backwards - at each step the model telling us what real parameters it _thinks_ could represent the next step with noise added.  When we get to $t_0$ we have data that follows the same patterns as real data, but because it was built based on noise is completely synthetic.\n",
        "\n",
        "In terms of architecture, the Continuous-Time Diffusion Model (aka UNet aka Score Net) is a UNet architecture based on the reduced dimensionality space provided by the autoencoder.  It has two down-sampling layers that progressively reduce the size of the input data using convolution.  Each of these down-sampling layers also has two residual blocks that allow data to skip parts of the model as needed.  Each residual block also incorporates self-attention.  SiLU ($sigmoid(x) * x$) is used as the activation function throughout this model.\n",
        "\n",
        "**Training Objectives:**\n",
        "- Loss Function: The loss function is a custom loss function designed to determine the loss between a predicted $t_{k-1}$ and an actual $t_{k-1}$.\n",
        "- Optimiser: Adam with an adaptive learning rate.  The learning rate ($\\lambda$) at epoch $t$ is defined by the exponential decay formula:\n",
        "\n",
        "$$\n",
        "\\lambda(t) = \\text{lr}_0 \\cdot e^{-k \\cdot t}\n",
        "$$\n",
        "\n",
        "where:\n",
        "- $\\text{lr}_0 = 0.5$ is the initial learning rate,\n",
        "- $k = 0.1$ is the decay rate,\n",
        "- $t$ is the epoch number.\n",
        "\n",
        "**Other Info:**\n",
        "The model is not pretrained, but weights are initialized using `torch.nn.init.xavier_uniform_`."
      ]
    },
    {
      "cell_type": "markdown",
      "metadata": {
        "id": "z6MwVZhWLImn"
      },
      "source": [
        "## Training Part 2 - UNet (Continuous-Time Diffusion Model/Score Net)\n",
        "\n",
        "###Training Methodology\n",
        "The model is trained with 50 epochs with a variable learning rate (described in the model section above).  As can be seen in the per-epoch training loss chart displayed when the next cell is run, the number of epochs to successfully train is likely lower (there appear to be diminishing returns after ~20 epochs), however 50 epochs does not appear to cause significant overfitting issues as the test loss never increases.\n",
        "\n",
        "\n",
        "###Computational Requirements\n",
        "The training process takes ~30 minutes when trained with a GPU (substantially longer on a CPU).  We were able to successfully train it on a machine with 16GB of RAM.\n",
        "\n",
        "Because of the several-minute training time, by default this notebook is set to show stats from our training run (and load the model's parameters from the saved parameter file: `./saved_models/score_net.pt`).  If you'd like to change this to train it yourself, set `train_score_net_model = True`.  You can also overwrite our training parameters by setting `save_score_net_model = True`."
      ]
    },
    {
      "cell_type": "markdown",
      "metadata": {
        "id": "P4B8tv8-LPu7"
      },
      "source": [
        "### Instantiate and Train Score Net"
      ]
    },
    {
      "cell_type": "code",
      "execution_count": null,
      "metadata": {
        "colab": {
          "base_uri": "https://localhost:8080/",
          "height": 576
        },
        "id": "hrHjIegwLv60",
        "outputId": "af36ab8d-a390-4aa6-d329-c04f4f4cbc58"
      },
      "outputs": [
        {
          "output_type": "stream",
          "name": "stdout",
          "text": [
            "===> Loading model\n",
            "===> Showing stats from loaded model\n",
            "===> Loading model\n",
            "===> Showing stats from loaded model\n",
            "===> Loading model\n",
            "===> Showing stats from loaded model\n"
          ]
        },
        {
          "output_type": "display_data",
          "data": {
            "text/plain": [
              "<Figure size 640x480 with 1 Axes>"
            ],
            "image/png": "[encoded data removed]"
          },
          "metadata": {}
        }
      ],
      "source": [
        "# Modified from: https://github.com/aanaseer/ScoEHR/blob/main/scoehr/main.py\n",
        "\n",
        "train_score_net = False\n",
        "save_score_net_model = False\n",
        "\n",
        "# Which autoencoders should be used to train the Score Net model\n",
        "# These must all be integers that fit the following formula: (4 * n) ^ 2\n",
        "# This is a requirement of the UNet architecture\n",
        "# 64 = (4 * 2) ^ 2\n",
        "# 144 = (4 * 3) ^ 2\n",
        "# 256 = (4 * 4) ^ 2\n",
        "autoencoder_dims = [64, 144, 256]\n",
        "\n",
        "n_epochs_score_net = 50\n",
        "\n",
        "lr_score_net = 0.001\n",
        "T = 1\n",
        "padding_required = False\n",
        "\n",
        "loss_lists = {}\n",
        "\n",
        "lr_0 = 0.5  # initial learning rate\n",
        "k = 0.1    # decay rate\n",
        "\n",
        "def lambda_func(t):\n",
        "    return lr_0 * np.exp(-k * t)\n",
        "\n",
        "for enc_out_dim in autoencoder_dims:\n",
        "\n",
        "    # Encode training and test data:\n",
        "    # Modified from: https://github.com/aanaseer/ScoEHR/blob/main/scoehr/main.py\n",
        "\n",
        "\n",
        "    autoencoder = Autoencoder(enc_in_dim, enc_out_dim)\n",
        "    autoencoder_model_path = os.path.join(file_location,\n",
        "              'saved_models/autoencoder_count_' + str(enc_out_dim) + '.pt')\n",
        "    checkpoint = torch.load(autoencoder_model_path, map_location=device)\n",
        "    autoencoder.to(device)\n",
        "    autoencoder.load_state_dict(checkpoint['model_state_dict'])\n",
        "    autoencoder.eval()\n",
        "\n",
        "    train_data_encoded = autoencoder.encode(train_dataloader.dataset).detach()\n",
        "    train_dataloader_encoded = DataLoader(\n",
        "            dataset=train_data_encoded,\n",
        "            batch_size=batch_size,\n",
        "            shuffle=True,\n",
        "            drop_last=True,\n",
        "    )\n",
        "    test_data_encoded = autoencoder.encode(test_dataloader.dataset).detach()\n",
        "    test_dataloader_encoded = DataLoader(\n",
        "            dataset=test_data_encoded,\n",
        "            batch_size=batch_size,\n",
        "            shuffle=True,\n",
        "            drop_last=True,\n",
        "    )\n",
        "\n",
        "    sde = VPSDE()\n",
        "    score_net = UNet(\n",
        "        input_channels=1,\n",
        "        encoded_latent_embedding_dim=enc_out_dim,\n",
        "        ch=128,\n",
        "        ch_mult=(1, 2, 2),\n",
        "        num_res_blocks=2,\n",
        "        attn_resolutions=(16,),\n",
        "        resamp_with_conv=True,\n",
        "        dropout=0,\n",
        "    )\n",
        "    score_net.apply(weights_init)\n",
        "    score_net.to(device)\n",
        "    loss_fn_instance_dsm = DenoisingScoreMatching(sde=sde, score_net=score_net, T=T, padding_required=padding_required)\n",
        "    optimiser_score_net = torch.optim.Adam(loss_fn_instance_dsm.parameters(), lr=lr_score_net)\n",
        "\n",
        "    score_net_stats_path = os.path.join(file_location,\n",
        "                'stats/scorenet_count_ae_' + str(enc_out_dim) + '.pkl')\n",
        "    score_net_model_path = os.path.join(file_location,\n",
        "                'saved_models/scorenet_count_ae_' + str(enc_out_dim) + '.pt')\n",
        "\n",
        "    # Modified from: https://github.com/aanaseer/ScoEHR/blob/main/scoehr/train/train_scorenet.py\n",
        "\n",
        "    loss_list = dict()\n",
        "    if train_score_net:\n",
        "        print(f\"==> Training the {enc_out_dim} ae score net with {n_epochs_score_net} epochs.\")\n",
        "\n",
        "        scheduler = lr_scheduler.LambdaLR(optimiser_score_net, lr_lambda=lambda_func)\n",
        "\n",
        "        start_time = time.time()\n",
        "        train_loss_list = []\n",
        "        test_loss_list = []\n",
        "        for epoch in range(n_epochs_score_net):\n",
        "            epoch_loss = 0\n",
        "            for x in tqdm.tqdm(train_dataloader_encoded):\n",
        "                optimiser_score_net.zero_grad()\n",
        "                loss = loss_fn_instance_dsm.loss_fn(x).mean()\n",
        "                epoch_loss += loss.item()\n",
        "                loss.backward()\n",
        "                torch.nn.utils.clip_grad_norm_(score_net.parameters(), 1)\n",
        "                optimiser_score_net.step()\n",
        "\n",
        "            avg_loss = epoch_loss / len(train_dataloader_encoded)\n",
        "\n",
        "            train_loss_list.append(avg_loss)\n",
        "\n",
        "            scheduler.step()\n",
        "\n",
        "            time_elapsed = time.time() - start_time\n",
        "            print(f\"Epoch: {epoch+1}  |  Total Time: {time_elapsed:.2f}s | Train Loss: {avg_loss:.5f}\")\n",
        "\n",
        "            epoch_loss = 0\n",
        "            with torch.no_grad():\n",
        "                for x in tqdm.tqdm(test_dataloader_encoded):\n",
        "                    loss = loss_fn_instance_dsm.loss_fn(x).mean()\n",
        "                    epoch_loss += loss.item()\n",
        "\n",
        "            avg_loss = epoch_loss / len(test_dataloader_encoded)\n",
        "\n",
        "            test_loss_list.append(avg_loss)\n",
        "\n",
        "            time_elapsed = time.time() - start_time\n",
        "            print(f\"Epoch: {epoch+1}  |  Total Time: {time_elapsed:.2f}s | Test Loss: {avg_loss:.5f}\")\n",
        "\n",
        "        print(\"==> Score net training completed.\")\n",
        "        loss_list['train_loss_list'] = train_loss_list\n",
        "        loss_list['test_loss_list'] = test_loss_list\n",
        "        with open(score_net_stats_path, 'wb') as file:\n",
        "            pickle.dump(loss_list, file, -1)\n",
        "        if save_score_net_model:\n",
        "            torch.save({'model_state_dict': score_net.state_dict()}, score_net_model_path)\n",
        "    else:\n",
        "        print(\"===> Loading model\")\n",
        "        checkpoint = torch.load(score_net_model_path, map_location=torch.device(device))\n",
        "        score_net.load_state_dict(checkpoint['model_state_dict'])\n",
        "        print(\"===> Showing stats from loaded model\")\n",
        "        with open(score_net_stats_path, 'rb') as file:\n",
        "            loss_list = pickle.load(file)\n",
        "\n",
        "    loss_lists[enc_out_dim] = loss_list\n",
        "\n",
        "    del train_data_encoded\n",
        "    del train_dataloader_encoded\n",
        "    del test_data_encoded\n",
        "    del test_dataloader_encoded\n",
        "    del loss_fn_instance_dsm\n",
        "    del optimiser_score_net\n",
        "    del checkpoint\n",
        "    del autoencoder\n",
        "    del autoencoder_model_path\n",
        "    gc.collect()\n",
        "    if device == \"cuda\":\n",
        "        torch.cuda.empty_cache()\n",
        "\n",
        "for enc_out_dim in autoencoder_dims:\n",
        "    loss_list = loss_lists[enc_out_dim]\n",
        "    train_loss_list = loss_list['train_loss_list']\n",
        "    test_loss_list = loss_list['test_loss_list']\n",
        "    plt.plot(train_loss_list,\n",
        "             label='score net ae ' + str(enc_out_dim) + ' train loss')\n",
        "    plt.plot(test_loss_list,\n",
        "             label='score net ae ' + str(enc_out_dim) + 'test loss')\n",
        "\n",
        "plt.xlabel('epoch')\n",
        "plt.title('Loss during training')\n",
        "plt.legend()\n",
        "plt.yscale(\"log\")\n",
        "plt.show()"
      ]
    },
    {
      "cell_type": "markdown",
      "metadata": {
        "id": "X3zmKhwTosAq"
      },
      "source": [
        "### Train ScoreNet With No Autoencoder\n",
        "Note: Took 4.5 hours on a T4"
      ]
    },
    {
      "cell_type": "code",
      "execution_count": null,
      "metadata": {
        "colab": {
          "base_uri": "https://localhost:8080/",
          "height": 507
        },
        "id": "qACwLAgsosAq",
        "outputId": "e9891b8b-482b-448e-85fc-c9bdb80c46b6"
      },
      "outputs": [
        {
          "output_type": "stream",
          "name": "stdout",
          "text": [
            "===> Loading model\n",
            "===> Showing stats from loaded model\n"
          ]
        },
        {
          "output_type": "display_data",
          "data": {
            "text/plain": [
              "<Figure size 640x480 with 1 Axes>"
            ],
            "image/png": "[encoded data removed]"
          },
          "metadata": {}
        }
      ],
      "source": [
        "train_score_net_no_ae = False\n",
        "save_score_net_model_no_ae = False\n",
        "\n",
        "# Modified from: https://github.com/aanaseer/ScoEHR/blob/main/scoehr/main.py\n",
        "\n",
        "batch_size = 64\n",
        "\n",
        "import torch.nn.functional as F\n",
        "\n",
        "final_dims = 1296\n",
        "padding_added_dims = final_dims - train_dataloader.dataset.shape[1]\n",
        "\n",
        "train_data_no_ae = F.pad(input=train_dataloader.dataset, pad=(0, padding_added_dims, 0, 0), mode='constant', value=0)\n",
        "train_dataloader_no_ae = DataLoader(\n",
        "        dataset=train_data_no_ae,\n",
        "        batch_size=batch_size,\n",
        "        shuffle=True,\n",
        "        drop_last=True,\n",
        ")\n",
        "test_data_no_ae = F.pad(input=test_dataloader.dataset, pad=(0, padding_added_dims, 0, 0), mode='constant', value=0)\n",
        "test_dataloader_no_ae = DataLoader(\n",
        "        dataset=test_data_no_ae,\n",
        "        batch_size=batch_size,\n",
        "        shuffle=True,\n",
        "        drop_last=True,\n",
        ")\n",
        "\n",
        "lr_score_net_no_ae = 0.001\n",
        "T_no_ae = 1\n",
        "padding_required_no_ae = False\n",
        "\n",
        "sde_no_ae = VPSDE()\n",
        "score_net_no_ae = UNet(\n",
        "    input_channels=1,\n",
        "    encoded_latent_embedding_dim=train_data_no_ae.shape[1],\n",
        "    ch=128,\n",
        "    ch_mult=(1, 2, 2),\n",
        "    num_res_blocks=2,\n",
        "    attn_resolutions=(16,),\n",
        "    resamp_with_conv=True,\n",
        "    dropout=0,\n",
        ")\n",
        "score_net_no_ae.apply(weights_init)\n",
        "score_net_no_ae.to(device)\n",
        "loss_fn_instance_dsm_no_ae = DenoisingScoreMatching(sde=sde_no_ae, score_net=score_net_no_ae, T=T_no_ae, padding_required=padding_required_no_ae)\n",
        "optimiser_score_net_no_ae = torch.optim.Adam(loss_fn_instance_dsm_no_ae.parameters(), lr=lr_score_net_no_ae)\n",
        "\n",
        "T = 1\n",
        "\n",
        "# Modified from: https://github.com/aanaseer/ScoEHR/blob/main/scoehr/train/train_scorenet.py\n",
        "\n",
        "score_net_stats_path = os.path.join(file_location,\n",
        "            'stats/scorenet_count_no_ae.pkl')\n",
        "score_net_model_path = os.path.join(file_location,\n",
        "            'saved_models/scorenet_count_no_ae.pt')\n",
        "\n",
        "n_epochs_score_net_no_ae = 50\n",
        "\n",
        "if train_score_net_no_ae:\n",
        "    print(f\"==> Training the score net with {n_epochs_score_net_no_ae} epochs.\")\n",
        "    lr_0_no_ae = 0.5  # initial learning rate\n",
        "    k_no_ae = 0.1    # decay rate\n",
        "\n",
        "    def lambda_func_no_ae(t_no_ae):\n",
        "        return lr_0_no_ae * np.exp(-k_no_ae * t_no_ae)\n",
        "    scheduler_no_ae = lr_scheduler.LambdaLR(optimiser_score_net_no_ae, lr_lambda=lambda_func_no_ae)\n",
        "\n",
        "    start_time_no_ae = time.time()\n",
        "    train_loss_list_no_ae = []\n",
        "    test_loss_list_no_ae = []\n",
        "    for epoch_no_ae in range(n_epochs_score_net_no_ae):\n",
        "        epoch_loss_no_ae = 0\n",
        "        for x_no_ae in tqdm.tqdm(train_dataloader_no_ae):\n",
        "            optimiser_score_net_no_ae.zero_grad()\n",
        "            loss_no_ae = loss_fn_instance_dsm_no_ae.loss_fn(x_no_ae).mean()\n",
        "            epoch_loss_no_ae += loss_no_ae.item()\n",
        "            loss_no_ae.backward()\n",
        "            torch.nn.utils.clip_grad_norm_(score_net_no_ae.parameters(), 1)\n",
        "            optimiser_score_net_no_ae.step()\n",
        "\n",
        "        avg_loss_no_ae = epoch_loss_no_ae / len(train_dataloader_no_ae)\n",
        "\n",
        "        train_loss_list_no_ae.append(avg_loss_no_ae)\n",
        "\n",
        "        scheduler_no_ae.step()\n",
        "\n",
        "        time_elapsed_no_ae = time.time() - start_time_no_ae\n",
        "        print(f\"Epoch: {epoch_no_ae+1}  |  Total Time: {time_elapsed_no_ae:.2f}s | Train Loss: {avg_loss_no_ae:.5f}\")\n",
        "\n",
        "        epoch_loss_no_ae = 0\n",
        "        with torch.no_grad():\n",
        "            for x_no_ae in tqdm.tqdm(test_dataloader_no_ae):\n",
        "                loss_no_ae = loss_fn_instance_dsm_no_ae.loss_fn(x_no_ae).mean()\n",
        "                epoch_loss_no_ae += loss_no_ae.item()\n",
        "\n",
        "        avg_loss_no_ae = epoch_loss_no_ae / len(test_dataloader_no_ae)\n",
        "\n",
        "        test_loss_list_no_ae.append(avg_loss_no_ae)\n",
        "\n",
        "        time_elapsed_no_ae = time.time() - start_time_no_ae\n",
        "        print(f\"Epoch: {epoch_no_ae+1}  |  Total Time: {time_elapsed_no_ae:.2f}s | Test Loss: {avg_loss_no_ae:.5f}\")\n",
        "\n",
        "    print(\"==> Score net training (no autoencoder) completed.\")\n",
        "    plt.plot(train_loss_list_no_ae, label='score net train loss')\n",
        "    plt.plot(test_loss_list_no_ae, label='score net test loss')\n",
        "    plt.xlabel('epoch')\n",
        "    plt.title('Loss during training')\n",
        "    plt.legend()\n",
        "    plt.yscale(\"log\")\n",
        "    plt.show()\n",
        "    loss_list_no_ae = dict()\n",
        "    loss_list_no_ae['train_loss_list'] = train_loss_list_no_ae\n",
        "    loss_list_no_ae['test_loss_list'] = test_loss_list_no_ae\n",
        "    with open(score_net_stats_path, 'wb') as file:\n",
        "        pickle.dump(loss_list_no_ae, file, -1)\n",
        "    if save_score_net_model_no_ae:\n",
        "        torch.save({'model_state_dict': score_net_no_ae.state_dict()}, score_net_model_path)\n",
        "else:\n",
        "    print(\"===> Loading model\")\n",
        "    checkpoint_no_ae = torch.load(score_net_model_path, map_location=torch.device(device))\n",
        "    score_net_no_ae.load_state_dict(checkpoint_no_ae['model_state_dict'])\n",
        "    print(\"===> Showing stats from loaded model\")\n",
        "    with open(score_net_stats_path, 'rb') as file:\n",
        "        loss_list_no_ae = pickle.load(file)\n",
        "    train_loss_list_no_ae = loss_list_no_ae['train_loss_list']\n",
        "    test_loss_list_no_ae = loss_list_no_ae['test_loss_list']\n",
        "    plt.plot(train_loss_list_no_ae, label='score net train loss')\n",
        "    plt.plot(test_loss_list_no_ae, label='score net test loss')\n",
        "    plt.xlabel('epoch')\n",
        "    plt.title('Loss during training')\n",
        "    plt.legend()\n",
        "    plt.yscale(\"log\")\n",
        "    plt.show()"
      ]
    },
    {
      "cell_type": "markdown",
      "metadata": {
        "id": "sw2Vzh_xshA6"
      },
      "source": [
        "## Generate Synthetic Data\n",
        "Once the model is trained, it can be used to generate synthetic data that can be compared to the original data to determine if it is statistically similar while still protecting the privacy of the original patients.  The generation process is described in the Score Net model section.\n",
        "\n",
        "Note: The generation of synthetic data takes ~45 minutes with a GPU.  By default, instead of generating this data instead pre-generated data is loaded and used.  You can change this by setting `generate_data = True`."
      ]
    },
    {
      "cell_type": "markdown",
      "metadata": {
        "id": "4baxUyXfL4Or"
      },
      "source": [
        "### Define ReverseSDE Class\n",
        "The ReverseSDE class is used to remove noise from the data at each time stamp based on the score_net weights."
      ]
    },
    {
      "cell_type": "code",
      "execution_count": null,
      "metadata": {
        "id": "cOqWHkqZL5TC"
      },
      "outputs": [],
      "source": [
        "# Modified from: https://github.com/aanaseer/ScoEHR/blob/main/scoehr/score_matching/sde_library.py\n",
        "\n",
        "class ReverseSDE(nn.Module):\n",
        "    \"\"\"Implements the reverse SDE.\"\"\"\n",
        "\n",
        "    def __init__(self, sde, score_net, T=1.0):\n",
        "        super().__init__()\n",
        "        self.sde = sde\n",
        "        self.score_net = score_net\n",
        "        self.T = T\n",
        "\n",
        "    def drift(self, x, t):\n",
        "        dt = -1\n",
        "        return (\n",
        "            self.sde.f(x, self.T - t)\n",
        "            - (self.sde.g(x, self.T - t) ** 2) * self.score_net(x, self.T - t.squeeze())\n",
        "        ) * dt\n",
        "\n",
        "    def diffusion(self, x, t):\n",
        "        return self.sde.g(x, self.T - t)  # Actual"
      ]
    },
    {
      "cell_type": "markdown",
      "metadata": {
        "id": "xb2fy_O2L8jZ"
      },
      "source": [
        "### Generate the Synthetic Data"
      ]
    },
    {
      "cell_type": "code",
      "execution_count": null,
      "metadata": {
        "id": "srceklV9MANV"
      },
      "outputs": [],
      "source": [
        "# Modified from: https://github.com/aanaseer/ScoEHR/blob/main/scoehr/main.py\n",
        "\n",
        "batch_size = 128\n",
        "\n",
        "generate_data = False\n",
        "save_generated_data = False\n",
        "\n",
        "autoencoder_dims = [64, 144, 256]\n",
        "\n",
        "T = 1\n",
        "\n",
        "if generate_data:\n",
        "    time_steps = 1000\n",
        "    num_samples_to_generate = batch_size * 80\n",
        "\n",
        "    print(\"==> Commencing reverse solve using torchsde Euler Maruyama.\")\n",
        "\n",
        "    for enc_out_dim in autoencoder_dims:\n",
        "        start_time = time.time()\n",
        "        print(f'==> Generating data for {enc_out_dim} ae score net')\n",
        "        autoencoder = Autoencoder(enc_in_dim, enc_out_dim)\n",
        "        autoencoder_model_path = os.path.join(file_location,\n",
        "                'saved_models/autoencoder_count_' + str(enc_out_dim) + '.pt')\n",
        "        checkpoint = torch.load(autoencoder_model_path, map_location=device)\n",
        "        autoencoder.load_state_dict(checkpoint['model_state_dict'])\n",
        "        autoencoder.eval()\n",
        "        autoencoder.to(device)\n",
        "\n",
        "        sde = VPSDE()\n",
        "        score_net = UNet(\n",
        "        input_channels=1,\n",
        "        encoded_latent_embedding_dim=enc_out_dim,\n",
        "        ch=128,\n",
        "        ch_mult=(1, 2, 2),\n",
        "        num_res_blocks=2,\n",
        "        attn_resolutions=(16,),\n",
        "        resamp_with_conv=True,\n",
        "        dropout=0,\n",
        "        )\n",
        "        score_net.apply(weights_init)\n",
        "        score_net.to(device)\n",
        "\n",
        "        score_net_model_path = os.path.join(file_location,\n",
        "                'saved_models/scorenet_count_ae_' + str(enc_out_dim) + '.pt')\n",
        "\n",
        "        generated_data_location = os.path.join(file_location,\n",
        "                'synthetic_data/count_ae_' + str(enc_out_dim) + '.npy')\n",
        "\n",
        "        try:\n",
        "            generated_data_final = torch.Tensor(np.load(generated_data_location))\n",
        "            print(f'Total records loaded: {generated_data_final.shape[0]}')\n",
        "        except:\n",
        "            generated_data_final = None\n",
        "            print(\"No data loaded\")\n",
        "\n",
        "        checkpoint = torch.load(score_net_model_path, map_location=torch.device(device))\n",
        "        score_net.load_state_dict(checkpoint['model_state_dict'])\n",
        "\n",
        "\n",
        "        reverse_sde = ReverseSDE(sde=sde, score_net=score_net, T=T)\n",
        "        torchsde_SDE = WrapperForTorchSDE(reverse_sde=reverse_sde, noise_type=\"diagonal\", sde_type=\"ito\")\n",
        "        ts = torch.linspace(0, 1, time_steps + 1) * reverse_sde.T\n",
        "        ts = ts.to(device)\n",
        "        with torch.no_grad():\n",
        "            assert (\n",
        "                num_samples_to_generate >= batch_size\n",
        "            ), \"Num to generate should be greater than or equal to batch size.\"\n",
        "            batch_iter = math.ceil(num_samples_to_generate / batch_size)\n",
        "            print(f\"==> Able to generate {batch_iter * batch_size} samples.\")\n",
        "\n",
        "            xs_batches = None\n",
        "            for i in range(0, batch_iter):\n",
        "                print(f\"==> Batch {i + 1} out of {batch_iter}.\")\n",
        "                x_0 = torch.randn(batch_size, enc_out_dim, device=device)\n",
        "                x_batch_solved = torchsde.sdeint(torchsde_SDE, x_0, ts, method=\"euler\")\n",
        "                with torch.no_grad():\n",
        "                    print(\n",
        "                        f\"==> Decoding data generated in batch {i + 1} out of {batch_iter}.\"\n",
        "                    )\n",
        "                    x_batch_solved = torch.stack([x_batch_solved])\n",
        "                    for x_encoded in x_batch_solved:\n",
        "                        out = autoencoder.decode(x_encoded.to(device))\n",
        "                        out = out.cpu()\n",
        "                        out = out[-1].round()\n",
        "                        if generated_data_final is None:\n",
        "                            generated_data_final = out.detach()[:, 0:train_data.shape[1]]\n",
        "                        else:\n",
        "                            generated_data_final = torch.cat(\n",
        "                                (generated_data_final,\n",
        "                                out.detach()[:, 0:train_data.shape[1]]))\n",
        "                        # del out\n",
        "                        torch.cuda.empty_cache()\n",
        "\n",
        "                if save_generated_data:\n",
        "                    print(\"==> Saving generated data.\")\n",
        "                    np.save(generated_data_location, generated_data_final)\n",
        "                    print(f'Generated data saved to {generated_data_location}')\n",
        "\n",
        "                time_elapsed = time.time() - start_time\n",
        "                print(f'Time elapsed: {time_elapsed} seconds')\n",
        "                print(f'Total records saved: {generated_data_final.shape[0]}')"
      ]
    },
    {
      "cell_type": "markdown",
      "source": [
        "###Generate synthetic data (Learning Rate/Epoch ablation models)"
      ],
      "metadata": {
        "id": "hqgQDRJZRZ9V"
      }
    },
    {
      "cell_type": "code",
      "source": [
        "# Modified from: https://github.com/aanaseer/ScoEHR/blob/main/scoehr/main.py\n",
        "\n",
        "batch_size = 128\n",
        "\n",
        "generate_data = True\n",
        "save_generated_data = True\n",
        "\n",
        "T = 1\n",
        "enc_in_dim = train_data.shape[1]\n",
        "\n",
        "if generate_data:\n",
        "    time_steps = 1000\n",
        "    num_samples_to_generate = batch_size * 80\n",
        "\n",
        "    print(\"==> Commencing reverse solve using torchsde Euler Maruyama.\")\n",
        "\n",
        "    for model_file in os.listdir(file_location + '/seth_models/'):\n",
        "        enc_out_dim = 144\n",
        "        start_time = time.time()\n",
        "        print(f'==> Generating data for {model_file}')\n",
        "        autoencoder = Autoencoder(enc_in_dim, enc_out_dim)\n",
        "        autoencoder_model_path = os.path.join(file_location,\n",
        "                'saved_models/autoencoder.pt')\n",
        "        checkpoint = torch.load(autoencoder_model_path, map_location=device)\n",
        "        autoencoder.load_state_dict(checkpoint['model_state_dict'])\n",
        "        autoencoder.eval()\n",
        "        autoencoder.to(device)\n",
        "\n",
        "        sde = VPSDE()\n",
        "        score_net = UNet(\n",
        "        input_channels=1,\n",
        "        encoded_latent_embedding_dim=enc_out_dim,\n",
        "        ch=128,\n",
        "        ch_mult=(1, 2, 2),\n",
        "        num_res_blocks=2,\n",
        "        attn_resolutions=(16,),\n",
        "        resamp_with_conv=True,\n",
        "        dropout=0,\n",
        "        )\n",
        "        score_net.apply(weights_init)\n",
        "        score_net.to(device)\n",
        "\n",
        "        score_net_model_path = os.path.join(file_location,\n",
        "                'seth_models/' + model_file)\n",
        "\n",
        "        generated_data_location = os.path.join(file_location,\n",
        "                'seth_data/' + model_file.split('.')[0] + '.' + model_file.split('.')[1] + '.npy')\n",
        "\n",
        "        try:\n",
        "            generated_data_final = torch.Tensor(np.load(generated_data_location))\n",
        "            print(f'Total records loaded: {generated_data_final.shape[0]}')\n",
        "        except:\n",
        "            generated_data_final = None\n",
        "            print(\"No data loaded\")\n",
        "\n",
        "        checkpoint = torch.load(score_net_model_path, map_location=torch.device(device))\n",
        "        score_net.load_state_dict(checkpoint['model_state_dict'])\n",
        "\n",
        "\n",
        "        reverse_sde = ReverseSDE(sde=sde, score_net=score_net, T=T)\n",
        "        torchsde_SDE = WrapperForTorchSDE(reverse_sde=reverse_sde, noise_type=\"diagonal\", sde_type=\"ito\")\n",
        "        ts = torch.linspace(0, 1, time_steps + 1) * reverse_sde.T\n",
        "        ts = ts.to(device)\n",
        "        with torch.no_grad():\n",
        "            assert (\n",
        "                num_samples_to_generate >= batch_size\n",
        "            ), \"Num to generate should be greater than or equal to batch size.\"\n",
        "            batch_iter = math.ceil(num_samples_to_generate / batch_size)\n",
        "            print(f\"==> Able to generate {batch_iter * batch_size} samples.\")\n",
        "\n",
        "            xs_batches = None\n",
        "            for i in range(0, batch_iter):\n",
        "                print(f\"==> Batch {i + 1} out of {batch_iter}.\")\n",
        "                x_0 = torch.randn(batch_size, enc_out_dim, device=device)\n",
        "                x_batch_solved = torchsde.sdeint(torchsde_SDE, x_0, ts, method=\"euler\")\n",
        "                with torch.no_grad():\n",
        "                    print(\n",
        "                        f\"==> Decoding data generated in batch {i + 1} out of {batch_iter}.\"\n",
        "                    )\n",
        "                    x_batch_solved = torch.stack([x_batch_solved])\n",
        "                    for x_encoded in x_batch_solved:\n",
        "                        out = autoencoder.decode(x_encoded.to(device))\n",
        "                        out = out.cpu()\n",
        "                        out = out[-1].round()\n",
        "                        if generated_data_final is None:\n",
        "                            generated_data_final = out.detach()[:, 0:train_data.shape[1]]\n",
        "                        else:\n",
        "                            generated_data_final = torch.cat(\n",
        "                                (generated_data_final,\n",
        "                                out.detach()[:, 0:train_data.shape[1]]))\n",
        "                        # del out\n",
        "                        torch.cuda.empty_cache()\n",
        "\n",
        "                if save_generated_data:\n",
        "                    print(\"==> Saving generated data.\")\n",
        "                    np.save(generated_data_location, generated_data_final)\n",
        "                    print(f'Generated data saved to {generated_data_location}')\n",
        "\n",
        "                time_elapsed = time.time() - start_time\n",
        "                print(f'Time elapsed: {time_elapsed} seconds')\n",
        "                print(f'Total records saved: {generated_data_final.shape[0]}')"
      ],
      "metadata": {
        "colab": {
          "base_uri": "https://localhost:8080/",
          "height": 471
        },
        "id": "fRc1QVRfRYxv",
        "outputId": "dd0d2f28-9fb3-4bcd-f161-0aa0dc332982"
      },
      "execution_count": null,
      "outputs": [
        {
          "output_type": "stream",
          "name": "stdout",
          "text": [
            "==> Commencing reverse solve using torchsde Euler Maruyama.\n",
            "==> Generating data for score_net_count_epoch12_lr0.001.pt\n"
          ]
        },
        {
          "output_type": "error",
          "ename": "RuntimeError",
          "evalue": "Error(s) in loading state_dict for Autoencoder:\n\tsize mismatch for encoder.0.weight: copying a param with shape torch.Size([144, 6985]) from checkpoint, the shape in current model is torch.Size([144, 1071]).\n\tsize mismatch for decoder.0.weight: copying a param with shape torch.Size([6985, 144]) from checkpoint, the shape in current model is torch.Size([1071, 144]).\n\tsize mismatch for decoder.0.bias: copying a param with shape torch.Size([6985]) from checkpoint, the shape in current model is torch.Size([1071]).",
          "traceback": [
            "\u001b[0;31m---------------------------------------------------------------------------\u001b[0m",
            "\u001b[0;31mRuntimeError\u001b[0m                              Traceback (most recent call last)",
            "\u001b[0;32m<ipython-input-13-939fd308644e>\u001b[0m in \u001b[0;36m<cell line: 11>\u001b[0;34m()\u001b[0m\n\u001b[1;32m     23\u001b[0m                 'saved_models/autoencoder.pt')\n\u001b[1;32m     24\u001b[0m         \u001b[0mcheckpoint\u001b[0m \u001b[0;34m=\u001b[0m \u001b[0mtorch\u001b[0m\u001b[0;34m.\u001b[0m\u001b[0mload\u001b[0m\u001b[0;34m(\u001b[0m\u001b[0mautoencoder_model_path\u001b[0m\u001b[0;34m,\u001b[0m \u001b[0mmap_location\u001b[0m\u001b[0;34m=\u001b[0m\u001b[0mdevice\u001b[0m\u001b[0;34m)\u001b[0m\u001b[0;34m\u001b[0m\u001b[0;34m\u001b[0m\u001b[0m\n\u001b[0;32m---> 25\u001b[0;31m         \u001b[0mautoencoder\u001b[0m\u001b[0;34m.\u001b[0m\u001b[0mload_state_dict\u001b[0m\u001b[0;34m(\u001b[0m\u001b[0mcheckpoint\u001b[0m\u001b[0;34m[\u001b[0m\u001b[0;34m'model_state_dict'\u001b[0m\u001b[0;34m]\u001b[0m\u001b[0;34m)\u001b[0m\u001b[0;34m\u001b[0m\u001b[0;34m\u001b[0m\u001b[0m\n\u001b[0m\u001b[1;32m     26\u001b[0m         \u001b[0mautoencoder\u001b[0m\u001b[0;34m.\u001b[0m\u001b[0meval\u001b[0m\u001b[0;34m(\u001b[0m\u001b[0;34m)\u001b[0m\u001b[0;34m\u001b[0m\u001b[0;34m\u001b[0m\u001b[0m\n\u001b[1;32m     27\u001b[0m         \u001b[0mautoencoder\u001b[0m\u001b[0;34m.\u001b[0m\u001b[0mto\u001b[0m\u001b[0;34m(\u001b[0m\u001b[0mdevice\u001b[0m\u001b[0;34m)\u001b[0m\u001b[0;34m\u001b[0m\u001b[0;34m\u001b[0m\u001b[0m\n",
            "\u001b[0;32m/usr/local/lib/python3.10/dist-packages/torch/nn/modules/module.py\u001b[0m in \u001b[0;36mload_state_dict\u001b[0;34m(self, state_dict, strict, assign)\u001b[0m\n\u001b[1;32m   2151\u001b[0m \u001b[0;34m\u001b[0m\u001b[0m\n\u001b[1;32m   2152\u001b[0m         \u001b[0;32mif\u001b[0m \u001b[0mlen\u001b[0m\u001b[0;34m(\u001b[0m\u001b[0merror_msgs\u001b[0m\u001b[0;34m)\u001b[0m \u001b[0;34m>\u001b[0m \u001b[0;36m0\u001b[0m\u001b[0;34m:\u001b[0m\u001b[0;34m\u001b[0m\u001b[0;34m\u001b[0m\u001b[0m\n\u001b[0;32m-> 2153\u001b[0;31m             raise RuntimeError('Error(s) in loading state_dict for {}:\\n\\t{}'.format(\n\u001b[0m\u001b[1;32m   2154\u001b[0m                                self.__class__.__name__, \"\\n\\t\".join(error_msgs)))\n\u001b[1;32m   2155\u001b[0m         \u001b[0;32mreturn\u001b[0m \u001b[0m_IncompatibleKeys\u001b[0m\u001b[0;34m(\u001b[0m\u001b[0mmissing_keys\u001b[0m\u001b[0;34m,\u001b[0m \u001b[0munexpected_keys\u001b[0m\u001b[0;34m)\u001b[0m\u001b[0;34m\u001b[0m\u001b[0;34m\u001b[0m\u001b[0m\n",
            "\u001b[0;31mRuntimeError\u001b[0m: Error(s) in loading state_dict for Autoencoder:\n\tsize mismatch for encoder.0.weight: copying a param with shape torch.Size([144, 6985]) from checkpoint, the shape in current model is torch.Size([144, 1071]).\n\tsize mismatch for decoder.0.weight: copying a param with shape torch.Size([6985, 144]) from checkpoint, the shape in current model is torch.Size([1071, 144]).\n\tsize mismatch for decoder.0.bias: copying a param with shape torch.Size([6985]) from checkpoint, the shape in current model is torch.Size([1071])."
          ]
        }
      ]
    },
    {
      "cell_type": "markdown",
      "metadata": {
        "id": "X5eZKaOjosAr"
      },
      "source": [
        "### Generate Synthetic Data (No Autoencoder)"
      ]
    },
    {
      "cell_type": "code",
      "execution_count": null,
      "metadata": {
        "colab": {
          "base_uri": "https://localhost:8080/"
        },
        "id": "Z7XlheC9osAr",
        "outputId": "1e1361ed-497e-4643-fd0d-ec411848dae9"
      },
      "outputs": [
        {
          "output_type": "stream",
          "name": "stdout",
          "text": [
            "Total records loaded: 10048\n"
          ]
        }
      ],
      "source": [
        "# Modified from: https://github.com/aanaseer/ScoEHR/blob/main/scoehr/main.py\n",
        "\n",
        "batch_size_no_ae = 64\n",
        "\n",
        "generated_data_location = os.path.join(file_location, 'synthetic_data/count_no_ae.npy')\n",
        "\n",
        "generate_data_no_ae = False\n",
        "save_generated_data_no_ae = False\n",
        "\n",
        "T = 1\n",
        "\n",
        "try:\n",
        "    generated_data_final_no_ae = torch.Tensor(np.load(generated_data_location))\n",
        "    print(f'Total records loaded: {generated_data_final_no_ae.shape[0]}')\n",
        "except:\n",
        "    generated_data_final_no_ae = None\n",
        "    print(\"No data loaded\")\n",
        "\n",
        "if generate_data_no_ae:\n",
        "    time_steps_no_ae = 1000\n",
        "    num_samples_to_generate_no_ae = batch_size_no_ae * 164\n",
        "\n",
        "    print(\"==> Commencing reverse solve using torchsde Euler Maruyama.\")\n",
        "\n",
        "    reverse_sde_no_ae = ReverseSDE(sde=sde_no_ae, score_net=score_net_no_ae, T=T_no_ae)\n",
        "    torchsde_SDE_no_ae = WrapperForTorchSDE(reverse_sde=reverse_sde_no_ae, noise_type=\"diagonal\", sde_type=\"ito\")\n",
        "    ts_no_ae = torch.linspace(0, 1, time_steps_no_ae + 1) * reverse_sde_no_ae.T\n",
        "    ts_no_ae = ts_no_ae.to(device)\n",
        "    with torch.no_grad():\n",
        "        assert (\n",
        "            num_samples_to_generate_no_ae >= batch_size_no_ae\n",
        "        ), \"Num to generate should be greater than or equal to batch size.\"\n",
        "        batch_iter_no_ae = math.ceil(num_samples_to_generate_no_ae / batch_size_no_ae)\n",
        "        print(f\"==> Able to generate {batch_iter_no_ae * batch_size_no_ae} samples.\")\n",
        "\n",
        "        xs_batches_no_ae = None\n",
        "        for i_no_ae in range(0, batch_iter_no_ae):\n",
        "            print(f\"==> Batch {i_no_ae + 1} out of {batch_iter_no_ae}.\")\n",
        "            x_0_no_ae = torch.randn(batch_size_no_ae, train_data_no_ae.shape[1], device=device)\n",
        "            x_batch_solved_no_ae = torchsde.sdeint(torchsde_SDE_no_ae, x_0_no_ae, ts_no_ae, method=\"euler\")\n",
        "            with torch.no_grad():\n",
        "                # print(\n",
        "                #     f\"==> Decoding data generated in batch {i_no_ae + 1} out of {batch_iter_no_ae}.\"\n",
        "                # )\n",
        "                x_batch_solved_no_ae = torch.stack([x_batch_solved_no_ae])\n",
        "                for x_no_ae in x_batch_solved_no_ae:\n",
        "                    out_no_ae = x_no_ae\n",
        "                    out_no_ae = out_no_ae.cpu()\n",
        "                    out_no_ae = out_no_ae[-1].round()\n",
        "                    if generated_data_final_no_ae is None:\n",
        "                        generated_data_final_no_ae = out_no_ae.detach()[:, 0:train_data.shape[1]]\n",
        "                    else:\n",
        "                        generated_data_final_no_ae = torch.cat(\n",
        "                            (generated_data_final_no_ae,\n",
        "                             out_no_ae.detach()[:, 0:train_data.shape[1]]))\n",
        "                    # del out\n",
        "                    torch.cuda.empty_cache()\n",
        "\n",
        "            # if generated_data_final_no_ae is None:\n",
        "            #     generated_data_final_no_ae = xs_batches_no_ae[:, 0:train_data.shape[1]]\n",
        "            # else:\n",
        "            #     generated_data_final_no_ae = torch.cat((generated_data_final_no_ae, xs_batches_no_ae[:, 0:train_data.shape[1]]))\n",
        "\n",
        "            if save_generated_data_no_ae:\n",
        "                print(\"==> Saving generated data.\")\n",
        "                np.save(generated_data_location, generated_data_final_no_ae)\n",
        "                print(f'Generated data saved to {generated_data_location}')\n",
        "\n",
        "            print(f'Total records saved: {generated_data_final_no_ae.shape[0]}')"
      ]
    },
    {
      "cell_type": "markdown",
      "metadata": {
        "id": "714ca8ab-0995-41e4-b588-52f8c3be4e56"
      },
      "source": [
        "## Evaluation\n",
        "\n",
        "The original paper looked at three types of Metrics\n",
        "1. Quantitative Metrics\n",
        "2. Qualitative Metrics\n",
        "3. Privacy Metrics"
      ]
    },
    {
      "cell_type": "markdown",
      "source": [
        "## Load the data for evaluation purposes"
      ],
      "metadata": {
        "id": "oBmJkgKXpjxd"
      }
    },
    {
      "cell_type": "code",
      "source": [
        "autoencoder_dims = [64, 144, 256, 0]\n",
        "\n",
        "generated_data_final = {}\n",
        "record_counts = []\n",
        "synthetic_records = {}\n",
        "\n",
        "for enc_out_dim in autoencoder_dims:\n",
        "    if enc_out_dim == 0:\n",
        "        generated_data_location = os.path.join(file_location,\n",
        "          'synthetic_data/count_no_ae.npy')\n",
        "    else:\n",
        "        generated_data_location = os.path.join(file_location,\n",
        "          'synthetic_data/count_ae_' + str(enc_out_dim) + '.npy')\n",
        "\n",
        "    generated_data_final[enc_out_dim] = torch.Tensor(np.load(generated_data_location))\n",
        "    print(f'{generated_data_final[enc_out_dim].shape[0]} records loaded for {enc_out_dim} ae')\n",
        "    record_counts.append(generated_data_final[enc_out_dim].shape[0])\n",
        "\n",
        "synthetic_data_size = min(record_counts)\n",
        "real = test_data[0:synthetic_data_size].to(\"cpu\").detach()\n",
        "for enc_out_dim in autoencoder_dims:\n",
        "    synthetic_records[enc_out_dim] = generated_data_final[enc_out_dim][0:synthetic_data_size].to(\"cpu\").detach()"
      ],
      "metadata": {
        "colab": {
          "base_uri": "https://localhost:8080/"
        },
        "id": "Bl0tiJiwpjP7",
        "outputId": "e5b431ff-ba62-495e-915e-fadb33c2eee1"
      },
      "execution_count": null,
      "outputs": [
        {
          "output_type": "stream",
          "name": "stdout",
          "text": [
            "10240 records loaded for 64 ae\n",
            "10240 records loaded for 144 ae\n",
            "10240 records loaded for 256 ae\n",
            "10048 records loaded for 0 ae\n"
          ]
        }
      ]
    },
    {
      "cell_type": "code",
      "source": [
        "ablation_files = os.listdir(file_location + '/seth_data/')\n",
        "\n",
        "for data_file in ablation_files:\n",
        "    generated_data_location = os.path.join(file_location, 'seth_data', data_file)\n",
        "    generated_data_final[data_file] = torch.Tensor(np.load(generated_data_location))\n",
        "    print(f'{generated_data_final[data_file].shape[0]} records loaded for {data_file} ablation')\n",
        "    record_counts.append(generated_data_final[data_file].shape[0])\n",
        "\n",
        "synthetic_data_size = min(record_counts)\n",
        "real = test_data[0:synthetic_data_size].to(\"cpu\").detach()\n",
        "for data_file in ablation_files:\n",
        "    synthetic_records[data_file] = generated_data_final[data_file][0:synthetic_data_size].to(\"cpu\").detach()"
      ],
      "metadata": {
        "colab": {
          "base_uri": "https://localhost:8080/"
        },
        "id": "ewJhNuX90Xpi",
        "outputId": "f35989b6-75e9-46ff-aede-34713cedf695"
      },
      "execution_count": null,
      "outputs": [
        {
          "output_type": "stream",
          "name": "stdout",
          "text": [
            "10240 records loaded for score_net_count_epoch12_lr0.001.npy ablation\n",
            "10240 records loaded for score_net_count_epoch30_lr0.0005.npy ablation\n",
            "10240 records loaded for score_net_count_epoch30_lr0.005.npy ablation\n",
            "10240 records loaded for score_net_count_epoch30_lr0.001.npy ablation\n",
            "10240 records loaded for score_net_count_epoch25_lr0.001.npy ablation\n",
            "10240 records loaded for score_net_count_epoch100_lr0.001.npy ablation\n",
            "10240 records loaded for score_net_count_epoch75_lr0.001.npy ablation\n",
            "10240 records loaded for score_net_count_epoch50_lr0p001.pt.npy ablation\n",
            "10240 records loaded for score_net_count_epoch30_lr0.00025.npy ablation\n",
            "10240 records loaded for score_net_count_epoch30_lr0.0025.npy ablation\n"
          ]
        }
      ]
    },
    {
      "cell_type": "markdown",
      "metadata": {
        "id": "b590bf2d-5522-4ed3-b698-c62b769356bc"
      },
      "source": [
        "### 1. Quantitative Metrics"
      ]
    },
    {
      "cell_type": "markdown",
      "metadata": {
        "id": "ded96552-4e10-498c-b9e5-ec7f5cc4d5fd"
      },
      "source": [
        "**1.1 Dimensional Distribution Metric**\n",
        "\n",
        "Assessing if marginal distributions in real data are captured by the synthetic data. ie, for a given category of data, such as age, independent of other variables, the distribution is expected.\n",
        "\n",
        "Binary Data:\n",
        "\n",
        "$$\\boldsymbol{DWM} = \\sum_{i=1}^N \\vert \t\\frac{1}{n_d} \\sum_{j=1}^{n_d} {d}_j,_i - \\hat{d}_j,_i \\vert$$\n",
        "\n",
        "Continuous Variable Data:\n",
        "\n",
        "$$\\boldsymbol{DEM} = \\sum_{i=1}^N \\frac{1}{n_c} \\sum_{j=1}^{n_c} \\vert {c}_j,_i - \\hat{c}_j,_i \\vert$$\n",
        "\n",
        "Total Score:\n",
        "\n",
        "$$\\frac{DWM + DEM}{N}$$\n",
        "\n",
        "A lower value indicates that the real and synthetic data have similar marginal relationships.\n",
        "\n",
        "---\n",
        "Results found in the paper:\n",
        "\n",
        "Model | MIMIC-III Dataset | ED EHR Dataset\n",
        "--- | --- | ---\n",
        "medGAN | 0.0019 $\\pm$ 0.0001 | 0.012 $\\pm$ 0.001 |\n",
        "medBGAN | 0.0016 $\\pm$ 0.0001 | 0.014 $\\pm$ 0.001 |\n",
        "medWGAN | 0.0025 $\\pm$ 0.0001 | 0.0088 $\\pm$ 0.0001 |\n",
        "ScoEHR | 0.0029 $\\pm$ 0.0001 | 0.0037 $\\pm$ 0.0001 |"
      ]
    },
    {
      "cell_type": "code",
      "execution_count": null,
      "metadata": {
        "id": "IpohZhw9osAs",
        "outputId": "25f0b181-18bf-47ed-e94b-2db42a7ddac3",
        "colab": {
          "base_uri": "https://localhost:8080/"
        }
      },
      "outputs": [
        {
          "output_type": "stream",
          "name": "stdout",
          "text": [
            "==> Showing results for 64 Autoencoder:\n",
            "Dimensional Distribution Metric: 0.0023\n",
            "Recreated results have 21.92% better marginal relationships than the original.\n",
            "==> Showing results for 144 Autoencoder:\n",
            "Dimensional Distribution Metric: 0.0021\n",
            "Recreated results have 28.07% better marginal relationships than the original.\n",
            "==> Showing results for 256 Autoencoder:\n",
            "Dimensional Distribution Metric: 0.0021\n",
            "Recreated results have 29.01% better marginal relationships than the original.\n",
            "==> Showing results for 0 Autoencoder:\n",
            "Dimensional Distribution Metric: 0.0025\n",
            "Recreated results have 13.78% better marginal relationships than the original.\n"
          ]
        }
      ],
      "source": [
        "DDM_results = {}\n",
        "for enc_out_dim in autoencoder_dims:\n",
        "    print(f'==> Showing results for {enc_out_dim} Autoencoder:')\n",
        "    synthetic = synthetic_records[enc_out_dim]\n",
        "    #Note: Because this is entirely count data, DWM is not needed\n",
        "    DEM = torch.sum(torch.mean(torch.abs(real - synthetic), axis=0))\n",
        "    DDM = DEM / len(real)\n",
        "    DDM = DDM.item()\n",
        "    DDM_results[enc_out_dim] = DDM\n",
        "    print(f\"Dimensional Distribution Metric: {round(DDM, 4)}\")\n",
        "    DDM_original = 0.0029\n",
        "    DDM_compare = round(((DDM - DDM_original) / abs(DDM_original)) * 100,2)\n",
        "    if (DDM_compare < 0):\n",
        "      print(f\"Recreated results have {abs(DDM_compare)}% better marginal relationships than the original.\")\n",
        "    elif ((DDM_compare > 0)):\n",
        "      print(f\"Recreated results have {DDM_compare}% worse marginal relationships than the original.\")\n",
        "    else:\n",
        "      print(\"Recreated results have the same marginal relationships as the original.\")"
      ]
    },
    {
      "cell_type": "code",
      "source": [
        "for data_file in ablation_files:\n",
        "      print(f'==> Showing results for {data_file} ablation:')\n",
        "      synthetic = synthetic_records[data_file]\n",
        "      #Note: Because this is entirely count data, DWM is not needed\n",
        "      DEM = torch.sum(torch.mean(torch.abs(real - synthetic), axis=0))\n",
        "      DDM = DEM / len(real)\n",
        "      DDM = DDM.item()\n",
        "      DDM_results[data_file] = DDM\n",
        "      print(f\"Dimensional Distribution Metric: {round(DDM, 4)}\")\n",
        "      DDM_original = 0.0029\n",
        "      DDM_compare = round(((DDM - DDM_original) / abs(DDM_original)) * 100,2)\n",
        "      if (DDM_compare < 0):\n",
        "        print(f\"Recreated results have {abs(DDM_compare)}% better marginal relationships than the original.\")\n",
        "      elif ((DDM_compare > 0)):\n",
        "        print(f\"Recreated results have {DDM_compare}% worse marginal relationships than the original.\")\n",
        "      else:\n",
        "        print(\"Recreated results have the same marginal relationships as the original.\")"
      ],
      "metadata": {
        "colab": {
          "base_uri": "https://localhost:8080/"
        },
        "id": "DAZFdceE1mUb",
        "outputId": "65de6bef-020e-4f26-ec7b-b3125a939e24"
      },
      "execution_count": null,
      "outputs": [
        {
          "output_type": "stream",
          "name": "stdout",
          "text": [
            "==> Showing results for score_net_count_epoch12_lr0.001.npy ablation:\n",
            "Dimensional Distribution Metric: 0.0066\n",
            "Recreated results have 127.64% worse marginal relationships than the original.\n",
            "==> Showing results for score_net_count_epoch30_lr0.0005.npy ablation:\n",
            "Dimensional Distribution Metric: 0.007\n",
            "Recreated results have 142.43% worse marginal relationships than the original.\n",
            "==> Showing results for score_net_count_epoch30_lr0.005.npy ablation:\n",
            "Dimensional Distribution Metric: 5.7307\n",
            "Recreated results have 197510.66% worse marginal relationships than the original.\n",
            "==> Showing results for score_net_count_epoch30_lr0.001.npy ablation:\n",
            "Dimensional Distribution Metric: 0.0068\n",
            "Recreated results have 133.48% worse marginal relationships than the original.\n",
            "==> Showing results for score_net_count_epoch25_lr0.001.npy ablation:\n",
            "Dimensional Distribution Metric: 0.0063\n",
            "Recreated results have 117.76% worse marginal relationships than the original.\n",
            "==> Showing results for score_net_count_epoch100_lr0.001.npy ablation:\n",
            "Dimensional Distribution Metric: 0.0068\n",
            "Recreated results have 133.67% worse marginal relationships than the original.\n",
            "==> Showing results for score_net_count_epoch75_lr0.001.npy ablation:\n",
            "Dimensional Distribution Metric: 0.0069\n",
            "Recreated results have 137.22% worse marginal relationships than the original.\n",
            "==> Showing results for score_net_count_epoch50_lr0p001.pt.npy ablation:\n",
            "Dimensional Distribution Metric: 0.0066\n",
            "Recreated results have 129.05% worse marginal relationships than the original.\n",
            "==> Showing results for score_net_count_epoch30_lr0.00025.npy ablation:\n",
            "Dimensional Distribution Metric: 0.007\n",
            "Recreated results have 140.88% worse marginal relationships than the original.\n",
            "==> Showing results for score_net_count_epoch30_lr0.0025.npy ablation:\n",
            "Dimensional Distribution Metric: 0.0065\n",
            "Recreated results have 125.67% worse marginal relationships than the original.\n"
          ]
        }
      ]
    },
    {
      "cell_type": "markdown",
      "metadata": {
        "id": "db7ccc06-9793-4bc1-9e14-c7a04c1b39b3"
      },
      "source": [
        "**1.2 Pairwise Correlation Difference**\n",
        "\n",
        "Assessing if the correlations in the real and synthetic datasets are similar. The Pearson Correlation Matrices are found for the real and sythetic data which are used to compute the Frobenius Norm of the difference.\n",
        "\n",
        "$$PCD = \\Vert Corr(D) - Corr(\\hat D) \\Vert_F$$\n",
        "\n",
        "The closer PCD is to zero, the better the inter-dimensional relationships are caputred by the synthetic data.\n",
        "\n",
        "---\n",
        "Results found in the paper:\n",
        "\n",
        "Model | MIMIC-III Dataset | ED EHR Dataset\n",
        "--- | --- | ---\n",
        "medGAN | 120 $\\pm$ 8 | 24.1 $\\pm$ 0.2 |\n",
        "medBGAN | 146 $\\pm$ 6 | 20.7 $\\pm$ 0.5 |\n",
        "medWGAN | 22.1 $\\pm$ 0.4 | 15.2 $\\pm$ 0.3 |\n",
        "ScoEHR | 21.8 $\\pm$ 0.3 | 33.6 $\\pm$ 0.2 |"
      ]
    },
    {
      "cell_type": "code",
      "execution_count": null,
      "metadata": {
        "colab": {
          "base_uri": "https://localhost:8080/"
        },
        "id": "PXON4z3sosAs",
        "outputId": "8343bd44-6834-4e74-fc34-ae94636964e7"
      },
      "outputs": [
        {
          "output_type": "stream",
          "name": "stdout",
          "text": [
            "==> Showing results for 64 Autoencoder:\n",
            "PCD: 33.45\n",
            "Recreated results have 53.45% worse inter-dimensional relationships than the original.\n",
            "==> Showing results for 144 Autoencoder:\n",
            "PCD: 37.16\n",
            "Recreated results have 70.46% worse inter-dimensional relationships than the original.\n",
            "==> Showing results for 256 Autoencoder:\n",
            "PCD: 36.32\n",
            "Recreated results have 66.6% worse inter-dimensional relationships than the original.\n",
            "==> Showing results for 0 Autoencoder:\n",
            "PCD: 28.44\n",
            "Recreated results have 30.46% worse inter-dimensional relationships than the original.\n"
          ]
        }
      ],
      "source": [
        "PCD_results = {}\n",
        "for enc_out_dim in autoencoder_dims:\n",
        "    print(f'==> Showing results for {enc_out_dim} Autoencoder:')\n",
        "    synthetic = synthetic_records[enc_out_dim]\n",
        "\n",
        "    corr_real = torch.corrcoef(real.T)\n",
        "    corr_synthetic = torch.corrcoef(synthetic.T)\n",
        "\n",
        "    #This allows us to ignore the rows and columns with no variance (the nan values)\n",
        "    corr_real[torch.isnan(corr_real)] = 0\n",
        "    corr_synthetic[torch.isnan(corr_synthetic)] = 0\n",
        "\n",
        "    PCD = torch.norm(corr_real - corr_synthetic).item()\n",
        "    PCD_results[enc_out_dim] = PCD\n",
        "    PCD_original = 21.8\n",
        "    PCD_compare = round(((PCD - PCD_original) / abs(PCD_original)) * 100,2)\n",
        "    print(f\"PCD: {round(PCD, 2)}\")\n",
        "    if (PCD_compare < 0):\n",
        "      print(f\"Recreated results have {abs(PCD_compare)}% better inter-dimensional relationships than the original.\")\n",
        "    elif ((PCD_compare > 0)):\n",
        "      print(f\"Recreated results have {PCD_compare}% worse inter-dimensional relationships than the original.\")\n",
        "    else:\n",
        "      print(\"Recreated results have the same marginal inter-dimensional as the original.\")"
      ]
    },
    {
      "cell_type": "code",
      "source": [
        "PCD_results = {}\n",
        "for data_file in ablation_files:\n",
        "      print(f'==> Showing results for {data_file} ablation:')\n",
        "      synthetic = synthetic_records[data_file]\n",
        "\n",
        "      corr_real = torch.corrcoef(real.T)\n",
        "      corr_synthetic = torch.corrcoef(synthetic.T)\n",
        "\n",
        "      #This allows us to ignore the rows and columns with no variance (the nan values)\n",
        "      corr_real[torch.isnan(corr_real)] = 0\n",
        "      corr_synthetic[torch.isnan(corr_synthetic)] = 0\n",
        "\n",
        "      PCD = torch.norm(corr_real - corr_synthetic).item()\n",
        "      PCD_results[data_file] = PCD\n",
        "      PCD_original = 21.8\n",
        "      PCD_compare = round(((PCD - PCD_original) / abs(PCD_original)) * 100,2)\n",
        "      print(f\"PCD: {round(PCD, 2)}\")\n",
        "      if (PCD_compare < 0):\n",
        "        print(f\"Recreated results have {abs(PCD_compare)}% better inter-dimensional relationships than the original.\")\n",
        "      elif ((PCD_compare > 0)):\n",
        "        print(f\"Recreated results have {PCD_compare}% worse inter-dimensional relationships than the original.\")\n",
        "      else:\n",
        "        print(\"Recreated results have the same marginal inter-dimensional as the original.\")"
      ],
      "metadata": {
        "colab": {
          "base_uri": "https://localhost:8080/"
        },
        "id": "q6RobL8E2OCU",
        "outputId": "4e3bb9b4-f28e-4cf6-c836-f1431c90958b"
      },
      "execution_count": null,
      "outputs": [
        {
          "output_type": "stream",
          "name": "stdout",
          "text": [
            "==> Showing results for score_net_count_epoch12_lr0.001.npy ablation:\n",
            "PCD: 43.12\n",
            "Recreated results have 97.79% worse inter-dimensional relationships than the original.\n",
            "==> Showing results for score_net_count_epoch30_lr0.0005.npy ablation:\n",
            "PCD: 49.01\n",
            "Recreated results have 124.79% worse inter-dimensional relationships than the original.\n",
            "==> Showing results for score_net_count_epoch30_lr0.005.npy ablation:\n",
            "PCD: 131.93\n",
            "Recreated results have 505.2% worse inter-dimensional relationships than the original.\n",
            "==> Showing results for score_net_count_epoch30_lr0.001.npy ablation:\n",
            "PCD: 45.1\n",
            "Recreated results have 106.9% worse inter-dimensional relationships than the original.\n",
            "==> Showing results for score_net_count_epoch25_lr0.001.npy ablation:\n",
            "PCD: 53.14\n",
            "Recreated results have 143.76% worse inter-dimensional relationships than the original.\n",
            "==> Showing results for score_net_count_epoch100_lr0.001.npy ablation:\n",
            "PCD: 48.5\n",
            "Recreated results have 122.46% worse inter-dimensional relationships than the original.\n",
            "==> Showing results for score_net_count_epoch75_lr0.001.npy ablation:\n",
            "PCD: 49.64\n",
            "Recreated results have 127.72% worse inter-dimensional relationships than the original.\n",
            "==> Showing results for score_net_count_epoch50_lr0p001.pt.npy ablation:\n",
            "PCD: 51.15\n",
            "Recreated results have 134.63% worse inter-dimensional relationships than the original.\n",
            "==> Showing results for score_net_count_epoch30_lr0.00025.npy ablation:\n",
            "PCD: 44.3\n",
            "Recreated results have 103.23% worse inter-dimensional relationships than the original.\n",
            "==> Showing results for score_net_count_epoch30_lr0.0025.npy ablation:\n",
            "PCD: 51.77\n",
            "Recreated results have 137.49% worse inter-dimensional relationships than the original.\n"
          ]
        }
      ]
    },
    {
      "cell_type": "markdown",
      "metadata": {
        "id": "cdd4daca-3efd-4f98-9cb2-8adfc2b770bb"
      },
      "source": [
        "**1.3 Marginal and Correlation Similarity**\n",
        "\n",
        "Assessing the similarity of the latent structure of the real and synthetic datsets. This is obtained by concatenating both datasets and using k-means clustering to determine 'G' clusters.\n",
        "\n",
        "$$U = log(\\frac{1}{G})\\sum_{j=1}^G\\lbrack \\frac{n_j^R}{n_j} - c \\rbrack ^2$$\n",
        "* $G$ is the number of clusters\n",
        "\n",
        "* ${n_j^R}$ is the number of samples from the real dataset\n",
        "\n",
        "* ${n_j^S}$ is the number of samples from the synthetic dataset\n",
        "\n",
        "* ${n_j}$ is the number of samples in the j-th cluster\n",
        "* $c$ is $\\frac{n^R}{n^R + n^S} $\n",
        "\n",
        "\n",
        "A lower log-cluster score indicates more similarity between the synthetic and real data.\n",
        "\n",
        "---\n",
        "Results found in the paper:\n",
        "\n",
        "Model | MIMIC-III Dataset | ED EHR Dataset\n",
        "--- | --- | ---\n",
        "medGAN | -2.9 $\\pm$ 0.1 | -3.7 $\\pm$ 0.3 |\n",
        "medBGAN | -3.2 $\\pm$ 0.1 | -2.5 $\\pm$ 0.2 |\n",
        "medWGAN | -5.4 $\\pm$ 0.2 | -6.1 $\\pm$ 0.4 |\n",
        "ScoEHR | -6.0 $\\pm$ 0.1 | -7.8 $\\pm$ 0.5 |"
      ]
    },
    {
      "cell_type": "code",
      "execution_count": null,
      "metadata": {
        "colab": {
          "base_uri": "https://localhost:8080/"
        },
        "id": "L2cSg_N2UaFy",
        "outputId": "054c4b2c-7809-4217-9be7-98b77ad17435"
      },
      "outputs": [
        {
          "output_type": "stream",
          "name": "stdout",
          "text": [
            "==> Showing results for 64 Autoencoder:\n",
            "U: -2.83\n",
            "Recreated results have 52.75% worse similarity between the synthetic and real data than the original.\n",
            "==> Showing results for 144 Autoencoder:\n",
            "U: -4.95\n",
            "Recreated results have 17.5% worse similarity between the synthetic and real data than the original.\n",
            "==> Showing results for 256 Autoencoder:\n",
            "U: -5.11\n",
            "Recreated results have 14.78% worse similarity between the synthetic and real data than the original.\n",
            "==> Showing results for 0 Autoencoder:\n",
            "U: -2.84\n",
            "Recreated results have 52.71% worse similarity between the synthetic and real data than the original.\n"
          ]
        }
      ],
      "source": [
        "import sklearn.cluster\n",
        "G = 20\n",
        "\n",
        "U_results = {}\n",
        "for enc_out_dim in autoencoder_dims:\n",
        "    print(f'==> Showing results for {enc_out_dim} Autoencoder:')\n",
        "    synthetic = synthetic_records[enc_out_dim]\n",
        "    all = np.concatenate((real, synthetic))\n",
        "    kmeans_model = sklearn.cluster.KMeans(n_clusters=G, random_state=0, init='k-means++', n_init=10).fit(all)\n",
        "    kmeans_labels = kmeans_model.labels_\n",
        "    real_count_per_cluster = torch.tensor(np.bincount(kmeans_labels[0:len(real)]))\n",
        "    count_per_cluster = torch.tensor(np.bincount(kmeans_labels))\n",
        "\n",
        "    c = len(real) / (len(real) + len(synthetic))\n",
        "    U = float(math.log(1/G) * torch.sum(torch.pow((real_count_per_cluster/count_per_cluster) - c,2)))\n",
        "    U_results[enc_out_dim] = U\n",
        "    U_original = -6.0\n",
        "    U_compare = round(((U - U_original) / abs(U_original)) * 100,2)\n",
        "    print(f\"U: {round(U, 2)}\")\n",
        "    if (U_compare < 0):\n",
        "      print(f\"Recreated results have {abs(U_compare)}% better similarity between the synthetic and real data than the original.\")\n",
        "    elif ((U_compare > 0)):\n",
        "      print(f\"Recreated results have {U_compare}% worse similarity between the synthetic and real data than the original.\")\n",
        "    else:\n",
        "      print(\"Recreated results have the same similarity between the synthetic and real data as the original.\")"
      ]
    },
    {
      "cell_type": "code",
      "source": [
        "import sklearn.cluster\n",
        "G = 20\n",
        "\n",
        "U_results = {}\n",
        "for data_file in ablation_files:\n",
        "    print(f'==> Showing results for {data_file} Autoencoder:')\n",
        "    synthetic = synthetic_records[data_file]\n",
        "    all = np.concatenate((real, synthetic))\n",
        "    kmeans_model = sklearn.cluster.KMeans(n_clusters=G, random_state=0, init='k-means++', n_init=10).fit(all)\n",
        "    kmeans_labels = kmeans_model.labels_\n",
        "    real_count_per_cluster = torch.tensor(np.bincount(kmeans_labels[0:len(real)]))\n",
        "    count_per_cluster = torch.tensor(np.bincount(kmeans_labels))\n",
        "\n",
        "    c = len(real) / (len(real) + len(synthetic))\n",
        "    U = float(math.log(1/G) * torch.sum(torch.pow((real_count_per_cluster/count_per_cluster) - c,2)))\n",
        "    U_results[data_file] = U\n",
        "    U_original = -6.0\n",
        "    U_compare = round(((U - U_original) / abs(U_original)) * 100,2)\n",
        "    print(f\"U: {round(U, 2)}\")\n",
        "    if (U_compare < 0):\n",
        "      print(f\"Recreated results have {abs(U_compare)}% better similarity between the synthetic and real data than the original.\")\n",
        "    elif ((U_compare > 0)):\n",
        "      print(f\"Recreated results have {U_compare}% worse similarity between the synthetic and real data than the original.\")\n",
        "    else:\n",
        "      print(\"Recreated results have the same similarity between the synthetic and real data as the original.\")"
      ],
      "metadata": {
        "colab": {
          "base_uri": "https://localhost:8080/"
        },
        "id": "gNSTAZxl7rYy",
        "outputId": "c0793f64-ed0f-4e51-b310-79cb3e7c81bd"
      },
      "execution_count": null,
      "outputs": [
        {
          "output_type": "stream",
          "name": "stdout",
          "text": [
            "==> Showing results for score_net_count_epoch12_lr0.001.npy Autoencoder:\n",
            "U: -13.7\n",
            "Recreated results have 128.37% better similarity between the synthetic and real data than the original.\n",
            "==> Showing results for score_net_count_epoch30_lr0.0005.npy Autoencoder:\n",
            "U: -13.23\n",
            "Recreated results have 120.51% better similarity between the synthetic and real data than the original.\n",
            "==> Showing results for score_net_count_epoch30_lr0.005.npy Autoencoder:\n",
            "U: -28472.77\n",
            "Recreated results have 474446.19% better similarity between the synthetic and real data than the original.\n",
            "==> Showing results for score_net_count_epoch30_lr0.001.npy Autoencoder:\n",
            "U: -13.61\n",
            "Recreated results have 126.79% better similarity between the synthetic and real data than the original.\n",
            "==> Showing results for score_net_count_epoch25_lr0.001.npy Autoencoder:\n",
            "U: -12.95\n",
            "Recreated results have 115.86% better similarity between the synthetic and real data than the original.\n",
            "==> Showing results for score_net_count_epoch100_lr0.001.npy Autoencoder:\n",
            "U: -13.65\n",
            "Recreated results have 127.53% better similarity between the synthetic and real data than the original.\n",
            "==> Showing results for score_net_count_epoch75_lr0.001.npy Autoencoder:\n",
            "U: -13.12\n",
            "Recreated results have 118.7% better similarity between the synthetic and real data than the original.\n",
            "==> Showing results for score_net_count_epoch50_lr0p001.pt.npy Autoencoder:\n",
            "U: -13.47\n",
            "Recreated results have 124.42% better similarity between the synthetic and real data than the original.\n",
            "==> Showing results for score_net_count_epoch30_lr0.00025.npy Autoencoder:\n",
            "U: -13.39\n",
            "Recreated results have 123.22% better similarity between the synthetic and real data than the original.\n",
            "==> Showing results for score_net_count_epoch30_lr0.0025.npy Autoencoder:\n",
            "U: -13.42\n",
            "Recreated results have 123.62% better similarity between the synthetic and real data than the original.\n"
          ]
        }
      ]
    },
    {
      "cell_type": "markdown",
      "metadata": {
        "id": "7d2660b2-f506-4ff1-87dc-11e40c259cda"
      },
      "source": [
        "**1.4 Synthetic Ranking Agreement**\n",
        "\n",
        "Assessing the utility of the synethic data for use in downstream machine learning tasks by comparing results obtained through synthetic data and results obtained when using real data. This is obtained by training and testing a machine learning model using both real and synthetic data and finding their respective AUROC.\n",
        "\n",
        "$$SRA = \\frac{1}{L(L-1)}\\sum_{j=1}^L\\sum_{k\\ne j} \\mathbb{I} ((A_j-A_k)(B_j-B_k)) > 0$$\n",
        "\n",
        "* $L$ is the number of machine learning models\n",
        "* $A$ are a set of AUROC values for models trained and tested with real data\n",
        "* $B$ are  a set of AUROC values for\n",
        " models trained and tested with synthetic data\n",
        "* $\\mathbb{I}$ is the indicator function.\n",
        "\n",
        "A higher SRA indicates similarity in machine learning tasks.\n",
        "\n",
        "---\n",
        "Results found in the paper:\n",
        "\n",
        "Model | MIMIC-III Dataset | ED EHR Dataset\n",
        "--- | --- | ---\n",
        "medGAN | 0.83 $\\pm$ 0.02 | 0.81 $\\pm$ 0.02 |\n",
        "medBGAN | 0.86 $\\pm$ 0.03 | 0.85 $\\pm$ 0.03 |\n",
        "medWGAN | 0.81 $\\pm$ 0.03 | 0.83 $\\pm$ 0.04 |\n",
        "ScoEHR | 0.87 $\\pm$ 0.02 | 0.86 $\\pm$ 0.03 |"
      ]
    },
    {
      "cell_type": "code",
      "execution_count": null,
      "metadata": {
        "id": "e0523d15-f294-4be2-b1b1-310082fb9429"
      },
      "outputs": [],
      "source": [
        "# Waiting to implement until original paper can be properly recreated so proper machine learning task can be determined\n",
        "\n",
        "# #TODO: Consider using PyHealth to run basic, quick tasks and get AUROC\n",
        "# A = None\n",
        "# B = None\n",
        "\n",
        "# #https://www.statlect.com/fundamentals-of-probability/indicator-functions\n",
        "# SRA = None\n",
        "# print(f\"Synthetic Ranking Agreement: {SRA}\")\n",
        "# SRA_original = 0.87\n",
        "# SRA_compare = round(((SRA - SRA_original) / abs(SRA_original)) * 100,2)\n",
        "# if (SRA_compare > 0):\n",
        "#   print(f\"Recreated results have {SRA_compare}% better similarity in machine learning tasks than the original.\")\n",
        "# elif ((SRA_compare < 0)):\n",
        "#   print(f\"Recreated results have {abs(SRA_compare)}% worse similarity in machine learning tasks than the original.\")\n",
        "# else:\n",
        "#   print(\"Recreated results have the same similarity in machine learning tasks as the original.\")"
      ]
    },
    {
      "cell_type": "markdown",
      "metadata": {
        "id": "ebaaa065-ff5f-445f-ad2c-4a48abdf6d75"
      },
      "source": [
        "### 2. Qualitative Metrics\n",
        "**Clinician Review**\n",
        "\n",
        "A random mixed set of real and synthetic data was inspected to evaluate realism.\n",
        "\n",
        "---\n",
        "\n",
        "In the paper, 100 synthetic patients and 100 real patients were combined and label as 'realistic' or 'unrealistic' by 3 board certified clinicians.\n",
        "\n",
        "*   If a patient is considered 'unrealistic' if one clinician labeled them as such, 81% of real patients were labeled as real and 81% of synthetic patients were labeled as real\n",
        "*   If a patient is considered realistic if at least one clinician labeled them as realistic, 100% of real and synthetic patients were labeled realistic\n",
        "*   If a patient is considered realistic only if a majority of the 3 clinicians agreed, 93% of real patients were labeled as real and 95% of the synthetic patients were labeled as real\n",
        "---\n",
        "Note: We are not recreating this metric due to lack of connections with board certified clinicians. This metric is referenced for completeness.\n"
      ]
    },
    {
      "cell_type": "markdown",
      "metadata": {
        "id": "a3266b97-dfbc-495a-87cd-c05b6b7502b5"
      },
      "source": [
        "### 3. Privacy\n",
        "\n",
        "Assessing if, given a random sample of synthetic data and training data, it could be determined with likely probability that someone's data was used in the training. This is determined by calculating the Cosine Similarity between the real and synthetic data. If the probabliity is 50% or higher, the patients privacy is considered to be compromised."
      ]
    },
    {
      "cell_type": "code",
      "execution_count": null,
      "metadata": {
        "id": "Nko53m_qosAt",
        "outputId": "8e77a30f-5ea1-4b7a-899f-ace045328d36",
        "colab": {
          "base_uri": "https://localhost:8080/"
        }
      },
      "outputs": [
        {
          "output_type": "stream",
          "name": "stdout",
          "text": [
            "==> Showing results for 64 Autoencoder:\n",
            "Privacy is NOT protected for 2.15 % of patients\n",
            "==> Showing results for 144 Autoencoder:\n",
            "Privacy is NOT protected for 2.66 % of patients\n",
            "==> Showing results for 256 Autoencoder:\n",
            "Privacy is NOT protected for 2.77 % of patients\n",
            "==> Showing results for 0 Autoencoder:\n",
            "Privacy is NOT protected for 1.85 % of patients\n"
          ]
        }
      ],
      "source": [
        "Privacy_results = {}\n",
        "\n",
        "for enc_out_dim in autoencoder_dims:\n",
        "    print(f'==> Showing results for {enc_out_dim} Autoencoder:')\n",
        "    synthetic = synthetic_records[enc_out_dim]\n",
        "\n",
        "    cosine_sim = torch.nn.functional.cosine_similarity(real, synthetic, dim=1)\n",
        "    privacy = ((cosine_sim > 0.5).sum() / cosine_sim.shape[0]).item()\n",
        "    Privacy_results[enc_out_dim] = privacy\n",
        "    print(f\"Privacy is NOT protected for {round(privacy * 100, 2)} % of patients\")"
      ]
    },
    {
      "cell_type": "code",
      "source": [
        "Privacy_results = {}\n",
        "\n",
        "for data_file in ablation_files:\n",
        "    print(f'==> Showing results for {data_file} ablation:')\n",
        "    synthetic = synthetic_records[data_file]\n",
        "\n",
        "    cosine_sim = torch.nn.functional.cosine_similarity(real, synthetic, dim=1)\n",
        "    privacy = ((cosine_sim > 0.5).sum() / cosine_sim.shape[0]).item()\n",
        "    Privacy_results[data_file] = privacy\n",
        "    print(f\"Privacy is NOT protected for {round(privacy * 100, 2)} % of patients\")"
      ],
      "metadata": {
        "colab": {
          "base_uri": "https://localhost:8080/"
        },
        "id": "GKsZHUPNAWMf",
        "outputId": "6fcd4f6d-975d-43b1-96ab-1a10c9b4acda"
      },
      "execution_count": null,
      "outputs": [
        {
          "output_type": "stream",
          "name": "stdout",
          "text": [
            "==> Showing results for score_net_count_epoch12_lr0.001.npy ablation:\n",
            "Privacy is NOT protected for 3.38 % of patients\n",
            "==> Showing results for score_net_count_epoch30_lr0.0005.npy ablation:\n",
            "Privacy is NOT protected for 2.89 % of patients\n",
            "==> Showing results for score_net_count_epoch30_lr0.005.npy ablation:\n",
            "Privacy is NOT protected for 0.02 % of patients\n",
            "==> Showing results for score_net_count_epoch30_lr0.001.npy ablation:\n",
            "Privacy is NOT protected for 2.73 % of patients\n",
            "==> Showing results for score_net_count_epoch25_lr0.001.npy ablation:\n",
            "Privacy is NOT protected for 3.32 % of patients\n",
            "==> Showing results for score_net_count_epoch100_lr0.001.npy ablation:\n",
            "Privacy is NOT protected for 3.15 % of patients\n",
            "==> Showing results for score_net_count_epoch75_lr0.001.npy ablation:\n",
            "Privacy is NOT protected for 2.87 % of patients\n",
            "==> Showing results for score_net_count_epoch50_lr0p001.pt.npy ablation:\n",
            "Privacy is NOT protected for 3.04 % of patients\n",
            "==> Showing results for score_net_count_epoch30_lr0.00025.npy ablation:\n",
            "Privacy is NOT protected for 2.35 % of patients\n",
            "==> Showing results for score_net_count_epoch30_lr0.0025.npy ablation:\n",
            "Privacy is NOT protected for 3.43 % of patients\n"
          ]
        }
      ]
    },
    {
      "cell_type": "code",
      "source": [
        "for data_file in ablation_files:\n",
        "    print(f'==> Showing results for {data_file} ablation:')\n",
        "    print(synthetic_records[data_file].mean())\n",
        "for enc_out_dim in autoencoder_dims:\n",
        "    print(f'==> Showing results for {enc_out_dim} Autoencoder:')\n",
        "    print(synthetic_records[enc_out_dim].mean())\n",
        "print(\"==> Showing results for real data\")\n",
        "print(real.mean())"
      ],
      "metadata": {
        "colab": {
          "base_uri": "https://localhost:8080/"
        },
        "id": "Yyhdd9gjBZVC",
        "outputId": "c9419d75-cf3c-452f-a9d8-968664cb8bfa"
      },
      "execution_count": null,
      "outputs": [
        {
          "output_type": "stream",
          "name": "stdout",
          "text": [
            "==> Showing results for score_net_count_epoch12_lr0.001.npy ablation:\n",
            "tensor(0.0585)\n",
            "==> Showing results for score_net_count_epoch30_lr0.0005.npy ablation:\n",
            "tensor(0.0625)\n",
            "==> Showing results for score_net_count_epoch30_lr0.005.npy ablation:\n",
            "tensor(53.7648)\n",
            "==> Showing results for score_net_count_epoch30_lr0.001.npy ablation:\n",
            "tensor(0.0600)\n",
            "==> Showing results for score_net_count_epoch25_lr0.001.npy ablation:\n",
            "tensor(0.0557)\n",
            "==> Showing results for score_net_count_epoch100_lr0.001.npy ablation:\n",
            "tensor(0.0601)\n",
            "==> Showing results for score_net_count_epoch75_lr0.001.npy ablation:\n",
            "tensor(0.0610)\n",
            "==> Showing results for score_net_count_epoch50_lr0p001.pt.npy ablation:\n",
            "tensor(0.0588)\n",
            "==> Showing results for score_net_count_epoch30_lr0.00025.npy ablation:\n",
            "tensor(0.0620)\n",
            "==> Showing results for score_net_count_epoch30_lr0.0025.npy ablation:\n",
            "tensor(0.0580)\n",
            "==> Showing results for 64 Autoencoder:\n",
            "tensor(0.0106)\n",
            "==> Showing results for 144 Autoencoder:\n",
            "tensor(0.0085)\n",
            "==> Showing results for 256 Autoencoder:\n",
            "tensor(0.0083)\n",
            "==> Showing results for 0 Autoencoder:\n",
            "tensor(0.0128)\n",
            "==> Showing results for real data\n",
            "tensor(0.0131)\n"
          ]
        }
      ]
    },
    {
      "cell_type": "markdown",
      "source": [
        "#Summarized Results"
      ],
      "metadata": {
        "id": "lAnTjq6oG1iv"
      }
    },
    {
      "cell_type": "code",
      "source": [
        "# Paper results:\n",
        "# DDM: 0.0029 +/- 0.0001\n",
        "# PCD: 21.8 +/- 0.3\n",
        "# U: 0.0012\n",
        "DDM_results[\"Paper\"] = 0.0029\n",
        "PCD_results[\"Paper\"] = 21.8\n",
        "U_results[\"Paper\"] = -6.0\n",
        "Privacy_results[\"Paper\"] = 0\n",
        "DDM_results[\"Paper No AE\"] = 5\n",
        "PCD_results[\"Paper No AE\"] = 22.8\n",
        "U_results[\"Paper No AE\"] = -1.4\n",
        "Privacy_results[\"Paper No AE\"] = 0\n",
        "\n",
        "# Modified from: https://stackoverflow.com/questions/9535954/printing-lists-as-tabular-data\n",
        "\n",
        "def print_results_table(data, metric_list, model_list):\n",
        "    str_l = max(len(t) for t in metric_list)\n",
        "    header = [\" \"] + metric_list\n",
        "    print(\" |\".join(['{:>{length}s}'.format(t, length=str_l) for t in header]))\n",
        "\n",
        "    # Print the horizontal line\n",
        "    total_length = str_l * len(header) + 3 * (len(header) - 1)  # calculate total length of the line\n",
        "    print('-' * total_length)\n",
        "\n",
        "    for t, row in zip(model_list, data):\n",
        "        print(\" |\".join(['{:>{length}s}'.format(str(x), length=str_l) for x in [t] + row]))\n",
        "\n",
        "metric_list = [\"DDM\", \"PCD\", \"U\", \"Privacy (%)\"]\n",
        "data = []\n",
        "model_list = autoencoder_dims + [\"Paper\", \"Paper No AE\"]\n",
        "for enc_out_dim in model_list:\n",
        "    data_row = [round(DDM_results[enc_out_dim], 4),\n",
        "                round(PCD_results[enc_out_dim], 1),\n",
        "                round(U_results[enc_out_dim], 2),\n",
        "                round(Privacy_results[enc_out_dim] * 100, 2)]\n",
        "    data.append(data_row)\n",
        "\n",
        "\n",
        "print_results_table(data, metric_list, model_list)"
      ],
      "metadata": {
        "colab": {
          "base_uri": "https://localhost:8080/"
        },
        "id": "Uu06EitcG0Io",
        "outputId": "3cfaf051-4eff-40c7-97b6-996abe767ccc"
      },
      "execution_count": null,
      "outputs": [
        {
          "output_type": "stream",
          "name": "stdout",
          "text": [
            "            |        DDM |        PCD |          U |Privacy (%)\n",
            "-------------------------------------------------------------------\n",
            "         64 |     0.0022 |       32.2 |      -2.52 |       2.27\n",
            "        144 |     0.0021 |       36.1 |      -3.47 |        2.5\n",
            "        256 |      0.002 |       35.4 |      -1.93 |       2.77\n",
            "          0 |     0.0025 |       27.0 |      -0.54 |       1.73\n",
            "      Paper |     0.0029 |       21.8 |       -6.0 |          0\n",
            "Paper No AE |          5 |       22.8 |       -1.4 |          0\n"
          ]
        }
      ]
    },
    {
      "cell_type": "markdown",
      "metadata": {
        "id": "qH75TNU71eRH"
      },
      "source": [
        "#Discussion\n"
      ]
    },
    {
      "cell_type": "markdown",
      "metadata": {
        "id": "gX6bCcZNuxmz"
      },
      "source": [
        "**1. Results**\n",
        "\n",
        "Desipte some computaitonal limitations, we have been able to implement the preprocessing and model training on the full (MIMIC-III) data set, generate synthetic data, and test several of the evaluation metrics:\n",
        "\n",
        "- **Metric 1.1 (Dimensional Distribution Metric):**\n",
        " - Paper: $0.0029\\pm0.0001$\n",
        " - Our Results: $0.0012$\n",
        "- **Metric 1.2 (Pairwise Correlation Difference):**\n",
        " - Paper: $21.8\\pm0.3$\n",
        " - Our Results: ~$900$\n",
        "- **Metric 3 (Privacy):**\n",
        " - Paper: Privacy protected for 100% of patients\n",
        " - Our Results: Privacy protected for 99% of patients\n"
      ]
    },
    {
      "cell_type": "markdown",
      "metadata": {
        "id": "EQyuJN57ad4_"
      },
      "source": [
        "**2. Analysis**\n",
        "\n",
        "We have found the paper to be very accessible yet detailed, making it relatively painless to reproduce. Additionally, having access to the code and dataset used in the original paper helps immensly in reproducing results. So far we have found the most difficult part to be address compute limitations and determining how to implement fine details of the paper.  As a result we have had mixed results reproducing all of the metrics from the original paper.\n",
        "\n",
        "- **Metric 1.1 (Dimensional Distribution Metric):** While not exactly the same, our results were at least within the same order of magnitude of the results in the paper ($0.0029\\pm0.0001$ for the paper vs. $0.0012$ in our results) and in fact our results were better than those in the paper (lower is better).\n",
        "- **Metric 1.2 (Pairwise Correlation Difference):** Our results were significantly worse than the original paper ($21.8\\pm0.3$ in the paper vs. $~900$ in our results).\n",
        "- **Metric 1.3 (Marginal and Correlation Similarity):** Not yet implemented as we are currently focusing on reviewing the other metrics.\n",
        "- **Metric 1.4 (Synthetic Ranking Agreement):** Not yet implemented as we are currently focusing on reviewing the other metrics.\n",
        "- **Metric 3 (Privacy):** Our results determine that privacy was protected for ~99% of patients while the paper indicated that privacy was protected for all patients.\n",
        "\n",
        "Overall our metrics reveal that there is still a gap between our synthetic data and the synthetic data produced in the paper."
      ]
    },
    {
      "cell_type": "markdown",
      "metadata": {
        "id": "kiPTRltWaifH"
      },
      "source": [
        "**3. Plan**\n",
        "\n",
        " We plan on further debugging our code to determine if we can get results closer to the paper.  We plan to do this both by testing different hyperparameters as well as using a count representation of each ICD code instead of binary data representation of them.  Both of these options were included in the original paper's code without a note as to which would yield better results).  We will next finish implementing the evaluation metrics, testing various abalations, and implement the Synthetic Ranking Agreement metric."
      ]
    },
    {
      "cell_type": "markdown",
      "source": [
        "#Resources Used\n",
        "\n",
        "**Compute time (using Nvidia Tesla T4 GPU)**\n",
        "\n",
        "Autoencoder Features | Autoencoder Training | UNet (ScoreNet) Training | Synthetic Data Generation\n",
        "--- | --- | --- | ---\n",
        "No Autoencoder | N/A | 4.5 Hours | 8.5 Hours\n",
        "64 | 3.5 Minutes | 27 Minutes | 37 Minutes\n",
        "144 | 3.5 Minutes | 42 Minutes | 68 Minutes\n",
        "256 | 3.5 Minutes | 73 Minutes | 2 Hours\n",
        "\n",
        "**GPU RAM Usage (using Nvidia Tesla T4 GPU)**\n",
        "\n",
        "Autoencoder Features | Autoencoder Training | UNet (ScoreNet) Training | Synthetic Data Generation\n",
        "--- | --- | --- | ---\n",
        "No Autoencoder | N/A | 6.2 GB | 3.3 GB\n",
        "64 | 0.3 GB | 1.2 GB | 2.3 GB\n",
        "144 | 0.4 GB | 1.5 GB | 2.3 GB\n",
        "256 | 0.4 GB | 2.3 GB | 2.7 GB"
      ],
      "metadata": {
        "id": "dfXXb78Sj69V"
      }
    },
    {
      "cell_type": "markdown",
      "metadata": {
        "id": "SHMI2chl9omn"
      },
      "source": [
        "# References\n",
        "\n",
        "1.   A.A. Naseer et al, ScoEHR: Generating Synthetic Electronic Health Records\n",
        "using Continuous-time Diffusion Models, Proceedings of Machine Learning Research, 2023, 219:1–22, doi: https://static1.squarespace.com/static/59d5ac1780bd5ef9c396eda6/t/64d1aa32ed57852af9c0ad60/1691462195379/ID145_Research+Paper_2023.pdf\n",
        "(doi url could not be found)\n",
        "2. Where the log-cluster info comes from\n",
        "3. MedGAN\n",
        "4. MedBGAN\n",
        "5. MedWGAN\n",
        "\n"
      ]
    }
  ],
  "metadata": {
    "colab": {
      "provenance": [],
      "gpuType": "T4"
    },
    "kernelspec": {
      "display_name": "Python 3",
      "name": "python3"
    },
    "language_info": {
      "codemirror_mode": {
        "name": "ipython",
        "version": 3
      },
      "file_extension": ".py",
      "mimetype": "text/x-python",
      "name": "python",
      "nbconvert_exporter": "python",
      "pygments_lexer": "ipython3",
      "version": "3.10.14"
    },
    "accelerator": "GPU"
  },
  "nbformat": 4,
  "nbformat_minor": 0
}
